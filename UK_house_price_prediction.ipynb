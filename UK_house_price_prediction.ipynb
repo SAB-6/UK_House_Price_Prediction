{
  "nbformat": 4,
  "nbformat_minor": 0,
  "metadata": {
    "colab": {
      "name": "UK house price prediction.ipynb",
      "provenance": [],
      "collapsed_sections": [],
      "machine_shape": "hm"
    },
    "kernelspec": {
      "display_name": "Python 3",
      "language": "python",
      "name": "python3"
    },
    "language_info": {
      "codemirror_mode": {
        "name": "ipython",
        "version": 3
      },
      "file_extension": ".py",
      "mimetype": "text/x-python",
      "name": "python",
      "nbconvert_exporter": "python",
      "pygments_lexer": "ipython3",
      "version": "3.7.4"
    }
  },
  "cells": [
    {
      "cell_type": "markdown",
      "metadata": {
        "colab_type": "text",
        "id": "jaTYUQJQA3yE"
      },
      "source": [
        "## UK house price prediction Exploratory data analysis (EDA)\n",
        "#### Data Source: HM Land Registry Price Paid Data <a href=\"https://data.gov.uk/dataset/4c9b7641-cf73-4fd9-869a-4bfeed6d440e/hm-land-registry-price-paid-data\">Link<a/>"
      ]
    },
    {
      "cell_type": "markdown",
      "metadata": {
        "colab_type": "text",
        "id": "YZhwZeUWA3yI"
      },
      "source": [
        "_Author **Shereef Bankole**_\n",
        "<br/> **LinkedIn click** <a href=\"https://www.linkedin.com/in/shereef-b-b9aab823/\">Here<a/>\n",
        "<br/> **Github click**  <a href=\"https://github.com/SAB-6\">Here<a/>"
      ]
    },
    {
      "cell_type": "markdown",
      "metadata": {
        "id": "5vTwZMGNrzJa",
        "colab_type": "text"
      },
      "source": [
        "<img src=\"https://cdn.images.express.co.uk/img/dynamic/23/590x/BREXIT-HOUSE-PRICES-829811.jpg\"/>"
      ]
    },
    {
      "cell_type": "code",
      "metadata": {
        "colab_type": "code",
        "id": "cwZoP3yCBp_S",
        "outputId": "9b6695ed-8052-4470-b205-47f56b9e3dbb",
        "colab": {
          "base_uri": "https://localhost:8080/",
          "height": 34
        }
      },
      "source": [
        "from google.colab import drive\n",
        "drive.mount('/content/drive')"
      ],
      "execution_count": 2,
      "outputs": [
        {
          "output_type": "stream",
          "text": [
            "Drive already mounted at /content/drive; to attempt to forcibly remount, call drive.mount(\"/content/drive\", force_remount=True).\n"
          ],
          "name": "stdout"
        }
      ]
    },
    {
      "cell_type": "code",
      "metadata": {
        "colab_type": "code",
        "id": "jfgR5Qb5Cf3l",
        "colab": {}
      },
      "source": [
        "import numpy as np\n",
        "import os\n",
        "import pandas as pd\n",
        "import matplotlib.pyplot as plt\n",
        "import seaborn as sns\n",
        "import warnings\n",
        "warnings.filterwarnings('ignore')\n",
        "%matplotlib inline\n",
        "from sklearn.pipeline import make_pipeline \n",
        "from sklearn.model_selection import train_test_split\n",
        "from sklearn.metrics import mean_squared_log_error\n",
        "from sklearn.compose import make_column_transformer\n",
        "from sklearn.preprocessing import StandardScaler\n",
        "from sklearn.linear_model import LinearRegression,SGDRegressor, Lasso, ElasticNet\n",
        "from sklearn.ensemble import RandomForestRegressor, GradientBoostingRegressor"
      ],
      "execution_count": 0,
      "outputs": []
    },
    {
      "cell_type": "code",
      "metadata": {
        "colab_type": "code",
        "id": "9Dli3RDSCQn2",
        "colab": {}
      },
      "source": [
        "root_directory = '.'\n",
        "#file_path = os.path.join (root_directory, 'drive', 'My Drive', 'pp-complete.csv')"
      ],
      "execution_count": 0,
      "outputs": []
    },
    {
      "cell_type": "code",
      "metadata": {
        "id": "dQpW48jMteYb",
        "colab_type": "code",
        "colab": {}
      },
      "source": [
        "root_directory = '.'\n",
        "file_path = os.path.join (root_directory, 'drive', 'My Drive', 'uk_house_price_data.csv')"
      ],
      "execution_count": 0,
      "outputs": []
    },
    {
      "cell_type": "code",
      "metadata": {
        "id": "fWls3PXRs-Uy",
        "colab_type": "code",
        "colab": {}
      },
      "source": [
        "df = pd.read_csv(file_path)"
      ],
      "execution_count": 0,
      "outputs": []
    },
    {
      "cell_type": "markdown",
      "metadata": {
        "colab_type": "text",
        "id": "zVoKX4dmA3yQ"
      },
      "source": [
        "### Import data and extract relevant columns"
      ]
    },
    {
      "cell_type": "code",
      "metadata": {
        "colab_type": "code",
        "id": "sJqxcJ25A3yR",
        "colab": {}
      },
      "source": [
        "df=pd.read_csv(file_path, chunksize=100000, header=None)"
      ],
      "execution_count": 0,
      "outputs": []
    },
    {
      "cell_type": "code",
      "metadata": {
        "colab_type": "code",
        "id": "HiWZGx1zA3yU",
        "colab": {}
      },
      "source": [
        "chunk_list=[]\n",
        "for chunk in df:\n",
        "    chunk_filter=chunk.loc[:,[1,2,4,5,6,11]]\n",
        "    chunk_list.append(chunk_filter)\n",
        "df=pd.concat(chunk_list)"
      ],
      "execution_count": 0,
      "outputs": []
    },
    {
      "cell_type": "markdown",
      "metadata": {
        "colab_type": "text",
        "id": "uGGPsNzaA3yY"
      },
      "source": [
        "### Set the columns heading"
      ]
    },
    {
      "cell_type": "code",
      "metadata": {
        "colab_type": "code",
        "id": "8UiFng7KA3yZ",
        "colab": {}
      },
      "source": [
        "df.columns=[['Price','Date_of_Transfer','Property_Type','Odd/New', 'Duration','City']]"
      ],
      "execution_count": 0,
      "outputs": []
    },
    {
      "cell_type": "markdown",
      "metadata": {
        "colab_type": "text",
        "id": "uhe5FU4UA3yc"
      },
      "source": [
        "### Preview the data"
      ]
    },
    {
      "cell_type": "code",
      "metadata": {
        "colab_type": "code",
        "id": "xPaxnOR5A3yc",
        "outputId": "19b6ce61-0527-4879-b3c8-a77bf0ce3da7",
        "colab": {
          "base_uri": "https://localhost:8080/",
          "height": 204
        }
      },
      "source": [
        "df.head(5)"
      ],
      "execution_count": 0,
      "outputs": [
        {
          "output_type": "execute_result",
          "data": {
            "text/html": [
              "<div>\n",
              "<style scoped>\n",
              "    .dataframe tbody tr th:only-of-type {\n",
              "        vertical-align: middle;\n",
              "    }\n",
              "\n",
              "    .dataframe tbody tr th {\n",
              "        vertical-align: top;\n",
              "    }\n",
              "\n",
              "    .dataframe thead tr th {\n",
              "        text-align: left;\n",
              "    }\n",
              "</style>\n",
              "<table border=\"1\" class=\"dataframe\">\n",
              "  <thead>\n",
              "    <tr>\n",
              "      <th></th>\n",
              "      <th>Price</th>\n",
              "      <th>Date_of_Transfer</th>\n",
              "      <th>Property_Type</th>\n",
              "      <th>Odd/New</th>\n",
              "      <th>Duration</th>\n",
              "      <th>City</th>\n",
              "    </tr>\n",
              "  </thead>\n",
              "  <tbody>\n",
              "    <tr>\n",
              "      <th>0</th>\n",
              "      <td>42000</td>\n",
              "      <td>1995-12-21 00:00</td>\n",
              "      <td>S</td>\n",
              "      <td>N</td>\n",
              "      <td>F</td>\n",
              "      <td>NEWCASTLE UPON TYNE</td>\n",
              "    </tr>\n",
              "    <tr>\n",
              "      <th>1</th>\n",
              "      <td>95000</td>\n",
              "      <td>1995-03-03 00:00</td>\n",
              "      <td>S</td>\n",
              "      <td>N</td>\n",
              "      <td>F</td>\n",
              "      <td>GRAYS</td>\n",
              "    </tr>\n",
              "    <tr>\n",
              "      <th>2</th>\n",
              "      <td>74950</td>\n",
              "      <td>1995-10-03 00:00</td>\n",
              "      <td>D</td>\n",
              "      <td>Y</td>\n",
              "      <td>F</td>\n",
              "      <td>MIDDLEWICH</td>\n",
              "    </tr>\n",
              "    <tr>\n",
              "      <th>3</th>\n",
              "      <td>43500</td>\n",
              "      <td>1995-11-14 00:00</td>\n",
              "      <td>S</td>\n",
              "      <td>N</td>\n",
              "      <td>F</td>\n",
              "      <td>BILLINGHAM</td>\n",
              "    </tr>\n",
              "    <tr>\n",
              "      <th>4</th>\n",
              "      <td>63000</td>\n",
              "      <td>1995-09-08 00:00</td>\n",
              "      <td>S</td>\n",
              "      <td>N</td>\n",
              "      <td>F</td>\n",
              "      <td>CLEATOR MOOR</td>\n",
              "    </tr>\n",
              "  </tbody>\n",
              "</table>\n",
              "</div>"
            ],
            "text/plain": [
              "   Price  Date_of_Transfer Property_Type Odd/New Duration                 City\n",
              "0  42000  1995-12-21 00:00             S       N        F  NEWCASTLE UPON TYNE\n",
              "1  95000  1995-03-03 00:00             S       N        F                GRAYS\n",
              "2  74950  1995-10-03 00:00             D       Y        F           MIDDLEWICH\n",
              "3  43500  1995-11-14 00:00             S       N        F           BILLINGHAM\n",
              "4  63000  1995-09-08 00:00             S       N        F         CLEATOR MOOR"
            ]
          },
          "metadata": {
            "tags": []
          },
          "execution_count": 14
        }
      ]
    },
    {
      "cell_type": "code",
      "metadata": {
        "colab_type": "code",
        "id": "b0k4-geSA3yh",
        "outputId": "900d752d-b5e3-44b5-90f3-7f66745eb9fd",
        "colab": {
          "base_uri": "https://localhost:8080/",
          "height": 204
        }
      },
      "source": [
        "df.tail(5)"
      ],
      "execution_count": 0,
      "outputs": [
        {
          "output_type": "execute_result",
          "data": {
            "text/html": [
              "<div>\n",
              "<style scoped>\n",
              "    .dataframe tbody tr th:only-of-type {\n",
              "        vertical-align: middle;\n",
              "    }\n",
              "\n",
              "    .dataframe tbody tr th {\n",
              "        vertical-align: top;\n",
              "    }\n",
              "\n",
              "    .dataframe thead tr th {\n",
              "        text-align: left;\n",
              "    }\n",
              "</style>\n",
              "<table border=\"1\" class=\"dataframe\">\n",
              "  <thead>\n",
              "    <tr>\n",
              "      <th></th>\n",
              "      <th>Price</th>\n",
              "      <th>Date_of_Transfer</th>\n",
              "      <th>Property_Type</th>\n",
              "      <th>Odd/New</th>\n",
              "      <th>Duration</th>\n",
              "      <th>City</th>\n",
              "    </tr>\n",
              "  </thead>\n",
              "  <tbody>\n",
              "    <tr>\n",
              "      <th>24678169</th>\n",
              "      <td>365000</td>\n",
              "      <td>2019-08-09 00:00</td>\n",
              "      <td>D</td>\n",
              "      <td>N</td>\n",
              "      <td>F</td>\n",
              "      <td>CHRISTCHURCH</td>\n",
              "    </tr>\n",
              "    <tr>\n",
              "      <th>24678170</th>\n",
              "      <td>205000</td>\n",
              "      <td>2019-07-19 00:00</td>\n",
              "      <td>F</td>\n",
              "      <td>N</td>\n",
              "      <td>L</td>\n",
              "      <td>BOURNEMOUTH</td>\n",
              "    </tr>\n",
              "    <tr>\n",
              "      <th>24678171</th>\n",
              "      <td>463000</td>\n",
              "      <td>2019-07-24 00:00</td>\n",
              "      <td>D</td>\n",
              "      <td>N</td>\n",
              "      <td>F</td>\n",
              "      <td>FERNDOWN</td>\n",
              "    </tr>\n",
              "    <tr>\n",
              "      <th>24678172</th>\n",
              "      <td>245000</td>\n",
              "      <td>2019-08-05 00:00</td>\n",
              "      <td>D</td>\n",
              "      <td>N</td>\n",
              "      <td>F</td>\n",
              "      <td>POOLE</td>\n",
              "    </tr>\n",
              "    <tr>\n",
              "      <th>24678173</th>\n",
              "      <td>320000</td>\n",
              "      <td>2019-07-26 00:00</td>\n",
              "      <td>D</td>\n",
              "      <td>N</td>\n",
              "      <td>F</td>\n",
              "      <td>GILLINGHAM</td>\n",
              "    </tr>\n",
              "  </tbody>\n",
              "</table>\n",
              "</div>"
            ],
            "text/plain": [
              "           Price  Date_of_Transfer Property_Type Odd/New Duration          City\n",
              "24678169  365000  2019-08-09 00:00             D       N        F  CHRISTCHURCH\n",
              "24678170  205000  2019-07-19 00:00             F       N        L   BOURNEMOUTH\n",
              "24678171  463000  2019-07-24 00:00             D       N        F      FERNDOWN\n",
              "24678172  245000  2019-08-05 00:00             D       N        F         POOLE\n",
              "24678173  320000  2019-07-26 00:00             D       N        F    GILLINGHAM"
            ]
          },
          "metadata": {
            "tags": []
          },
          "execution_count": 15
        }
      ]
    },
    {
      "cell_type": "code",
      "metadata": {
        "colab_type": "code",
        "id": "L9yoNHbcA3yj",
        "outputId": "46598e7c-1918-48b6-9d5b-a10d4d9c31b9",
        "colab": {
          "base_uri": "https://localhost:8080/",
          "height": 34
        }
      },
      "source": [
        "df.shape"
      ],
      "execution_count": 0,
      "outputs": [
        {
          "output_type": "execute_result",
          "data": {
            "text/plain": [
              "(24678174, 6)"
            ]
          },
          "metadata": {
            "tags": []
          },
          "execution_count": 16
        }
      ]
    },
    {
      "cell_type": "markdown",
      "metadata": {
        "colab_type": "text",
        "id": "_JigR4a0A3yn"
      },
      "source": [
        "For consitency all column headings should be converted to strings"
      ]
    },
    {
      "cell_type": "code",
      "metadata": {
        "colab_type": "code",
        "id": "VpK57Ma8A3yq",
        "colab": {}
      },
      "source": [
        "df.columns = list(map(str, df.columns))"
      ],
      "execution_count": 0,
      "outputs": []
    },
    {
      "cell_type": "code",
      "metadata": {
        "colab_type": "code",
        "id": "AbKy5CulA3ys",
        "outputId": "2747daec-065e-46f8-b121-be50d0a8e4a6",
        "colab": {
          "base_uri": "https://localhost:8080/",
          "height": 34
        }
      },
      "source": [
        "all(isinstance(column, str) for column in df.columns)"
      ],
      "execution_count": 0,
      "outputs": [
        {
          "output_type": "execute_result",
          "data": {
            "text/plain": [
              "True"
            ]
          },
          "metadata": {
            "tags": []
          },
          "execution_count": 12
        }
      ]
    },
    {
      "cell_type": "code",
      "metadata": {
        "colab_type": "code",
        "id": "KkHXWN2KA3yv",
        "outputId": "90e7475b-1f95-411c-ab71-76dcd034a3f9",
        "colab": {
          "base_uri": "https://localhost:8080/",
          "height": 204
        }
      },
      "source": [
        "df.head()"
      ],
      "execution_count": 0,
      "outputs": [
        {
          "output_type": "execute_result",
          "data": {
            "text/html": [
              "<div>\n",
              "<style scoped>\n",
              "    .dataframe tbody tr th:only-of-type {\n",
              "        vertical-align: middle;\n",
              "    }\n",
              "\n",
              "    .dataframe tbody tr th {\n",
              "        vertical-align: top;\n",
              "    }\n",
              "\n",
              "    .dataframe thead th {\n",
              "        text-align: right;\n",
              "    }\n",
              "</style>\n",
              "<table border=\"1\" class=\"dataframe\">\n",
              "  <thead>\n",
              "    <tr style=\"text-align: right;\">\n",
              "      <th></th>\n",
              "      <th>('Price',)</th>\n",
              "      <th>('Date_of_Transfer',)</th>\n",
              "      <th>('Property_Type',)</th>\n",
              "      <th>('Odd/New',)</th>\n",
              "      <th>('Duration',)</th>\n",
              "      <th>('City',)</th>\n",
              "    </tr>\n",
              "  </thead>\n",
              "  <tbody>\n",
              "    <tr>\n",
              "      <th>0</th>\n",
              "      <td>42000</td>\n",
              "      <td>1995-12-21 00:00</td>\n",
              "      <td>S</td>\n",
              "      <td>N</td>\n",
              "      <td>F</td>\n",
              "      <td>NEWCASTLE UPON TYNE</td>\n",
              "    </tr>\n",
              "    <tr>\n",
              "      <th>1</th>\n",
              "      <td>95000</td>\n",
              "      <td>1995-03-03 00:00</td>\n",
              "      <td>S</td>\n",
              "      <td>N</td>\n",
              "      <td>F</td>\n",
              "      <td>GRAYS</td>\n",
              "    </tr>\n",
              "    <tr>\n",
              "      <th>2</th>\n",
              "      <td>74950</td>\n",
              "      <td>1995-10-03 00:00</td>\n",
              "      <td>D</td>\n",
              "      <td>Y</td>\n",
              "      <td>F</td>\n",
              "      <td>MIDDLEWICH</td>\n",
              "    </tr>\n",
              "    <tr>\n",
              "      <th>3</th>\n",
              "      <td>43500</td>\n",
              "      <td>1995-11-14 00:00</td>\n",
              "      <td>S</td>\n",
              "      <td>N</td>\n",
              "      <td>F</td>\n",
              "      <td>BILLINGHAM</td>\n",
              "    </tr>\n",
              "    <tr>\n",
              "      <th>4</th>\n",
              "      <td>63000</td>\n",
              "      <td>1995-09-08 00:00</td>\n",
              "      <td>S</td>\n",
              "      <td>N</td>\n",
              "      <td>F</td>\n",
              "      <td>CLEATOR MOOR</td>\n",
              "    </tr>\n",
              "  </tbody>\n",
              "</table>\n",
              "</div>"
            ],
            "text/plain": [
              "   ('Price',) ('Date_of_Transfer',)  ... ('Duration',)            ('City',)\n",
              "0       42000      1995-12-21 00:00  ...             F  NEWCASTLE UPON TYNE\n",
              "1       95000      1995-03-03 00:00  ...             F                GRAYS\n",
              "2       74950      1995-10-03 00:00  ...             F           MIDDLEWICH\n",
              "3       43500      1995-11-14 00:00  ...             F           BILLINGHAM\n",
              "4       63000      1995-09-08 00:00  ...             F         CLEATOR MOOR\n",
              "\n",
              "[5 rows x 6 columns]"
            ]
          },
          "metadata": {
            "tags": []
          },
          "execution_count": 12
        }
      ]
    },
    {
      "cell_type": "markdown",
      "metadata": {
        "colab_type": "text",
        "id": "H-QAupx9A3yx"
      },
      "source": [
        "The column headings now look messy and in order to be able to use .column notation they require some cleaning up"
      ]
    },
    {
      "cell_type": "code",
      "metadata": {
        "colab_type": "code",
        "id": "L0SzcA7uA3yz",
        "colab": {}
      },
      "source": [
        "df.columns=df.columns.str.replace(\"(\",\"\").str.replace(\"'\",\"\").str.replace(\",\",\"\").str.replace(\")\",\"\")"
      ],
      "execution_count": 0,
      "outputs": []
    },
    {
      "cell_type": "code",
      "metadata": {
        "colab_type": "code",
        "id": "hFrqVpqPA3y1",
        "outputId": "f7cfcc58-654a-4d79-abfa-4b9f4ec3e32d",
        "colab": {
          "base_uri": "https://localhost:8080/",
          "height": 204
        }
      },
      "source": [
        "df.head()"
      ],
      "execution_count": 0,
      "outputs": [
        {
          "output_type": "execute_result",
          "data": {
            "text/html": [
              "<div>\n",
              "<style scoped>\n",
              "    .dataframe tbody tr th:only-of-type {\n",
              "        vertical-align: middle;\n",
              "    }\n",
              "\n",
              "    .dataframe tbody tr th {\n",
              "        vertical-align: top;\n",
              "    }\n",
              "\n",
              "    .dataframe thead th {\n",
              "        text-align: right;\n",
              "    }\n",
              "</style>\n",
              "<table border=\"1\" class=\"dataframe\">\n",
              "  <thead>\n",
              "    <tr style=\"text-align: right;\">\n",
              "      <th></th>\n",
              "      <th>Price</th>\n",
              "      <th>Date_of_Transfer</th>\n",
              "      <th>Property_Type</th>\n",
              "      <th>Odd/New</th>\n",
              "      <th>Duration</th>\n",
              "      <th>City</th>\n",
              "    </tr>\n",
              "  </thead>\n",
              "  <tbody>\n",
              "    <tr>\n",
              "      <th>0</th>\n",
              "      <td>42000</td>\n",
              "      <td>1995-12-21 00:00</td>\n",
              "      <td>S</td>\n",
              "      <td>N</td>\n",
              "      <td>F</td>\n",
              "      <td>NEWCASTLE UPON TYNE</td>\n",
              "    </tr>\n",
              "    <tr>\n",
              "      <th>1</th>\n",
              "      <td>95000</td>\n",
              "      <td>1995-03-03 00:00</td>\n",
              "      <td>S</td>\n",
              "      <td>N</td>\n",
              "      <td>F</td>\n",
              "      <td>GRAYS</td>\n",
              "    </tr>\n",
              "    <tr>\n",
              "      <th>2</th>\n",
              "      <td>74950</td>\n",
              "      <td>1995-10-03 00:00</td>\n",
              "      <td>D</td>\n",
              "      <td>Y</td>\n",
              "      <td>F</td>\n",
              "      <td>MIDDLEWICH</td>\n",
              "    </tr>\n",
              "    <tr>\n",
              "      <th>3</th>\n",
              "      <td>43500</td>\n",
              "      <td>1995-11-14 00:00</td>\n",
              "      <td>S</td>\n",
              "      <td>N</td>\n",
              "      <td>F</td>\n",
              "      <td>BILLINGHAM</td>\n",
              "    </tr>\n",
              "    <tr>\n",
              "      <th>4</th>\n",
              "      <td>63000</td>\n",
              "      <td>1995-09-08 00:00</td>\n",
              "      <td>S</td>\n",
              "      <td>N</td>\n",
              "      <td>F</td>\n",
              "      <td>CLEATOR MOOR</td>\n",
              "    </tr>\n",
              "  </tbody>\n",
              "</table>\n",
              "</div>"
            ],
            "text/plain": [
              "   Price  Date_of_Transfer Property_Type Odd/New Duration                 City\n",
              "0  42000  1995-12-21 00:00             S       N        F  NEWCASTLE UPON TYNE\n",
              "1  95000  1995-03-03 00:00             S       N        F                GRAYS\n",
              "2  74950  1995-10-03 00:00             D       Y        F           MIDDLEWICH\n",
              "3  43500  1995-11-14 00:00             S       N        F           BILLINGHAM\n",
              "4  63000  1995-09-08 00:00             S       N        F         CLEATOR MOOR"
            ]
          },
          "metadata": {
            "tags": []
          },
          "execution_count": 19
        }
      ]
    },
    {
      "cell_type": "code",
      "metadata": {
        "colab_type": "code",
        "id": "1d0ZzkY0SoD6",
        "colab": {}
      },
      "source": [
        "#pd.DataFrame(df.City.value_counts()).to_csv(os.path.join(root_directory,'drive','My Drive','unique_towns.csv'))"
      ],
      "execution_count": 0,
      "outputs": []
    },
    {
      "cell_type": "code",
      "metadata": {
        "colab_type": "code",
        "id": "DeOGCrNZVdXb",
        "colab": {}
      },
      "source": [
        "cities = pd.DataFrame(df.City.value_counts())"
      ],
      "execution_count": 0,
      "outputs": []
    },
    {
      "cell_type": "code",
      "metadata": {
        "colab_type": "code",
        "id": "jMZUZfcpPleE",
        "outputId": "2a1b3466-c14e-4f49-ab3c-a12da3164961",
        "colab": {
          "base_uri": "https://localhost:8080/",
          "height": 204
        }
      },
      "source": [
        "cities.head()"
      ],
      "execution_count": 0,
      "outputs": [
        {
          "output_type": "execute_result",
          "data": {
            "text/html": [
              "<div>\n",
              "<style scoped>\n",
              "    .dataframe tbody tr th:only-of-type {\n",
              "        vertical-align: middle;\n",
              "    }\n",
              "\n",
              "    .dataframe tbody tr th {\n",
              "        vertical-align: top;\n",
              "    }\n",
              "\n",
              "    .dataframe thead th {\n",
              "        text-align: right;\n",
              "    }\n",
              "</style>\n",
              "<table border=\"1\" class=\"dataframe\">\n",
              "  <thead>\n",
              "    <tr style=\"text-align: right;\">\n",
              "      <th></th>\n",
              "      <th>City</th>\n",
              "    </tr>\n",
              "  </thead>\n",
              "  <tbody>\n",
              "    <tr>\n",
              "      <th>LONDON</th>\n",
              "      <td>1922913</td>\n",
              "    </tr>\n",
              "    <tr>\n",
              "      <th>MANCHESTER</th>\n",
              "      <td>403836</td>\n",
              "    </tr>\n",
              "    <tr>\n",
              "      <th>BRISTOL</th>\n",
              "      <td>379231</td>\n",
              "    </tr>\n",
              "    <tr>\n",
              "      <th>BIRMINGHAM</th>\n",
              "      <td>363862</td>\n",
              "    </tr>\n",
              "    <tr>\n",
              "      <th>NOTTINGHAM</th>\n",
              "      <td>322608</td>\n",
              "    </tr>\n",
              "  </tbody>\n",
              "</table>\n",
              "</div>"
            ],
            "text/plain": [
              "               City\n",
              "LONDON      1922913\n",
              "MANCHESTER   403836\n",
              "BRISTOL      379231\n",
              "BIRMINGHAM   363862\n",
              "NOTTINGHAM   322608"
            ]
          },
          "metadata": {
            "tags": []
          },
          "execution_count": 21
        }
      ]
    },
    {
      "cell_type": "code",
      "metadata": {
        "colab_type": "code",
        "id": "l4hkTPbEPBzu",
        "colab": {}
      },
      "source": [
        "#_=cities.sort_values(by='City', ascending=False).head(10).plot(kind='barh', color= 'green', figsize=(12,8))\n",
        "#plt.title('Number of houses per cities')\n",
        "#plt.xlabel('Counts')\n",
        "#plt.ylabel('cities')"
      ],
      "execution_count": 0,
      "outputs": []
    },
    {
      "cell_type": "code",
      "metadata": {
        "colab_type": "code",
        "id": "QugyfTS5d6Rg",
        "colab": {}
      },
      "source": [
        "towns=list(cities.index)"
      ],
      "execution_count": 0,
      "outputs": []
    },
    {
      "cell_type": "code",
      "metadata": {
        "colab_type": "code",
        "id": "Y7LI02_rDwCh",
        "colab": {}
      },
      "source": [
        "import requests\n",
        "url = 'http://api.openweathermap.org/data/2.5/weather'\n",
        "key = '************************'\n",
        "latitude_longitude={}\n",
        "for town in towns:\n",
        "  full_url = url+'?apikey='+ key+'&q='+ town + '&units=metric'\n",
        "  response = requests.get(full_url).json()\n",
        "  try:\n",
        "      latitude_longitude[town] = {'latitude': response['coord']['lat'], 'longitude': response['coord']['lon']}\n",
        "  except:\n",
        "    print(town)\n",
        "\n",
        "lat_long= pd.DataFrame(latitude_longitude).transpose()"
      ],
      "execution_count": 0,
      "outputs": []
    },
    {
      "cell_type": "code",
      "metadata": {
        "colab_type": "code",
        "id": "H0g2PRXVHQks",
        "colab": {}
      },
      "source": [
        "lat_long.to_csv(os.path.join(root_directory,'drive','My Drive','lat_long.csv'))"
      ],
      "execution_count": 0,
      "outputs": []
    },
    {
      "cell_type": "code",
      "metadata": {
        "colab_type": "code",
        "id": "lrq2TbsaSetd",
        "colab": {}
      },
      "source": [
        "lat_long_new = pd.read_excel(os.path.join(root_directory,'drive','My Drive','lat_lg.xlsx'))"
      ],
      "execution_count": 0,
      "outputs": []
    },
    {
      "cell_type": "code",
      "metadata": {
        "colab_type": "code",
        "id": "NZkvzaiebQfT",
        "outputId": "e0f71eed-cf3c-479b-dc85-0b3f4c3a75f3",
        "colab": {
          "base_uri": "https://localhost:8080/",
          "height": 204
        }
      },
      "source": [
        "lat_long_new.columns =[['City', 'Latitude', 'Longitude']]\n",
        "lat_long_new.head()"
      ],
      "execution_count": 0,
      "outputs": [
        {
          "output_type": "execute_result",
          "data": {
            "text/html": [
              "<div>\n",
              "<style scoped>\n",
              "    .dataframe tbody tr th:only-of-type {\n",
              "        vertical-align: middle;\n",
              "    }\n",
              "\n",
              "    .dataframe tbody tr th {\n",
              "        vertical-align: top;\n",
              "    }\n",
              "\n",
              "    .dataframe thead tr th {\n",
              "        text-align: left;\n",
              "    }\n",
              "</style>\n",
              "<table border=\"1\" class=\"dataframe\">\n",
              "  <thead>\n",
              "    <tr>\n",
              "      <th></th>\n",
              "      <th>City</th>\n",
              "      <th>Latitude</th>\n",
              "      <th>Longitude</th>\n",
              "    </tr>\n",
              "  </thead>\n",
              "  <tbody>\n",
              "    <tr>\n",
              "      <th>0</th>\n",
              "      <td>LONDON</td>\n",
              "      <td>51.51</td>\n",
              "      <td>-0.13</td>\n",
              "    </tr>\n",
              "    <tr>\n",
              "      <th>1</th>\n",
              "      <td>MANCHESTER</td>\n",
              "      <td>53.48</td>\n",
              "      <td>-2.24</td>\n",
              "    </tr>\n",
              "    <tr>\n",
              "      <th>2</th>\n",
              "      <td>BRISTOL</td>\n",
              "      <td>41.83</td>\n",
              "      <td>-71.17</td>\n",
              "    </tr>\n",
              "    <tr>\n",
              "      <th>3</th>\n",
              "      <td>BIRMINGHAM</td>\n",
              "      <td>33.52</td>\n",
              "      <td>-86.8</td>\n",
              "    </tr>\n",
              "    <tr>\n",
              "      <th>4</th>\n",
              "      <td>NOTTINGHAM</td>\n",
              "      <td>52.95</td>\n",
              "      <td>-1.15</td>\n",
              "    </tr>\n",
              "  </tbody>\n",
              "</table>\n",
              "</div>"
            ],
            "text/plain": [
              "         City Latitude Longitude\n",
              "0      LONDON    51.51     -0.13\n",
              "1  MANCHESTER    53.48     -2.24\n",
              "2     BRISTOL    41.83    -71.17\n",
              "3  BIRMINGHAM    33.52     -86.8\n",
              "4  NOTTINGHAM    52.95     -1.15"
            ]
          },
          "metadata": {
            "tags": []
          },
          "execution_count": 21
        }
      ]
    },
    {
      "cell_type": "code",
      "metadata": {
        "colab_type": "code",
        "id": "Zq_SXOVQgxj5",
        "colab": {}
      },
      "source": [
        "#all(isinstance(column, str) for column in lat_long_new.columns)\n",
        "lat_long_new.columns = list(map(str, lat_long_new.columns))"
      ],
      "execution_count": 0,
      "outputs": []
    },
    {
      "cell_type": "code",
      "metadata": {
        "colab_type": "code",
        "id": "N7m7a8EOiIGL",
        "outputId": "e52836c9-ec3a-417d-ca96-f8ed01230cee",
        "colab": {
          "base_uri": "https://localhost:8080/",
          "height": 34
        }
      },
      "source": [
        "all(isinstance(column, str) for column in lat_long_new.columns)"
      ],
      "execution_count": 0,
      "outputs": [
        {
          "output_type": "execute_result",
          "data": {
            "text/plain": [
              "True"
            ]
          },
          "metadata": {
            "tags": []
          },
          "execution_count": 32
        }
      ]
    },
    {
      "cell_type": "code",
      "metadata": {
        "colab_type": "code",
        "id": "Z8_6JH2GiNS5",
        "outputId": "01419fbe-6ce4-43f7-b83f-758384f2de03",
        "colab": {
          "base_uri": "https://localhost:8080/",
          "height": 204
        }
      },
      "source": [
        "lat_long_new.head()"
      ],
      "execution_count": 0,
      "outputs": [
        {
          "output_type": "execute_result",
          "data": {
            "text/html": [
              "<div>\n",
              "<style scoped>\n",
              "    .dataframe tbody tr th:only-of-type {\n",
              "        vertical-align: middle;\n",
              "    }\n",
              "\n",
              "    .dataframe tbody tr th {\n",
              "        vertical-align: top;\n",
              "    }\n",
              "\n",
              "    .dataframe thead th {\n",
              "        text-align: right;\n",
              "    }\n",
              "</style>\n",
              "<table border=\"1\" class=\"dataframe\">\n",
              "  <thead>\n",
              "    <tr style=\"text-align: right;\">\n",
              "      <th></th>\n",
              "      <th>('City',)</th>\n",
              "      <th>('Latitude',)</th>\n",
              "      <th>('Longitude',)</th>\n",
              "    </tr>\n",
              "  </thead>\n",
              "  <tbody>\n",
              "    <tr>\n",
              "      <th>0</th>\n",
              "      <td>LONDON</td>\n",
              "      <td>51.51</td>\n",
              "      <td>-0.13</td>\n",
              "    </tr>\n",
              "    <tr>\n",
              "      <th>1</th>\n",
              "      <td>MANCHESTER</td>\n",
              "      <td>53.48</td>\n",
              "      <td>-2.24</td>\n",
              "    </tr>\n",
              "    <tr>\n",
              "      <th>2</th>\n",
              "      <td>BRISTOL</td>\n",
              "      <td>41.83</td>\n",
              "      <td>-71.17</td>\n",
              "    </tr>\n",
              "    <tr>\n",
              "      <th>3</th>\n",
              "      <td>BIRMINGHAM</td>\n",
              "      <td>33.52</td>\n",
              "      <td>-86.8</td>\n",
              "    </tr>\n",
              "    <tr>\n",
              "      <th>4</th>\n",
              "      <td>NOTTINGHAM</td>\n",
              "      <td>52.95</td>\n",
              "      <td>-1.15</td>\n",
              "    </tr>\n",
              "  </tbody>\n",
              "</table>\n",
              "</div>"
            ],
            "text/plain": [
              "    ('City',)  ('Latitude',) ('Longitude',)\n",
              "0      LONDON          51.51          -0.13\n",
              "1  MANCHESTER          53.48          -2.24\n",
              "2     BRISTOL          41.83         -71.17\n",
              "3  BIRMINGHAM          33.52          -86.8\n",
              "4  NOTTINGHAM          52.95          -1.15"
            ]
          },
          "metadata": {
            "tags": []
          },
          "execution_count": 21
        }
      ]
    },
    {
      "cell_type": "code",
      "metadata": {
        "colab_type": "code",
        "id": "GAlaG4QKibYf",
        "outputId": "bc3d8b65-5e25-4a89-d323-0f8b0f418643",
        "colab": {
          "base_uri": "https://localhost:8080/",
          "height": 204
        }
      },
      "source": [
        "lat_long_new.columns= lat_long_new.columns.str.replace(\"(\",\"\").str.replace(\"'\",\"\").str.replace(\",\",\"\").str.replace(\")\",\"\")\n",
        "lat_long_new.head()"
      ],
      "execution_count": 0,
      "outputs": [
        {
          "output_type": "execute_result",
          "data": {
            "text/html": [
              "<div>\n",
              "<style scoped>\n",
              "    .dataframe tbody tr th:only-of-type {\n",
              "        vertical-align: middle;\n",
              "    }\n",
              "\n",
              "    .dataframe tbody tr th {\n",
              "        vertical-align: top;\n",
              "    }\n",
              "\n",
              "    .dataframe thead th {\n",
              "        text-align: right;\n",
              "    }\n",
              "</style>\n",
              "<table border=\"1\" class=\"dataframe\">\n",
              "  <thead>\n",
              "    <tr style=\"text-align: right;\">\n",
              "      <th></th>\n",
              "      <th>City</th>\n",
              "      <th>Latitude</th>\n",
              "      <th>Longitude</th>\n",
              "    </tr>\n",
              "  </thead>\n",
              "  <tbody>\n",
              "    <tr>\n",
              "      <th>0</th>\n",
              "      <td>LONDON</td>\n",
              "      <td>51.51</td>\n",
              "      <td>-0.13</td>\n",
              "    </tr>\n",
              "    <tr>\n",
              "      <th>1</th>\n",
              "      <td>MANCHESTER</td>\n",
              "      <td>53.48</td>\n",
              "      <td>-2.24</td>\n",
              "    </tr>\n",
              "    <tr>\n",
              "      <th>2</th>\n",
              "      <td>BRISTOL</td>\n",
              "      <td>41.83</td>\n",
              "      <td>-71.17</td>\n",
              "    </tr>\n",
              "    <tr>\n",
              "      <th>3</th>\n",
              "      <td>BIRMINGHAM</td>\n",
              "      <td>33.52</td>\n",
              "      <td>-86.8</td>\n",
              "    </tr>\n",
              "    <tr>\n",
              "      <th>4</th>\n",
              "      <td>NOTTINGHAM</td>\n",
              "      <td>52.95</td>\n",
              "      <td>-1.15</td>\n",
              "    </tr>\n",
              "  </tbody>\n",
              "</table>\n",
              "</div>"
            ],
            "text/plain": [
              "         City  Latitude Longitude\n",
              "0      LONDON     51.51     -0.13\n",
              "1  MANCHESTER     53.48     -2.24\n",
              "2     BRISTOL     41.83    -71.17\n",
              "3  BIRMINGHAM     33.52     -86.8\n",
              "4  NOTTINGHAM     52.95     -1.15"
            ]
          },
          "metadata": {
            "tags": []
          },
          "execution_count": 23
        }
      ]
    },
    {
      "cell_type": "code",
      "metadata": {
        "colab_type": "code",
        "id": "dJ3O28dldeoX",
        "colab": {}
      },
      "source": [
        "lat_long_1 = lat_long_new.copy()"
      ],
      "execution_count": 0,
      "outputs": []
    },
    {
      "cell_type": "code",
      "metadata": {
        "colab_type": "code",
        "id": "khXq9v0qdo3w",
        "outputId": "44f1caa1-8f0f-41fa-8dff-b9d58451302a",
        "colab": {
          "base_uri": "https://localhost:8080/",
          "height": 235
        }
      },
      "source": [
        "lat_long_1.set_index('City', inplace =True)\n",
        "lat_long_1.head()"
      ],
      "execution_count": 0,
      "outputs": [
        {
          "output_type": "execute_result",
          "data": {
            "text/html": [
              "<div>\n",
              "<style scoped>\n",
              "    .dataframe tbody tr th:only-of-type {\n",
              "        vertical-align: middle;\n",
              "    }\n",
              "\n",
              "    .dataframe tbody tr th {\n",
              "        vertical-align: top;\n",
              "    }\n",
              "\n",
              "    .dataframe thead th {\n",
              "        text-align: right;\n",
              "    }\n",
              "</style>\n",
              "<table border=\"1\" class=\"dataframe\">\n",
              "  <thead>\n",
              "    <tr style=\"text-align: right;\">\n",
              "      <th></th>\n",
              "      <th>Latitude</th>\n",
              "      <th>Longitude</th>\n",
              "    </tr>\n",
              "    <tr>\n",
              "      <th>City</th>\n",
              "      <th></th>\n",
              "      <th></th>\n",
              "    </tr>\n",
              "  </thead>\n",
              "  <tbody>\n",
              "    <tr>\n",
              "      <th>LONDON</th>\n",
              "      <td>51.51</td>\n",
              "      <td>-0.13</td>\n",
              "    </tr>\n",
              "    <tr>\n",
              "      <th>MANCHESTER</th>\n",
              "      <td>53.48</td>\n",
              "      <td>-2.24</td>\n",
              "    </tr>\n",
              "    <tr>\n",
              "      <th>BRISTOL</th>\n",
              "      <td>41.83</td>\n",
              "      <td>-71.17</td>\n",
              "    </tr>\n",
              "    <tr>\n",
              "      <th>BIRMINGHAM</th>\n",
              "      <td>33.52</td>\n",
              "      <td>-86.8</td>\n",
              "    </tr>\n",
              "    <tr>\n",
              "      <th>NOTTINGHAM</th>\n",
              "      <td>52.95</td>\n",
              "      <td>-1.15</td>\n",
              "    </tr>\n",
              "  </tbody>\n",
              "</table>\n",
              "</div>"
            ],
            "text/plain": [
              "            Latitude Longitude\n",
              "City                          \n",
              "LONDON         51.51     -0.13\n",
              "MANCHESTER     53.48     -2.24\n",
              "BRISTOL        41.83    -71.17\n",
              "BIRMINGHAM     33.52     -86.8\n",
              "NOTTINGHAM     52.95     -1.15"
            ]
          },
          "metadata": {
            "tags": []
          },
          "execution_count": 25
        }
      ]
    },
    {
      "cell_type": "code",
      "metadata": {
        "colab_type": "code",
        "id": "30fnels20UEa",
        "colab": {}
      },
      "source": [
        "#lat_long_1.Latitude"
      ],
      "execution_count": 0,
      "outputs": []
    },
    {
      "cell_type": "code",
      "metadata": {
        "colab_type": "code",
        "id": "J9c34TE8fxrY",
        "outputId": "e83ddf9c-4798-4059-ff06-dff5522dcdaa",
        "colab": {
          "base_uri": "https://localhost:8080/",
          "height": 204
        }
      },
      "source": [
        "dataset = df.copy()\n",
        "dataset.head()"
      ],
      "execution_count": 0,
      "outputs": [
        {
          "output_type": "execute_result",
          "data": {
            "text/html": [
              "<div>\n",
              "<style scoped>\n",
              "    .dataframe tbody tr th:only-of-type {\n",
              "        vertical-align: middle;\n",
              "    }\n",
              "\n",
              "    .dataframe tbody tr th {\n",
              "        vertical-align: top;\n",
              "    }\n",
              "\n",
              "    .dataframe thead th {\n",
              "        text-align: right;\n",
              "    }\n",
              "</style>\n",
              "<table border=\"1\" class=\"dataframe\">\n",
              "  <thead>\n",
              "    <tr style=\"text-align: right;\">\n",
              "      <th></th>\n",
              "      <th>Price</th>\n",
              "      <th>Date_of_Transfer</th>\n",
              "      <th>Property_Type</th>\n",
              "      <th>Odd/New</th>\n",
              "      <th>Duration</th>\n",
              "      <th>City</th>\n",
              "    </tr>\n",
              "  </thead>\n",
              "  <tbody>\n",
              "    <tr>\n",
              "      <th>0</th>\n",
              "      <td>42000</td>\n",
              "      <td>1995-12-21 00:00</td>\n",
              "      <td>S</td>\n",
              "      <td>N</td>\n",
              "      <td>F</td>\n",
              "      <td>NEWCASTLE UPON TYNE</td>\n",
              "    </tr>\n",
              "    <tr>\n",
              "      <th>1</th>\n",
              "      <td>95000</td>\n",
              "      <td>1995-03-03 00:00</td>\n",
              "      <td>S</td>\n",
              "      <td>N</td>\n",
              "      <td>F</td>\n",
              "      <td>GRAYS</td>\n",
              "    </tr>\n",
              "    <tr>\n",
              "      <th>2</th>\n",
              "      <td>74950</td>\n",
              "      <td>1995-10-03 00:00</td>\n",
              "      <td>D</td>\n",
              "      <td>Y</td>\n",
              "      <td>F</td>\n",
              "      <td>MIDDLEWICH</td>\n",
              "    </tr>\n",
              "    <tr>\n",
              "      <th>3</th>\n",
              "      <td>43500</td>\n",
              "      <td>1995-11-14 00:00</td>\n",
              "      <td>S</td>\n",
              "      <td>N</td>\n",
              "      <td>F</td>\n",
              "      <td>BILLINGHAM</td>\n",
              "    </tr>\n",
              "    <tr>\n",
              "      <th>4</th>\n",
              "      <td>63000</td>\n",
              "      <td>1995-09-08 00:00</td>\n",
              "      <td>S</td>\n",
              "      <td>N</td>\n",
              "      <td>F</td>\n",
              "      <td>CLEATOR MOOR</td>\n",
              "    </tr>\n",
              "  </tbody>\n",
              "</table>\n",
              "</div>"
            ],
            "text/plain": [
              "   Price  Date_of_Transfer Property_Type Odd/New Duration                 City\n",
              "0  42000  1995-12-21 00:00             S       N        F  NEWCASTLE UPON TYNE\n",
              "1  95000  1995-03-03 00:00             S       N        F                GRAYS\n",
              "2  74950  1995-10-03 00:00             D       Y        F           MIDDLEWICH\n",
              "3  43500  1995-11-14 00:00             S       N        F           BILLINGHAM\n",
              "4  63000  1995-09-08 00:00             S       N        F         CLEATOR MOOR"
            ]
          },
          "metadata": {
            "tags": []
          },
          "execution_count": 26
        }
      ]
    },
    {
      "cell_type": "code",
      "metadata": {
        "colab_type": "code",
        "id": "WRZKzEEk6ygu",
        "colab": {}
      },
      "source": [
        "#lat_long_1.loc['LONDON']"
      ],
      "execution_count": 0,
      "outputs": []
    },
    {
      "cell_type": "markdown",
      "metadata": {
        "colab_type": "text",
        "id": "9aB7rqFiBtlZ"
      },
      "source": [
        "## Generate new features from the date of transfer and web scraping latitudes and longitudes for the cities"
      ]
    },
    {
      "cell_type": "code",
      "metadata": {
        "colab_type": "code",
        "id": "XcrU6b_uvHB6",
        "outputId": "47c156e0-b94c-4fff-ae3f-0f777db096a6",
        "colab": {
          "base_uri": "https://localhost:8080/",
          "height": 204
        }
      },
      "source": [
        "Latitude, Longitude = [], []\n",
        "for city in dataset.City:\n",
        "  if(city in list(lat_long_1.index)):\n",
        "    #print(city)\n",
        "    lat, long = lat_long_1.loc[city]\n",
        "    Latitude.append(lat)\n",
        "    Longitude.append(long)\n",
        "dataset['Latitude'], dataset['Longitude'] = Latitude, Longitude\n",
        "dataset.head()\n",
        "    "
      ],
      "execution_count": 0,
      "outputs": [
        {
          "output_type": "execute_result",
          "data": {
            "text/html": [
              "<div>\n",
              "<style scoped>\n",
              "    .dataframe tbody tr th:only-of-type {\n",
              "        vertical-align: middle;\n",
              "    }\n",
              "\n",
              "    .dataframe tbody tr th {\n",
              "        vertical-align: top;\n",
              "    }\n",
              "\n",
              "    .dataframe thead th {\n",
              "        text-align: right;\n",
              "    }\n",
              "</style>\n",
              "<table border=\"1\" class=\"dataframe\">\n",
              "  <thead>\n",
              "    <tr style=\"text-align: right;\">\n",
              "      <th></th>\n",
              "      <th>Price</th>\n",
              "      <th>Date_of_Transfer</th>\n",
              "      <th>Property_Type</th>\n",
              "      <th>Odd/New</th>\n",
              "      <th>Duration</th>\n",
              "      <th>City</th>\n",
              "      <th>Latitude</th>\n",
              "      <th>Longitude</th>\n",
              "    </tr>\n",
              "  </thead>\n",
              "  <tbody>\n",
              "    <tr>\n",
              "      <th>0</th>\n",
              "      <td>42000</td>\n",
              "      <td>1995-12-21 00:00</td>\n",
              "      <td>S</td>\n",
              "      <td>N</td>\n",
              "      <td>F</td>\n",
              "      <td>NEWCASTLE UPON TYNE</td>\n",
              "      <td>54.97</td>\n",
              "      <td>-1.61</td>\n",
              "    </tr>\n",
              "    <tr>\n",
              "      <th>1</th>\n",
              "      <td>95000</td>\n",
              "      <td>1995-03-03 00:00</td>\n",
              "      <td>S</td>\n",
              "      <td>N</td>\n",
              "      <td>F</td>\n",
              "      <td>GRAYS</td>\n",
              "      <td>51.48</td>\n",
              "      <td>0.33</td>\n",
              "    </tr>\n",
              "    <tr>\n",
              "      <th>2</th>\n",
              "      <td>74950</td>\n",
              "      <td>1995-10-03 00:00</td>\n",
              "      <td>D</td>\n",
              "      <td>Y</td>\n",
              "      <td>F</td>\n",
              "      <td>MIDDLEWICH</td>\n",
              "      <td>53.19</td>\n",
              "      <td>-2.44</td>\n",
              "    </tr>\n",
              "    <tr>\n",
              "      <th>3</th>\n",
              "      <td>43500</td>\n",
              "      <td>1995-11-14 00:00</td>\n",
              "      <td>S</td>\n",
              "      <td>N</td>\n",
              "      <td>F</td>\n",
              "      <td>BILLINGHAM</td>\n",
              "      <td>54.61</td>\n",
              "      <td>-1.29</td>\n",
              "    </tr>\n",
              "    <tr>\n",
              "      <th>4</th>\n",
              "      <td>63000</td>\n",
              "      <td>1995-09-08 00:00</td>\n",
              "      <td>S</td>\n",
              "      <td>N</td>\n",
              "      <td>F</td>\n",
              "      <td>CLEATOR MOOR</td>\n",
              "      <td>54.52</td>\n",
              "      <td>-3.52</td>\n",
              "    </tr>\n",
              "  </tbody>\n",
              "</table>\n",
              "</div>"
            ],
            "text/plain": [
              "   Price  Date_of_Transfer  ... Latitude Longitude\n",
              "0  42000  1995-12-21 00:00  ...    54.97     -1.61\n",
              "1  95000  1995-03-03 00:00  ...    51.48      0.33\n",
              "2  74950  1995-10-03 00:00  ...    53.19     -2.44\n",
              "3  43500  1995-11-14 00:00  ...    54.61     -1.29\n",
              "4  63000  1995-09-08 00:00  ...    54.52     -3.52\n",
              "\n",
              "[5 rows x 8 columns]"
            ]
          },
          "metadata": {
            "tags": []
          },
          "execution_count": 27
        }
      ]
    },
    {
      "cell_type": "code",
      "metadata": {
        "colab_type": "code",
        "id": "EK7VaxGm5h44",
        "colab": {}
      },
      "source": [
        "dataset.to_csv(os.path.join(root_directory,'drive','My Drive','uk_house_price_data.csv'))"
      ],
      "execution_count": 0,
      "outputs": []
    },
    {
      "cell_type": "code",
      "metadata": {
        "colab_type": "code",
        "id": "F7e3rDBe3XQN",
        "colab": {}
      },
      "source": [
        "dataset = pd.read_csv(os.path.join(root_directory,'drive','My Drive','uk_house_price_data.csv'))"
      ],
      "execution_count": 0,
      "outputs": []
    },
    {
      "cell_type": "code",
      "metadata": {
        "id": "vncXbHIzrzLX",
        "colab_type": "code",
        "colab": {}
      },
      "source": [
        "#dataset = pd.read_csv('uk_house_price_data.csv')"
      ],
      "execution_count": 0,
      "outputs": []
    },
    {
      "cell_type": "code",
      "metadata": {
        "colab_type": "code",
        "id": "Q4agJeBF4SzN",
        "colab": {
          "base_uri": "https://localhost:8080/",
          "height": 204
        },
        "outputId": "24349493-4c45-4cac-81f3-7c5a472e6092"
      },
      "source": [
        "dataset= dataset.iloc[:,1:]\n",
        "dataset.head()"
      ],
      "execution_count": 6,
      "outputs": [
        {
          "output_type": "execute_result",
          "data": {
            "text/html": [
              "<div>\n",
              "<style scoped>\n",
              "    .dataframe tbody tr th:only-of-type {\n",
              "        vertical-align: middle;\n",
              "    }\n",
              "\n",
              "    .dataframe tbody tr th {\n",
              "        vertical-align: top;\n",
              "    }\n",
              "\n",
              "    .dataframe thead th {\n",
              "        text-align: right;\n",
              "    }\n",
              "</style>\n",
              "<table border=\"1\" class=\"dataframe\">\n",
              "  <thead>\n",
              "    <tr style=\"text-align: right;\">\n",
              "      <th></th>\n",
              "      <th>Price</th>\n",
              "      <th>Date_of_Transfer</th>\n",
              "      <th>Property_Type</th>\n",
              "      <th>Odd/New</th>\n",
              "      <th>Duration</th>\n",
              "      <th>City</th>\n",
              "      <th>Latitude</th>\n",
              "      <th>Longitude</th>\n",
              "    </tr>\n",
              "  </thead>\n",
              "  <tbody>\n",
              "    <tr>\n",
              "      <th>0</th>\n",
              "      <td>42000</td>\n",
              "      <td>1995-12-21 00:00</td>\n",
              "      <td>S</td>\n",
              "      <td>N</td>\n",
              "      <td>F</td>\n",
              "      <td>NEWCASTLE UPON TYNE</td>\n",
              "      <td>54.97</td>\n",
              "      <td>-1.61</td>\n",
              "    </tr>\n",
              "    <tr>\n",
              "      <th>1</th>\n",
              "      <td>95000</td>\n",
              "      <td>1995-03-03 00:00</td>\n",
              "      <td>S</td>\n",
              "      <td>N</td>\n",
              "      <td>F</td>\n",
              "      <td>GRAYS</td>\n",
              "      <td>51.48</td>\n",
              "      <td>0.33</td>\n",
              "    </tr>\n",
              "    <tr>\n",
              "      <th>2</th>\n",
              "      <td>74950</td>\n",
              "      <td>1995-10-03 00:00</td>\n",
              "      <td>D</td>\n",
              "      <td>Y</td>\n",
              "      <td>F</td>\n",
              "      <td>MIDDLEWICH</td>\n",
              "      <td>53.19</td>\n",
              "      <td>-2.44</td>\n",
              "    </tr>\n",
              "    <tr>\n",
              "      <th>3</th>\n",
              "      <td>43500</td>\n",
              "      <td>1995-11-14 00:00</td>\n",
              "      <td>S</td>\n",
              "      <td>N</td>\n",
              "      <td>F</td>\n",
              "      <td>BILLINGHAM</td>\n",
              "      <td>54.61</td>\n",
              "      <td>-1.29</td>\n",
              "    </tr>\n",
              "    <tr>\n",
              "      <th>4</th>\n",
              "      <td>63000</td>\n",
              "      <td>1995-09-08 00:00</td>\n",
              "      <td>S</td>\n",
              "      <td>N</td>\n",
              "      <td>F</td>\n",
              "      <td>CLEATOR MOOR</td>\n",
              "      <td>54.52</td>\n",
              "      <td>-3.52</td>\n",
              "    </tr>\n",
              "  </tbody>\n",
              "</table>\n",
              "</div>"
            ],
            "text/plain": [
              "   Price  Date_of_Transfer  ... Latitude Longitude\n",
              "0  42000  1995-12-21 00:00  ...    54.97     -1.61\n",
              "1  95000  1995-03-03 00:00  ...    51.48      0.33\n",
              "2  74950  1995-10-03 00:00  ...    53.19     -2.44\n",
              "3  43500  1995-11-14 00:00  ...    54.61     -1.29\n",
              "4  63000  1995-09-08 00:00  ...    54.52     -3.52\n",
              "\n",
              "[5 rows x 8 columns]"
            ]
          },
          "metadata": {
            "tags": []
          },
          "execution_count": 6
        }
      ]
    },
    {
      "cell_type": "markdown",
      "metadata": {
        "colab_type": "text",
        "id": "SH-sBqQxkRoy"
      },
      "source": [
        "#### Create new features from date of transfer by splitting it to year, month and day"
      ]
    },
    {
      "cell_type": "code",
      "metadata": {
        "colab_type": "code",
        "id": "PYgYUWuXqV3l",
        "colab": {}
      },
      "source": [
        "def date(data):\n",
        "    try:\n",
        "        data = data.replace(' 00:00','')\n",
        "        year, month, day = data.split('-')\n",
        "        return year, month, day\n",
        "    except:\n",
        "        np.nan, np.nan, np.nan\n",
        "\n",
        "dataset['Year'], dataset['Month'], dataset['Day'] = zip(*dataset['Date_of_Transfer'].apply(date))"
      ],
      "execution_count": 0,
      "outputs": []
    },
    {
      "cell_type": "markdown",
      "metadata": {
        "colab_type": "text",
        "id": "6YKrVslmkkK5"
      },
      "source": [
        "#### Apply function to return the real categorical values (without abbreviations) in some columns (Old/New, Property Type and Duration)"
      ]
    },
    {
      "cell_type": "code",
      "metadata": {
        "colab_type": "code",
        "id": "_ideVnmUVRRr",
        "outputId": "cb7da277-2583-41b4-cf98-eb8ff0295613",
        "colab": {
          "base_uri": "https://localhost:8080/",
          "height": 204
        }
      },
      "source": [
        "def rename_on(data):\n",
        "    if data == 'N': return 'New'\n",
        "    else: return 'Old'\n",
        "\n",
        "def rename_pt(data):\n",
        "    if data == 'T': return 'Terraced'\n",
        "    elif data == 'S': return 'Semi-Detached'\n",
        "    elif data == 'D': return 'Detached'\n",
        "    elif data == 'F': return 'Flats/Maisonettes'\n",
        "    else: return 'Others'\n",
        "\n",
        "def rename_duration(data):\n",
        "    if data == 'F': return 'Freehold'\n",
        "    elif data == 'L': return 'Leasehold'\n",
        "    else: return 'Others'\n",
        "\n",
        "dataset.rename(columns={'Odd/New': 'Old/New'},inplace = True)\n",
        "\n",
        "dataset['Old/New'] = dataset['Old/New'].apply(rename_on)\n",
        "dataset.Property_Type = dataset.Property_Type.apply(rename_pt)\n",
        "dataset.Duration = dataset.Duration.apply(rename_duration)\n",
        "dataset.head()"
      ],
      "execution_count": 8,
      "outputs": [
        {
          "output_type": "execute_result",
          "data": {
            "text/html": [
              "<div>\n",
              "<style scoped>\n",
              "    .dataframe tbody tr th:only-of-type {\n",
              "        vertical-align: middle;\n",
              "    }\n",
              "\n",
              "    .dataframe tbody tr th {\n",
              "        vertical-align: top;\n",
              "    }\n",
              "\n",
              "    .dataframe thead th {\n",
              "        text-align: right;\n",
              "    }\n",
              "</style>\n",
              "<table border=\"1\" class=\"dataframe\">\n",
              "  <thead>\n",
              "    <tr style=\"text-align: right;\">\n",
              "      <th></th>\n",
              "      <th>Price</th>\n",
              "      <th>Date_of_Transfer</th>\n",
              "      <th>Property_Type</th>\n",
              "      <th>Old/New</th>\n",
              "      <th>Duration</th>\n",
              "      <th>City</th>\n",
              "      <th>Latitude</th>\n",
              "      <th>Longitude</th>\n",
              "      <th>Year</th>\n",
              "      <th>Month</th>\n",
              "      <th>Day</th>\n",
              "    </tr>\n",
              "  </thead>\n",
              "  <tbody>\n",
              "    <tr>\n",
              "      <th>0</th>\n",
              "      <td>42000</td>\n",
              "      <td>1995-12-21 00:00</td>\n",
              "      <td>Semi-Detached</td>\n",
              "      <td>New</td>\n",
              "      <td>Freehold</td>\n",
              "      <td>NEWCASTLE UPON TYNE</td>\n",
              "      <td>54.97</td>\n",
              "      <td>-1.61</td>\n",
              "      <td>1995</td>\n",
              "      <td>12</td>\n",
              "      <td>21</td>\n",
              "    </tr>\n",
              "    <tr>\n",
              "      <th>1</th>\n",
              "      <td>95000</td>\n",
              "      <td>1995-03-03 00:00</td>\n",
              "      <td>Semi-Detached</td>\n",
              "      <td>New</td>\n",
              "      <td>Freehold</td>\n",
              "      <td>GRAYS</td>\n",
              "      <td>51.48</td>\n",
              "      <td>0.33</td>\n",
              "      <td>1995</td>\n",
              "      <td>03</td>\n",
              "      <td>03</td>\n",
              "    </tr>\n",
              "    <tr>\n",
              "      <th>2</th>\n",
              "      <td>74950</td>\n",
              "      <td>1995-10-03 00:00</td>\n",
              "      <td>Detached</td>\n",
              "      <td>Old</td>\n",
              "      <td>Freehold</td>\n",
              "      <td>MIDDLEWICH</td>\n",
              "      <td>53.19</td>\n",
              "      <td>-2.44</td>\n",
              "      <td>1995</td>\n",
              "      <td>10</td>\n",
              "      <td>03</td>\n",
              "    </tr>\n",
              "    <tr>\n",
              "      <th>3</th>\n",
              "      <td>43500</td>\n",
              "      <td>1995-11-14 00:00</td>\n",
              "      <td>Semi-Detached</td>\n",
              "      <td>New</td>\n",
              "      <td>Freehold</td>\n",
              "      <td>BILLINGHAM</td>\n",
              "      <td>54.61</td>\n",
              "      <td>-1.29</td>\n",
              "      <td>1995</td>\n",
              "      <td>11</td>\n",
              "      <td>14</td>\n",
              "    </tr>\n",
              "    <tr>\n",
              "      <th>4</th>\n",
              "      <td>63000</td>\n",
              "      <td>1995-09-08 00:00</td>\n",
              "      <td>Semi-Detached</td>\n",
              "      <td>New</td>\n",
              "      <td>Freehold</td>\n",
              "      <td>CLEATOR MOOR</td>\n",
              "      <td>54.52</td>\n",
              "      <td>-3.52</td>\n",
              "      <td>1995</td>\n",
              "      <td>09</td>\n",
              "      <td>08</td>\n",
              "    </tr>\n",
              "  </tbody>\n",
              "</table>\n",
              "</div>"
            ],
            "text/plain": [
              "   Price  Date_of_Transfer  Property_Type Old/New  ... Longitude  Year  Month Day\n",
              "0  42000  1995-12-21 00:00  Semi-Detached     New  ...     -1.61  1995     12  21\n",
              "1  95000  1995-03-03 00:00  Semi-Detached     New  ...      0.33  1995     03  03\n",
              "2  74950  1995-10-03 00:00       Detached     Old  ...     -2.44  1995     10  03\n",
              "3  43500  1995-11-14 00:00  Semi-Detached     New  ...     -1.29  1995     11  14\n",
              "4  63000  1995-09-08 00:00  Semi-Detached     New  ...     -3.52  1995     09  08\n",
              "\n",
              "[5 rows x 11 columns]"
            ]
          },
          "metadata": {
            "tags": []
          },
          "execution_count": 8
        }
      ]
    },
    {
      "cell_type": "markdown",
      "metadata": {
        "colab_type": "text",
        "id": "X2a5G2wvmF4u"
      },
      "source": [
        "#### Drop Date_of_Transfer"
      ]
    },
    {
      "cell_type": "code",
      "metadata": {
        "colab_type": "code",
        "id": "mAOaYBwy6blT",
        "colab": {}
      },
      "source": [
        "dataset.drop(['Date_of_Transfer'], inplace=True, axis=1)"
      ],
      "execution_count": 0,
      "outputs": []
    },
    {
      "cell_type": "markdown",
      "metadata": {
        "colab_type": "text",
        "id": "TiUzWmVBHxMR"
      },
      "source": [
        "## Explore for missing data"
      ]
    },
    {
      "cell_type": "code",
      "metadata": {
        "colab_type": "code",
        "id": "WE-QN17dH-Ka",
        "outputId": "011c3de2-924d-40de-b88f-ba68a810e758",
        "colab": {
          "base_uri": "https://localhost:8080/",
          "height": 204
        }
      },
      "source": [
        "dataset.isnull().sum().sort_values(ascending=False)"
      ],
      "execution_count": 14,
      "outputs": [
        {
          "output_type": "execute_result",
          "data": {
            "text/plain": [
              "Day              0\n",
              "Month            0\n",
              "Year             0\n",
              "Longitude        0\n",
              "Latitude         0\n",
              "City             0\n",
              "Duration         0\n",
              "Old/New          0\n",
              "Property_Type    0\n",
              "Price            0\n",
              "dtype: int64"
            ]
          },
          "metadata": {
            "tags": []
          },
          "execution_count": 14
        }
      ]
    },
    {
      "cell_type": "markdown",
      "metadata": {
        "colab_type": "text",
        "id": "oQsuu60GLbxq"
      },
      "source": [
        "* No  Missing value"
      ]
    },
    {
      "cell_type": "code",
      "metadata": {
        "colab_type": "code",
        "id": "qToJeLOeICi5",
        "outputId": "362ad7de-0c6a-4994-9b5f-94deedc80f31",
        "colab": {
          "base_uri": "https://localhost:8080/",
          "height": 272
        }
      },
      "source": [
        "dataset.info()"
      ],
      "execution_count": 0,
      "outputs": [
        {
          "output_type": "stream",
          "text": [
            "<class 'pandas.core.frame.DataFrame'>\n",
            "RangeIndex: 24678174 entries, 0 to 24678173\n",
            "Data columns (total 10 columns):\n",
            "Property_Type    object\n",
            "Odd/New          object\n",
            "Duration         object\n",
            "City             object\n",
            "Latitude         float64\n",
            "Longitude        object\n",
            "Year             object\n",
            "Month            object\n",
            "Day              object\n",
            "Price            int64\n",
            "dtypes: float64(1), int64(1), object(8)\n",
            "memory usage: 1.8+ GB\n"
          ],
          "name": "stdout"
        }
      ]
    },
    {
      "cell_type": "markdown",
      "metadata": {
        "colab_type": "text",
        "id": "vZaWPSM7IMrR"
      },
      "source": [
        "## Getting each column into the right data type"
      ]
    },
    {
      "cell_type": "code",
      "metadata": {
        "colab_type": "code",
        "id": "P2h9yDG5IIli",
        "colab": {}
      },
      "source": [
        "def convert_int(data):\n",
        "  data = data.astype(int)\n",
        "  return data\n",
        "\n",
        "dataset[['Year', 'Month','Day']] = dataset[['Year', 'Month','Day']].apply(convert_int)\n",
        "dataset['Longitude'] = dataset['Longitude'].astype(float)"
      ],
      "execution_count": 0,
      "outputs": []
    },
    {
      "cell_type": "markdown",
      "metadata": {
        "colab_type": "text",
        "id": "2TIKMYPZA3y9"
      },
      "source": [
        "### Brief statistical summary of the data"
      ]
    },
    {
      "cell_type": "code",
      "metadata": {
        "colab_type": "code",
        "id": "v2_3jU5RA3zB",
        "outputId": "80c4b60e-bb14-47fa-9417-837d2cfdea87",
        "colab": {
          "base_uri": "https://localhost:8080/",
          "height": 173
        }
      },
      "source": [
        "#Summary statistics for only categorical variables\n",
        "dataset.describe(include=['O']).transpose()"
      ],
      "execution_count": 11,
      "outputs": [
        {
          "output_type": "execute_result",
          "data": {
            "text/html": [
              "<div>\n",
              "<style scoped>\n",
              "    .dataframe tbody tr th:only-of-type {\n",
              "        vertical-align: middle;\n",
              "    }\n",
              "\n",
              "    .dataframe tbody tr th {\n",
              "        vertical-align: top;\n",
              "    }\n",
              "\n",
              "    .dataframe thead th {\n",
              "        text-align: right;\n",
              "    }\n",
              "</style>\n",
              "<table border=\"1\" class=\"dataframe\">\n",
              "  <thead>\n",
              "    <tr style=\"text-align: right;\">\n",
              "      <th></th>\n",
              "      <th>count</th>\n",
              "      <th>unique</th>\n",
              "      <th>top</th>\n",
              "      <th>freq</th>\n",
              "    </tr>\n",
              "  </thead>\n",
              "  <tbody>\n",
              "    <tr>\n",
              "      <th>Property_Type</th>\n",
              "      <td>24678174</td>\n",
              "      <td>5</td>\n",
              "      <td>Terraced</td>\n",
              "      <td>7495842</td>\n",
              "    </tr>\n",
              "    <tr>\n",
              "      <th>Old/New</th>\n",
              "      <td>24678174</td>\n",
              "      <td>2</td>\n",
              "      <td>New</td>\n",
              "      <td>22092409</td>\n",
              "    </tr>\n",
              "    <tr>\n",
              "      <th>Duration</th>\n",
              "      <td>24678174</td>\n",
              "      <td>3</td>\n",
              "      <td>Freehold</td>\n",
              "      <td>18840397</td>\n",
              "    </tr>\n",
              "    <tr>\n",
              "      <th>City</th>\n",
              "      <td>24678174</td>\n",
              "      <td>1171</td>\n",
              "      <td>LONDON</td>\n",
              "      <td>1922913</td>\n",
              "    </tr>\n",
              "  </tbody>\n",
              "</table>\n",
              "</div>"
            ],
            "text/plain": [
              "                  count unique       top      freq\n",
              "Property_Type  24678174      5  Terraced   7495842\n",
              "Old/New        24678174      2       New  22092409\n",
              "Duration       24678174      3  Freehold  18840397\n",
              "City           24678174   1171    LONDON   1922913"
            ]
          },
          "metadata": {
            "tags": []
          },
          "execution_count": 11
        }
      ]
    },
    {
      "cell_type": "code",
      "metadata": {
        "colab_type": "code",
        "id": "AEZr__kxCcBx",
        "outputId": "1f8d2512-dbed-4ad9-a4de-38736e5c594b",
        "colab": {
          "base_uri": "https://localhost:8080/",
          "height": 297
        }
      },
      "source": [
        "#summary statistics including only the numerical variables\n",
        "dataset.describe()"
      ],
      "execution_count": 0,
      "outputs": [
        {
          "output_type": "execute_result",
          "data": {
            "text/html": [
              "<div>\n",
              "<style scoped>\n",
              "    .dataframe tbody tr th:only-of-type {\n",
              "        vertical-align: middle;\n",
              "    }\n",
              "\n",
              "    .dataframe tbody tr th {\n",
              "        vertical-align: top;\n",
              "    }\n",
              "\n",
              "    .dataframe thead th {\n",
              "        text-align: right;\n",
              "    }\n",
              "</style>\n",
              "<table border=\"1\" class=\"dataframe\">\n",
              "  <thead>\n",
              "    <tr style=\"text-align: right;\">\n",
              "      <th></th>\n",
              "      <th>Latitude</th>\n",
              "      <th>Longitude</th>\n",
              "      <th>Year</th>\n",
              "      <th>Month</th>\n",
              "      <th>Day</th>\n",
              "      <th>Price</th>\n",
              "    </tr>\n",
              "  </thead>\n",
              "  <tbody>\n",
              "    <tr>\n",
              "      <th>count</th>\n",
              "      <td>2.467817e+07</td>\n",
              "      <td>2.467817e+07</td>\n",
              "      <td>2.467817e+07</td>\n",
              "      <td>2.467817e+07</td>\n",
              "      <td>2.467817e+07</td>\n",
              "      <td>2.467817e+07</td>\n",
              "    </tr>\n",
              "    <tr>\n",
              "      <th>mean</th>\n",
              "      <td>4.981384e+01</td>\n",
              "      <td>-7.906256e+00</td>\n",
              "      <td>2.006313e+03</td>\n",
              "      <td>6.761566e+00</td>\n",
              "      <td>1.708426e+01</td>\n",
              "      <td>1.941126e+05</td>\n",
              "    </tr>\n",
              "    <tr>\n",
              "      <th>std</th>\n",
              "      <td>1.056412e+01</td>\n",
              "      <td>2.993457e+01</td>\n",
              "      <td>7.060981e+00</td>\n",
              "      <td>3.328403e+00</td>\n",
              "      <td>9.049399e+00</td>\n",
              "      <td>7.212366e+05</td>\n",
              "    </tr>\n",
              "    <tr>\n",
              "      <th>min</th>\n",
              "      <td>-4.353000e+01</td>\n",
              "      <td>-1.229100e+02</td>\n",
              "      <td>1.995000e+03</td>\n",
              "      <td>1.000000e+00</td>\n",
              "      <td>1.000000e+00</td>\n",
              "      <td>1.000000e+00</td>\n",
              "    </tr>\n",
              "    <tr>\n",
              "      <th>25%</th>\n",
              "      <td>5.123000e+01</td>\n",
              "      <td>-2.620000e+00</td>\n",
              "      <td>2.000000e+03</td>\n",
              "      <td>4.000000e+00</td>\n",
              "      <td>9.000000e+00</td>\n",
              "      <td>7.850000e+04</td>\n",
              "    </tr>\n",
              "    <tr>\n",
              "      <th>50%</th>\n",
              "      <td>5.167000e+01</td>\n",
              "      <td>-1.450000e+00</td>\n",
              "      <td>2.005000e+03</td>\n",
              "      <td>7.000000e+00</td>\n",
              "      <td>1.800000e+01</td>\n",
              "      <td>1.375000e+05</td>\n",
              "    </tr>\n",
              "    <tr>\n",
              "      <th>75%</th>\n",
              "      <td>5.310000e+01</td>\n",
              "      <td>-1.900000e-01</td>\n",
              "      <td>2.013000e+03</td>\n",
              "      <td>1.000000e+01</td>\n",
              "      <td>2.500000e+01</td>\n",
              "      <td>2.250000e+05</td>\n",
              "    </tr>\n",
              "    <tr>\n",
              "      <th>max</th>\n",
              "      <td>5.723000e+01</td>\n",
              "      <td>1.747800e+02</td>\n",
              "      <td>2.019000e+03</td>\n",
              "      <td>1.200000e+01</td>\n",
              "      <td>3.100000e+01</td>\n",
              "      <td>5.943000e+08</td>\n",
              "    </tr>\n",
              "  </tbody>\n",
              "</table>\n",
              "</div>"
            ],
            "text/plain": [
              "           Latitude     Longitude  ...           Day         Price\n",
              "count  2.467817e+07  2.467817e+07  ...  2.467817e+07  2.467817e+07\n",
              "mean   4.981384e+01 -7.906256e+00  ...  1.708426e+01  1.941126e+05\n",
              "std    1.056412e+01  2.993457e+01  ...  9.049399e+00  7.212366e+05\n",
              "min   -4.353000e+01 -1.229100e+02  ...  1.000000e+00  1.000000e+00\n",
              "25%    5.123000e+01 -2.620000e+00  ...  9.000000e+00  7.850000e+04\n",
              "50%    5.167000e+01 -1.450000e+00  ...  1.800000e+01  1.375000e+05\n",
              "75%    5.310000e+01 -1.900000e-01  ...  2.500000e+01  2.250000e+05\n",
              "max    5.723000e+01  1.747800e+02  ...  3.100000e+01  5.943000e+08\n",
              "\n",
              "[8 rows x 6 columns]"
            ]
          },
          "metadata": {
            "tags": []
          },
          "execution_count": 36
        }
      ]
    },
    {
      "cell_type": "markdown",
      "metadata": {
        "colab_type": "text",
        "id": "ebQaf3W5Eg_o"
      },
      "source": [
        "### The minimum house price is 1995 though 2019 is £1, this is incredible.\n",
        "### - 96 houses sold for £1"
      ]
    },
    {
      "cell_type": "code",
      "metadata": {
        "colab_type": "code",
        "id": "pu0wKpCgEfRZ",
        "outputId": "175bea8e-0b76-43fd-c17c-b61b0feddb1d",
        "colab": {
          "base_uri": "https://localhost:8080/",
          "height": 436
        }
      },
      "source": [
        "print(dataset[dataset.Price==1].shape[0])\n",
        "dataset[dataset.Price==1]"
      ],
      "execution_count": 17,
      "outputs": [
        {
          "output_type": "stream",
          "text": [
            "96\n"
          ],
          "name": "stdout"
        },
        {
          "output_type": "execute_result",
          "data": {
            "text/html": [
              "<div>\n",
              "<style scoped>\n",
              "    .dataframe tbody tr th:only-of-type {\n",
              "        vertical-align: middle;\n",
              "    }\n",
              "\n",
              "    .dataframe tbody tr th {\n",
              "        vertical-align: top;\n",
              "    }\n",
              "\n",
              "    .dataframe thead th {\n",
              "        text-align: right;\n",
              "    }\n",
              "</style>\n",
              "<table border=\"1\" class=\"dataframe\">\n",
              "  <thead>\n",
              "    <tr style=\"text-align: right;\">\n",
              "      <th></th>\n",
              "      <th>Price</th>\n",
              "      <th>Property_Type</th>\n",
              "      <th>Old/New</th>\n",
              "      <th>Duration</th>\n",
              "      <th>City</th>\n",
              "      <th>Latitude</th>\n",
              "      <th>Longitude</th>\n",
              "      <th>Year</th>\n",
              "      <th>Month</th>\n",
              "      <th>Day</th>\n",
              "    </tr>\n",
              "  </thead>\n",
              "  <tbody>\n",
              "    <tr>\n",
              "      <th>97025</th>\n",
              "      <td>1</td>\n",
              "      <td>Terraced</td>\n",
              "      <td>New</td>\n",
              "      <td>Freehold</td>\n",
              "      <td>ILFRACOMBE</td>\n",
              "      <td>51.21</td>\n",
              "      <td>-4.11</td>\n",
              "      <td>1995</td>\n",
              "      <td>4</td>\n",
              "      <td>18</td>\n",
              "    </tr>\n",
              "    <tr>\n",
              "      <th>488868</th>\n",
              "      <td>1</td>\n",
              "      <td>Terraced</td>\n",
              "      <td>New</td>\n",
              "      <td>Freehold</td>\n",
              "      <td>MANCHESTER</td>\n",
              "      <td>53.48</td>\n",
              "      <td>-2.24</td>\n",
              "      <td>1995</td>\n",
              "      <td>8</td>\n",
              "      <td>4</td>\n",
              "    </tr>\n",
              "    <tr>\n",
              "      <th>519712</th>\n",
              "      <td>1</td>\n",
              "      <td>Terraced</td>\n",
              "      <td>New</td>\n",
              "      <td>Freehold</td>\n",
              "      <td>KINGSTON UPON THAMES</td>\n",
              "      <td>51.41</td>\n",
              "      <td>-0.31</td>\n",
              "      <td>1995</td>\n",
              "      <td>9</td>\n",
              "      <td>11</td>\n",
              "    </tr>\n",
              "    <tr>\n",
              "      <th>523286</th>\n",
              "      <td>1</td>\n",
              "      <td>Semi-Detached</td>\n",
              "      <td>New</td>\n",
              "      <td>Freehold</td>\n",
              "      <td>LONDON</td>\n",
              "      <td>51.51</td>\n",
              "      <td>-0.13</td>\n",
              "      <td>1995</td>\n",
              "      <td>3</td>\n",
              "      <td>17</td>\n",
              "    </tr>\n",
              "    <tr>\n",
              "      <th>523734</th>\n",
              "      <td>1</td>\n",
              "      <td>Semi-Detached</td>\n",
              "      <td>New</td>\n",
              "      <td>Freehold</td>\n",
              "      <td>HITCHIN</td>\n",
              "      <td>51.95</td>\n",
              "      <td>-0.27</td>\n",
              "      <td>1995</td>\n",
              "      <td>12</td>\n",
              "      <td>8</td>\n",
              "    </tr>\n",
              "    <tr>\n",
              "      <th>...</th>\n",
              "      <td>...</td>\n",
              "      <td>...</td>\n",
              "      <td>...</td>\n",
              "      <td>...</td>\n",
              "      <td>...</td>\n",
              "      <td>...</td>\n",
              "      <td>...</td>\n",
              "      <td>...</td>\n",
              "      <td>...</td>\n",
              "      <td>...</td>\n",
              "    </tr>\n",
              "    <tr>\n",
              "      <th>22973228</th>\n",
              "      <td>1</td>\n",
              "      <td>Flats/Maisonettes</td>\n",
              "      <td>New</td>\n",
              "      <td>Leasehold</td>\n",
              "      <td>HAVANT</td>\n",
              "      <td>50.86</td>\n",
              "      <td>-0.99</td>\n",
              "      <td>2017</td>\n",
              "      <td>10</td>\n",
              "      <td>25</td>\n",
              "    </tr>\n",
              "    <tr>\n",
              "      <th>22973229</th>\n",
              "      <td>1</td>\n",
              "      <td>Flats/Maisonettes</td>\n",
              "      <td>New</td>\n",
              "      <td>Leasehold</td>\n",
              "      <td>HAVANT</td>\n",
              "      <td>50.86</td>\n",
              "      <td>-0.99</td>\n",
              "      <td>2017</td>\n",
              "      <td>10</td>\n",
              "      <td>25</td>\n",
              "    </tr>\n",
              "    <tr>\n",
              "      <th>23131450</th>\n",
              "      <td>1</td>\n",
              "      <td>Detached</td>\n",
              "      <td>New</td>\n",
              "      <td>Leasehold</td>\n",
              "      <td>ASHTON-UNDER-LYNE</td>\n",
              "      <td>53.49</td>\n",
              "      <td>-2.10</td>\n",
              "      <td>2018</td>\n",
              "      <td>7</td>\n",
              "      <td>12</td>\n",
              "    </tr>\n",
              "    <tr>\n",
              "      <th>23362738</th>\n",
              "      <td>1</td>\n",
              "      <td>Detached</td>\n",
              "      <td>New</td>\n",
              "      <td>Leasehold</td>\n",
              "      <td>MOLD</td>\n",
              "      <td>53.17</td>\n",
              "      <td>-3.14</td>\n",
              "      <td>2018</td>\n",
              "      <td>10</td>\n",
              "      <td>3</td>\n",
              "    </tr>\n",
              "    <tr>\n",
              "      <th>24414893</th>\n",
              "      <td>1</td>\n",
              "      <td>Semi-Detached</td>\n",
              "      <td>New</td>\n",
              "      <td>Leasehold</td>\n",
              "      <td>SOLIHULL</td>\n",
              "      <td>52.41</td>\n",
              "      <td>-1.78</td>\n",
              "      <td>2019</td>\n",
              "      <td>2</td>\n",
              "      <td>14</td>\n",
              "    </tr>\n",
              "  </tbody>\n",
              "</table>\n",
              "<p>96 rows × 10 columns</p>\n",
              "</div>"
            ],
            "text/plain": [
              "          Price      Property_Type Old/New  ...  Year Month  Day\n",
              "97025         1           Terraced     New  ...  1995     4   18\n",
              "488868        1           Terraced     New  ...  1995     8    4\n",
              "519712        1           Terraced     New  ...  1995     9   11\n",
              "523286        1      Semi-Detached     New  ...  1995     3   17\n",
              "523734        1      Semi-Detached     New  ...  1995    12    8\n",
              "...         ...                ...     ...  ...   ...   ...  ...\n",
              "22973228      1  Flats/Maisonettes     New  ...  2017    10   25\n",
              "22973229      1  Flats/Maisonettes     New  ...  2017    10   25\n",
              "23131450      1           Detached     New  ...  2018     7   12\n",
              "23362738      1           Detached     New  ...  2018    10    3\n",
              "24414893      1      Semi-Detached     New  ...  2019     2   14\n",
              "\n",
              "[96 rows x 10 columns]"
            ]
          },
          "metadata": {
            "tags": []
          },
          "execution_count": 17
        }
      ]
    },
    {
      "cell_type": "markdown",
      "metadata": {
        "colab_type": "text",
        "id": "1DN7DerGA3zI"
      },
      "source": [
        "### Identifying outliers using interquartile rule"
      ]
    },
    {
      "cell_type": "code",
      "metadata": {
        "colab_type": "code",
        "id": "TxIF-bVeA3zJ",
        "outputId": "18a89637-b733-4761-b763-dff5d8f53b0b",
        "colab": {
          "base_uri": "https://localhost:8080/",
          "height": 51
        }
      },
      "source": [
        "Stats=dataset.Price.describe()\n",
        "INTQ=Stats[\"75%\"]-Stats[\"25%\"]\n",
        "UPPER_Q=Stats[\"75%\"]+1.5*INTQ\n",
        "LOWER_Q=Stats[\"75%\"]-1.5*INTQ\n",
        "print(\"The upper quartile of the house price is: \", UPPER_Q)\n",
        "print(\"The lower quartile of the house price is: \", LOWER_Q)"
      ],
      "execution_count": 18,
      "outputs": [
        {
          "output_type": "stream",
          "text": [
            "The upper quartile of the house price is:  444750.0\n",
            "The lower quartile of the house price is:  5250.0\n"
          ],
          "name": "stdout"
        }
      ]
    },
    {
      "cell_type": "code",
      "metadata": {
        "colab_type": "code",
        "id": "iB35yCnFA3zL",
        "colab": {}
      },
      "source": [
        "#Outlier_L=dataset.Price[df.Price < 5250]\n",
        "#print('Lower band outliers: \\n', Outlier_L.describe())"
      ],
      "execution_count": 0,
      "outputs": []
    },
    {
      "cell_type": "code",
      "metadata": {
        "colab_type": "code",
        "id": "jaMSii2qA3zO",
        "colab": {}
      },
      "source": [
        "#Outlier_U=dataset[['Price','City']][df.Price >444750]\n",
        "#print('Upper band outliers: \\n', Outlier_U.describe())\n",
        "#Outlier_U.head(30)"
      ],
      "execution_count": 0,
      "outputs": []
    },
    {
      "cell_type": "markdown",
      "metadata": {
        "colab_type": "text",
        "id": "4rOO_8OEA3zX"
      },
      "source": [
        "### Remove instances below the lower bound outliers\n",
        "#### It seem there are many outliers in the dataset. The minimum house price (£5263) was in Leeds in 1995\n",
        "- A quick review of the <a href=\"https://www.home.co.uk/guides/house_prices_report.htm?location=leeds&all=1\" >**internet**<a/> showed that in the year 1995, the cheapest flat was sold at £35,737.\n",
        "- Also, the maximum house price in the dataset is located in London priced at £594.3 million in the year 2017. This seems to be an extreme value as the most expensive house sold in London in recent years is priced at £160 million <a href=\"https://www.foxtons.co.uk/discover/2018/01/where-are-londons-most-expensive-homes.html\" > **see here**<a/>. \n",
        "- However, only instances below the lower bound outlier were removed\n"
      ]
    },
    {
      "cell_type": "markdown",
      "metadata": {
        "colab_type": "text",
        "id": "ayrFc-LvYd_s"
      },
      "source": [
        "#### 18697 houses sold have price fall below lower bound outlier "
      ]
    },
    {
      "cell_type": "code",
      "metadata": {
        "colab_type": "code",
        "id": "BIiwHRrpVjqi",
        "outputId": "9303eda6-389d-445a-9fdb-d7d3801b285a",
        "colab": {
          "base_uri": "https://localhost:8080/",
          "height": 34
        }
      },
      "source": [
        "#Remove house detail with price less than £ 5263\n",
        "dataset[dataset.Price < 5263].shape[0]"
      ],
      "execution_count": 11,
      "outputs": [
        {
          "output_type": "execute_result",
          "data": {
            "text/plain": [
              "18697"
            ]
          },
          "metadata": {
            "tags": []
          },
          "execution_count": 11
        }
      ]
    },
    {
      "cell_type": "code",
      "metadata": {
        "colab_type": "code",
        "id": "Lq8qCAGqA3zc",
        "outputId": "64ec2721-72ac-483b-abed-ce0c3c94fee5",
        "colab": {
          "base_uri": "https://localhost:8080/",
          "height": 204
        }
      },
      "source": [
        "#Remove house detail with price less than £ 5263\n",
        "dataset=dataset.iloc[:,0:][dataset.Price > 5263]\n",
        "#dataset.rename(columns={'Odd/New': 'Old/New'},inplace = True)\n",
        "dataset.head()"
      ],
      "execution_count": 12,
      "outputs": [
        {
          "output_type": "execute_result",
          "data": {
            "text/html": [
              "<div>\n",
              "<style scoped>\n",
              "    .dataframe tbody tr th:only-of-type {\n",
              "        vertical-align: middle;\n",
              "    }\n",
              "\n",
              "    .dataframe tbody tr th {\n",
              "        vertical-align: top;\n",
              "    }\n",
              "\n",
              "    .dataframe thead th {\n",
              "        text-align: right;\n",
              "    }\n",
              "</style>\n",
              "<table border=\"1\" class=\"dataframe\">\n",
              "  <thead>\n",
              "    <tr style=\"text-align: right;\">\n",
              "      <th></th>\n",
              "      <th>Price</th>\n",
              "      <th>Property_Type</th>\n",
              "      <th>Old/New</th>\n",
              "      <th>Duration</th>\n",
              "      <th>City</th>\n",
              "      <th>Latitude</th>\n",
              "      <th>Longitude</th>\n",
              "      <th>Year</th>\n",
              "      <th>Month</th>\n",
              "      <th>Day</th>\n",
              "    </tr>\n",
              "  </thead>\n",
              "  <tbody>\n",
              "    <tr>\n",
              "      <th>0</th>\n",
              "      <td>42000</td>\n",
              "      <td>Semi-Detached</td>\n",
              "      <td>New</td>\n",
              "      <td>Freehold</td>\n",
              "      <td>NEWCASTLE UPON TYNE</td>\n",
              "      <td>54.97</td>\n",
              "      <td>-1.61</td>\n",
              "      <td>1995</td>\n",
              "      <td>12</td>\n",
              "      <td>21</td>\n",
              "    </tr>\n",
              "    <tr>\n",
              "      <th>1</th>\n",
              "      <td>95000</td>\n",
              "      <td>Semi-Detached</td>\n",
              "      <td>New</td>\n",
              "      <td>Freehold</td>\n",
              "      <td>GRAYS</td>\n",
              "      <td>51.48</td>\n",
              "      <td>0.33</td>\n",
              "      <td>1995</td>\n",
              "      <td>3</td>\n",
              "      <td>3</td>\n",
              "    </tr>\n",
              "    <tr>\n",
              "      <th>2</th>\n",
              "      <td>74950</td>\n",
              "      <td>Detached</td>\n",
              "      <td>Old</td>\n",
              "      <td>Freehold</td>\n",
              "      <td>MIDDLEWICH</td>\n",
              "      <td>53.19</td>\n",
              "      <td>-2.44</td>\n",
              "      <td>1995</td>\n",
              "      <td>10</td>\n",
              "      <td>3</td>\n",
              "    </tr>\n",
              "    <tr>\n",
              "      <th>3</th>\n",
              "      <td>43500</td>\n",
              "      <td>Semi-Detached</td>\n",
              "      <td>New</td>\n",
              "      <td>Freehold</td>\n",
              "      <td>BILLINGHAM</td>\n",
              "      <td>54.61</td>\n",
              "      <td>-1.29</td>\n",
              "      <td>1995</td>\n",
              "      <td>11</td>\n",
              "      <td>14</td>\n",
              "    </tr>\n",
              "    <tr>\n",
              "      <th>4</th>\n",
              "      <td>63000</td>\n",
              "      <td>Semi-Detached</td>\n",
              "      <td>New</td>\n",
              "      <td>Freehold</td>\n",
              "      <td>CLEATOR MOOR</td>\n",
              "      <td>54.52</td>\n",
              "      <td>-3.52</td>\n",
              "      <td>1995</td>\n",
              "      <td>9</td>\n",
              "      <td>8</td>\n",
              "    </tr>\n",
              "  </tbody>\n",
              "</table>\n",
              "</div>"
            ],
            "text/plain": [
              "   Price  Property_Type Old/New  Duration  ... Longitude  Year  Month  Day\n",
              "0  42000  Semi-Detached     New  Freehold  ...     -1.61  1995     12   21\n",
              "1  95000  Semi-Detached     New  Freehold  ...      0.33  1995      3    3\n",
              "2  74950       Detached     Old  Freehold  ...     -2.44  1995     10    3\n",
              "3  43500  Semi-Detached     New  Freehold  ...     -1.29  1995     11   14\n",
              "4  63000  Semi-Detached     New  Freehold  ...     -3.52  1995      9    8\n",
              "\n",
              "[5 rows x 10 columns]"
            ]
          },
          "metadata": {
            "tags": []
          },
          "execution_count": 12
        }
      ]
    },
    {
      "cell_type": "markdown",
      "metadata": {
        "colab_type": "text",
        "id": "s1lmQ8ZhXMZ4"
      },
      "source": [
        "## Data Visualisation"
      ]
    },
    {
      "cell_type": "code",
      "metadata": {
        "colab_type": "code",
        "id": "XB16-q3rYu9L",
        "colab": {}
      },
      "source": [
        "#from pandas.plotting import scatter_matrix\n",
        "#num_features = ['Latitude','Longitude','Year','Month','Day','Price']\n",
        "\n",
        "#scatter_matrix(dataset[num_features], figsize=(12, 8))\n",
        "#_ = sns.pairplot(data, diag_kind='kde')"
      ],
      "execution_count": 0,
      "outputs": []
    },
    {
      "cell_type": "code",
      "metadata": {
        "colab_type": "code",
        "id": "drIGCVCUfBSE",
        "outputId": "530ebc08-0d48-4afc-f48b-14dc9af57d57",
        "colab": {
          "base_uri": "https://localhost:8080/",
          "height": 525
        }
      },
      "source": [
        "_= dataset.plot(kind=\"scatter\", x=\"Longitude\", y=\"Latitude\", alpha=0.4,\n",
        "             s=dataset[\"Year\"]/100, label=\"Year\", figsize=(12,8),\n",
        "             c=\"Price\", cmap=plt.get_cmap(\"jet\"), colorbar=True,\n",
        "             sharex=False)\n",
        "plt.legend()"
      ],
      "execution_count": 0,
      "outputs": [
        {
          "output_type": "execute_result",
          "data": {
            "text/plain": [
              "<matplotlib.legend.Legend at 0x7fe52b68af28>"
            ]
          },
          "metadata": {
            "tags": []
          },
          "execution_count": 10
        },
        {
          "output_type": "display_data",
          "data": {
            "image/png": "[encoded data removed]",
            "text/plain": [
              "<Figure size 864x576 with 2 Axes>"
            ]
          },
          "metadata": {
            "tags": []
          }
        }
      ]
    },
    {
      "cell_type": "code",
      "metadata": {
        "colab_type": "code",
        "id": "GD9NKn4a3DXH",
        "outputId": "d62e2f9d-5629-43cd-f33f-76df83d5246e",
        "colab": {
          "base_uri": "https://localhost:8080/",
          "height": 402
        }
      },
      "source": [
        "_=sns.catplot(x=\"Month\", y=\"Duration\", hue=\"Old/New\",\n",
        "            kind=\"box\", dodge=False, data=dataset)\n",
        "plt.title('Boxplot showing distribution of houses sold per month')"
      ],
      "execution_count": 0,
      "outputs": [
        {
          "output_type": "execute_result",
          "data": {
            "text/plain": [
              "Text(0.5, 1, 'Boxplot showing distribution of houses sold per month')"
            ]
          },
          "metadata": {
            "tags": []
          },
          "execution_count": 13
        },
        {
          "output_type": "display_data",
          "data": {
            "image/png": "[encoded data removed]",
            "text/plain": [
              "<Figure size 417.75x360 with 1 Axes>"
            ]
          },
          "metadata": {
            "tags": []
          }
        }
      ]
    },
    {
      "cell_type": "code",
      "metadata": {
        "colab_type": "code",
        "id": "M4vprmX75Xi8",
        "outputId": "682c2b86-9569-4b1e-d9ab-dea92350aaa6",
        "colab": {
          "base_uri": "https://localhost:8080/",
          "height": 386
        }
      },
      "source": [
        "sns.catplot(x=\"Old/New\", y=\"Price\", hue=\"Property_Type\", kind=\"bar\", data= dataset)"
      ],
      "execution_count": 0,
      "outputs": [
        {
          "output_type": "execute_result",
          "data": {
            "text/plain": [
              "<seaborn.axisgrid.FacetGrid at 0x7f754c4a5da0>"
            ]
          },
          "metadata": {
            "tags": []
          },
          "execution_count": 25
        },
        {
          "output_type": "display_data",
          "data": {
            "image/png": "[encoded data removed]",
            "text/plain": [
              "<Figure size 483.75x360 with 1 Axes>"
            ]
          },
          "metadata": {
            "tags": []
          }
        }
      ]
    },
    {
      "cell_type": "code",
      "metadata": {
        "colab_type": "code",
        "id": "gmj6phk-ISDK",
        "outputId": "3bc69ee4-cebd-441a-84dd-c125bf508839",
        "colab": {
          "base_uri": "https://localhost:8080/",
          "height": 383
        }
      },
      "source": [
        "_= sns.catplot(y=\"Property_Type\", hue=\"Old/New\", kind=\"count\",\n",
        "            palette=\"pastel\", edgecolor=\".6\",\n",
        "            data= dataset)"
      ],
      "execution_count": 0,
      "outputs": [
        {
          "output_type": "display_data",
          "data": {
            "image/png": "[encoded data removed]",
            "text/plain": [
              "<Figure size 417.75x360 with 1 Axes>"
            ]
          },
          "metadata": {
            "tags": []
          }
        }
      ]
    },
    {
      "cell_type": "code",
      "metadata": {
        "colab_type": "code",
        "id": "TfzQARUjJC_o",
        "outputId": "ec2086e1-4652-4a10-d73c-563805cc757f",
        "colab": {
          "base_uri": "https://localhost:8080/",
          "height": 386
        }
      },
      "source": [
        "sns.catplot(x=\"Duration\", y=\"Price\", hue=\"Old/New\",\n",
        "            palette={\"New\": \"g\", \"Old\": \"m\"},\n",
        "            markers=[\"^\", \"o\"], linestyles=[\"-\", \"--\"],\n",
        "            kind=\"point\", data=dataset)"
      ],
      "execution_count": 0,
      "outputs": [
        {
          "output_type": "execute_result",
          "data": {
            "text/plain": [
              "<seaborn.axisgrid.FacetGrid at 0x7f754c309518>"
            ]
          },
          "metadata": {
            "tags": []
          },
          "execution_count": 27
        },
        {
          "output_type": "display_data",
          "data": {
            "image/png": "[encoded data removed]",
            "text/plain": [
              "<Figure size 417.75x360 with 1 Axes>"
            ]
          },
          "metadata": {
            "tags": []
          }
        }
      ]
    },
    {
      "cell_type": "code",
      "metadata": {
        "colab_type": "code",
        "id": "vyUb9h-8S3hr",
        "outputId": "3d785211-5c96-4b92-8b55-8274d77452d3",
        "colab": {
          "base_uri": "https://localhost:8080/",
          "height": 337
        }
      },
      "source": [
        "ax = sns.catplot(x=\"Price\", y=\"Old/New\", row=\"Duration\",\n",
        "                kind=\"box\", orient=\"h\", height=1.5, aspect=4,\n",
        "                data=dataset.query(\"Price > 0\"))\n",
        "ax.set(xscale=\"log\")\n",
        "plt.show()"
      ],
      "execution_count": 0,
      "outputs": [
        {
          "output_type": "display_data",
          "data": {
            "image/png": "[encoded data removed]",
            "text/plain": [
              "<Figure size 432x324 with 3 Axes>"
            ]
          },
          "metadata": {
            "tags": []
          }
        }
      ]
    },
    {
      "cell_type": "code",
      "metadata": {
        "colab_type": "code",
        "id": "C6S2Zc3xb_b_",
        "colab": {}
      },
      "source": [
        "#_=sns.catplot(x=\"Duration\", y=\"Price\", kind=\"boxen\",\n",
        "#            data=dataset.sort_values(\"Duration\"))"
      ],
      "execution_count": 0,
      "outputs": []
    },
    {
      "cell_type": "code",
      "metadata": {
        "colab_type": "code",
        "id": "rG4aQf8xA3zw",
        "colab": {}
      },
      "source": [
        "#dataset.iloc[:,4][dataset.iloc[:,4]!='LONDON']='OTHERS'\n",
        "#dataset.City.value_counts()"
      ],
      "execution_count": 0,
      "outputs": []
    },
    {
      "cell_type": "markdown",
      "metadata": {
        "colab_type": "text",
        "id": "EzdHVrDAA3z3"
      },
      "source": [
        "#### OnehotEncoding of Categorical variables using get_dummies method"
      ]
    },
    {
      "cell_type": "code",
      "metadata": {
        "colab_type": "code",
        "id": "MIDcrwscA3z5",
        "colab": {}
      },
      "source": [
        "def get_dummie(data,cat_feat=None):\n",
        "    dummie_variables=pd.get_dummies(data[cat_feat], drop_first= True)\n",
        "    df=data.drop(cat_feat, axis=1,)\n",
        "    return pd.concat([df,dummie_variables],axis=1)"
      ],
      "execution_count": 0,
      "outputs": []
    },
    {
      "cell_type": "code",
      "metadata": {
        "colab_type": "code",
        "id": "rEJFMiNwA3z8",
        "colab": {
          "base_uri": "https://localhost:8080/",
          "height": 241
        },
        "outputId": "5f9beb00-b9dc-455a-cd5c-a21b2b712af5"
      },
      "source": [
        "features=['Property_Type','Old/New', 'Duration']\n",
        "dataset_new = dataset.drop('City', axis = 1) # drop City column to reduce high cardinality\n",
        "# transform price to logarithm form\n",
        "dataset['Price'] = dataset['Price'].apply(lambda x: np.log(x))\n",
        "#onehote encode the categorical variables\n",
        "dataset_trsfm=get_dummie(dataset_new,cat_feat=features)\n",
        "\n",
        "dataset_trsfm.head()"
      ],
      "execution_count": 21,
      "outputs": [
        {
          "output_type": "execute_result",
          "data": {
            "text/html": [
              "<div>\n",
              "<style scoped>\n",
              "    .dataframe tbody tr th:only-of-type {\n",
              "        vertical-align: middle;\n",
              "    }\n",
              "\n",
              "    .dataframe tbody tr th {\n",
              "        vertical-align: top;\n",
              "    }\n",
              "\n",
              "    .dataframe thead th {\n",
              "        text-align: right;\n",
              "    }\n",
              "</style>\n",
              "<table border=\"1\" class=\"dataframe\">\n",
              "  <thead>\n",
              "    <tr style=\"text-align: right;\">\n",
              "      <th></th>\n",
              "      <th>Price</th>\n",
              "      <th>Latitude</th>\n",
              "      <th>Longitude</th>\n",
              "      <th>Year</th>\n",
              "      <th>Month</th>\n",
              "      <th>Day</th>\n",
              "      <th>Property_Type_Flats/Maisonettes</th>\n",
              "      <th>Property_Type_Others</th>\n",
              "      <th>Property_Type_Semi-Detached</th>\n",
              "      <th>Property_Type_Terraced</th>\n",
              "      <th>Old/New_Old</th>\n",
              "      <th>Duration_Leasehold</th>\n",
              "      <th>Duration_Others</th>\n",
              "    </tr>\n",
              "  </thead>\n",
              "  <tbody>\n",
              "    <tr>\n",
              "      <th>0</th>\n",
              "      <td>2.365130</td>\n",
              "      <td>54.97</td>\n",
              "      <td>-1.61</td>\n",
              "      <td>1995</td>\n",
              "      <td>12</td>\n",
              "      <td>21</td>\n",
              "      <td>0</td>\n",
              "      <td>0</td>\n",
              "      <td>1</td>\n",
              "      <td>0</td>\n",
              "      <td>0</td>\n",
              "      <td>0</td>\n",
              "      <td>0</td>\n",
              "    </tr>\n",
              "    <tr>\n",
              "      <th>1</th>\n",
              "      <td>2.439005</td>\n",
              "      <td>51.48</td>\n",
              "      <td>0.33</td>\n",
              "      <td>1995</td>\n",
              "      <td>3</td>\n",
              "      <td>3</td>\n",
              "      <td>0</td>\n",
              "      <td>0</td>\n",
              "      <td>1</td>\n",
              "      <td>0</td>\n",
              "      <td>0</td>\n",
              "      <td>0</td>\n",
              "      <td>0</td>\n",
              "    </tr>\n",
              "    <tr>\n",
              "      <th>2</th>\n",
              "      <td>2.418106</td>\n",
              "      <td>53.19</td>\n",
              "      <td>-2.44</td>\n",
              "      <td>1995</td>\n",
              "      <td>10</td>\n",
              "      <td>3</td>\n",
              "      <td>0</td>\n",
              "      <td>0</td>\n",
              "      <td>0</td>\n",
              "      <td>0</td>\n",
              "      <td>1</td>\n",
              "      <td>0</td>\n",
              "      <td>0</td>\n",
              "    </tr>\n",
              "    <tr>\n",
              "      <th>3</th>\n",
              "      <td>2.368421</td>\n",
              "      <td>54.61</td>\n",
              "      <td>-1.29</td>\n",
              "      <td>1995</td>\n",
              "      <td>11</td>\n",
              "      <td>14</td>\n",
              "      <td>0</td>\n",
              "      <td>0</td>\n",
              "      <td>1</td>\n",
              "      <td>0</td>\n",
              "      <td>0</td>\n",
              "      <td>0</td>\n",
              "      <td>0</td>\n",
              "    </tr>\n",
              "    <tr>\n",
              "      <th>4</th>\n",
              "      <td>2.402511</td>\n",
              "      <td>54.52</td>\n",
              "      <td>-3.52</td>\n",
              "      <td>1995</td>\n",
              "      <td>9</td>\n",
              "      <td>8</td>\n",
              "      <td>0</td>\n",
              "      <td>0</td>\n",
              "      <td>1</td>\n",
              "      <td>0</td>\n",
              "      <td>0</td>\n",
              "      <td>0</td>\n",
              "      <td>0</td>\n",
              "    </tr>\n",
              "  </tbody>\n",
              "</table>\n",
              "</div>"
            ],
            "text/plain": [
              "      Price  Latitude  ...  Duration_Leasehold  Duration_Others\n",
              "0  2.365130     54.97  ...                   0                0\n",
              "1  2.439005     51.48  ...                   0                0\n",
              "2  2.418106     53.19  ...                   0                0\n",
              "3  2.368421     54.61  ...                   0                0\n",
              "4  2.402511     54.52  ...                   0                0\n",
              "\n",
              "[5 rows x 13 columns]"
            ]
          },
          "metadata": {
            "tags": []
          },
          "execution_count": 21
        }
      ]
    },
    {
      "cell_type": "markdown",
      "metadata": {
        "colab_type": "text",
        "id": "ue9-9QPDrBxb"
      },
      "source": [
        "### Correlation between Price as other features\n",
        "- There is poor correlation between the house price and all the features\n",
        "- Relation between house price and the features is non-linear"
      ]
    },
    {
      "cell_type": "code",
      "metadata": {
        "id": "yQo_CV8z7DfG",
        "colab_type": "code",
        "colab": {
          "base_uri": "https://localhost:8080/",
          "height": 255
        },
        "outputId": "496ba407-8c8b-49df-d84b-a05dc1732bc2"
      },
      "source": [
        "corr_matrix = dataset_trsfm.corr()\n",
        "corr_matrix[\"Price\"].sort_values(ascending=False)"
      ],
      "execution_count": 22,
      "outputs": [
        {
          "output_type": "execute_result",
          "data": {
            "text/plain": [
              "Price                              1.000000\n",
              "Year                               0.539606\n",
              "Old/New_Old                        0.073323\n",
              "Property_Type_Others               0.071546\n",
              "Month                              0.019376\n",
              "Longitude                          0.018230\n",
              "Duration_Others                   -0.000566\n",
              "Property_Type_Flats/Maisonettes   -0.004351\n",
              "Day                               -0.012509\n",
              "Latitude                          -0.039347\n",
              "Property_Type_Semi-Detached       -0.055968\n",
              "Duration_Leasehold                -0.067982\n",
              "Property_Type_Terraced            -0.223051\n",
              "Name: Price, dtype: float64"
            ]
          },
          "metadata": {
            "tags": []
          },
          "execution_count": 22
        }
      ]
    },
    {
      "cell_type": "markdown",
      "metadata": {
        "colab_type": "text",
        "id": "3gAi6fYlA30A"
      },
      "source": [
        "### Heat map that shows correlation between the features"
      ]
    },
    {
      "cell_type": "code",
      "metadata": {
        "colab_type": "code",
        "id": "5IZeyykXA30B",
        "colab": {}
      },
      "source": [
        "def Heat_map(data, features):\n",
        "    plt.figure(figsize=(15, 12))\n",
        "    sns.heatmap(data[features].corr(), cmap='RdBu', annot=True)\n",
        "    plt.xticks(rotation=45)                     "
      ],
      "execution_count": 0,
      "outputs": []
    },
    {
      "cell_type": "code",
      "metadata": {
        "colab_type": "code",
        "id": "FPUYXTAXA30D",
        "outputId": "f3e0310d-0a51-4938-e631-a3bf47d60a3d",
        "colab": {
          "base_uri": "https://localhost:8080/",
          "height": 817
        }
      },
      "source": [
        "Heat_map(dataset_trsfm,list(dataset_trsfm.columns))"
      ],
      "execution_count": 24,
      "outputs": [
        {
          "output_type": "display_data",
          "data": {
            "image/png": "[encoded data removed]",
            "text/plain": [
              "<Figure size 1080x864 with 2 Axes>"
            ]
          },
          "metadata": {
            "tags": [],
            "needs_background": "light"
          }
        }
      ]
    },
    {
      "cell_type": "markdown",
      "metadata": {
        "id": "kv51cQIk7lXP",
        "colab_type": "text"
      },
      "source": [
        "## Modelling"
      ]
    },
    {
      "cell_type": "code",
      "metadata": {
        "id": "bzZQf3pi8Wo3",
        "colab_type": "code",
        "colab": {
          "base_uri": "https://localhost:8080/",
          "height": 241
        },
        "outputId": "60a8987c-c38e-4577-fc60-72c3aa2902e9"
      },
      "source": [
        "dataset_trsfm.head()"
      ],
      "execution_count": 25,
      "outputs": [
        {
          "output_type": "execute_result",
          "data": {
            "text/html": [
              "<div>\n",
              "<style scoped>\n",
              "    .dataframe tbody tr th:only-of-type {\n",
              "        vertical-align: middle;\n",
              "    }\n",
              "\n",
              "    .dataframe tbody tr th {\n",
              "        vertical-align: top;\n",
              "    }\n",
              "\n",
              "    .dataframe thead th {\n",
              "        text-align: right;\n",
              "    }\n",
              "</style>\n",
              "<table border=\"1\" class=\"dataframe\">\n",
              "  <thead>\n",
              "    <tr style=\"text-align: right;\">\n",
              "      <th></th>\n",
              "      <th>Price</th>\n",
              "      <th>Latitude</th>\n",
              "      <th>Longitude</th>\n",
              "      <th>Year</th>\n",
              "      <th>Month</th>\n",
              "      <th>Day</th>\n",
              "      <th>Property_Type_Flats/Maisonettes</th>\n",
              "      <th>Property_Type_Others</th>\n",
              "      <th>Property_Type_Semi-Detached</th>\n",
              "      <th>Property_Type_Terraced</th>\n",
              "      <th>Old/New_Old</th>\n",
              "      <th>Duration_Leasehold</th>\n",
              "      <th>Duration_Others</th>\n",
              "    </tr>\n",
              "  </thead>\n",
              "  <tbody>\n",
              "    <tr>\n",
              "      <th>0</th>\n",
              "      <td>2.365130</td>\n",
              "      <td>54.97</td>\n",
              "      <td>-1.61</td>\n",
              "      <td>1995</td>\n",
              "      <td>12</td>\n",
              "      <td>21</td>\n",
              "      <td>0</td>\n",
              "      <td>0</td>\n",
              "      <td>1</td>\n",
              "      <td>0</td>\n",
              "      <td>0</td>\n",
              "      <td>0</td>\n",
              "      <td>0</td>\n",
              "    </tr>\n",
              "    <tr>\n",
              "      <th>1</th>\n",
              "      <td>2.439005</td>\n",
              "      <td>51.48</td>\n",
              "      <td>0.33</td>\n",
              "      <td>1995</td>\n",
              "      <td>3</td>\n",
              "      <td>3</td>\n",
              "      <td>0</td>\n",
              "      <td>0</td>\n",
              "      <td>1</td>\n",
              "      <td>0</td>\n",
              "      <td>0</td>\n",
              "      <td>0</td>\n",
              "      <td>0</td>\n",
              "    </tr>\n",
              "    <tr>\n",
              "      <th>2</th>\n",
              "      <td>2.418106</td>\n",
              "      <td>53.19</td>\n",
              "      <td>-2.44</td>\n",
              "      <td>1995</td>\n",
              "      <td>10</td>\n",
              "      <td>3</td>\n",
              "      <td>0</td>\n",
              "      <td>0</td>\n",
              "      <td>0</td>\n",
              "      <td>0</td>\n",
              "      <td>1</td>\n",
              "      <td>0</td>\n",
              "      <td>0</td>\n",
              "    </tr>\n",
              "    <tr>\n",
              "      <th>3</th>\n",
              "      <td>2.368421</td>\n",
              "      <td>54.61</td>\n",
              "      <td>-1.29</td>\n",
              "      <td>1995</td>\n",
              "      <td>11</td>\n",
              "      <td>14</td>\n",
              "      <td>0</td>\n",
              "      <td>0</td>\n",
              "      <td>1</td>\n",
              "      <td>0</td>\n",
              "      <td>0</td>\n",
              "      <td>0</td>\n",
              "      <td>0</td>\n",
              "    </tr>\n",
              "    <tr>\n",
              "      <th>4</th>\n",
              "      <td>2.402511</td>\n",
              "      <td>54.52</td>\n",
              "      <td>-3.52</td>\n",
              "      <td>1995</td>\n",
              "      <td>9</td>\n",
              "      <td>8</td>\n",
              "      <td>0</td>\n",
              "      <td>0</td>\n",
              "      <td>1</td>\n",
              "      <td>0</td>\n",
              "      <td>0</td>\n",
              "      <td>0</td>\n",
              "      <td>0</td>\n",
              "    </tr>\n",
              "  </tbody>\n",
              "</table>\n",
              "</div>"
            ],
            "text/plain": [
              "      Price  Latitude  ...  Duration_Leasehold  Duration_Others\n",
              "0  2.365130     54.97  ...                   0                0\n",
              "1  2.439005     51.48  ...                   0                0\n",
              "2  2.418106     53.19  ...                   0                0\n",
              "3  2.368421     54.61  ...                   0                0\n",
              "4  2.402511     54.52  ...                   0                0\n",
              "\n",
              "[5 rows x 13 columns]"
            ]
          },
          "metadata": {
            "tags": []
          },
          "execution_count": 25
        }
      ]
    },
    {
      "cell_type": "markdown",
      "metadata": {
        "id": "yTNS1XxE_pg4",
        "colab_type": "text"
      },
      "source": [
        "## Split data set to training and test sets"
      ]
    },
    {
      "cell_type": "code",
      "metadata": {
        "id": "KU92qvsh_k1J",
        "colab_type": "code",
        "colab": {
          "base_uri": "https://localhost:8080/",
          "height": 51
        },
        "outputId": "2bf32e4c-ee5d-4ac9-ebb0-56c1476c3b72"
      },
      "source": [
        "features = dataset_trsfm.loc[:,'Latitude':'Duration_Others']\n",
        "target=dataset_trsfm['Price']\n",
        "train_features,test_features, train_target,test_target=train_test_split(features,target,test_size=0.2, random_state=42)\n",
        "print('The number of training set is: {}. \\nThe number of test set is: {}' .format(train_features.shape[0],test_features.shape[0]) )"
      ],
      "execution_count": 34,
      "outputs": [
        {
          "output_type": "stream",
          "text": [
            "The number of training set is: 19727579. \n",
            "The number of test set is: 4931895\n"
          ],
          "name": "stdout"
        }
      ]
    },
    {
      "cell_type": "code",
      "metadata": {
        "id": "GIYUGGoU_aKb",
        "colab_type": "code",
        "colab": {}
      },
      "source": [
        "features\n",
        "pipeline = make_pipeline(make_column_transformer()"
      ],
      "execution_count": 0,
      "outputs": []
    },
    {
      "cell_type": "code",
      "metadata": {
        "id": "me8SQjuFrzNX",
        "colab_type": "code",
        "colab": {},
        "outputId": "01eb3c37-9c2c-4adb-b67e-eb0b12c6721a"
      },
      "source": [
        "dataset_trsfm = dataset_trsfm[['Latitude','Longitude','Year','Month','Day','Property_Type_Detached', 'Property_Type_Flats/Maisonettes','Property_Type_Others','Property_Type_Semi-Detached', 'Property_Type_Terraced', 'Old/New_New','Old/New_Old', 'Duration_Freehold','Duration_Leasehold','Duration_Others','Price']]\n",
        "dataset_trsfm.head()"
      ],
      "execution_count": 0,
      "outputs": [
        {
          "output_type": "execute_result",
          "data": {
            "text/html": [
              "<div>\n",
              "<style scoped>\n",
              "    .dataframe tbody tr th:only-of-type {\n",
              "        vertical-align: middle;\n",
              "    }\n",
              "\n",
              "    .dataframe tbody tr th {\n",
              "        vertical-align: top;\n",
              "    }\n",
              "\n",
              "    .dataframe thead th {\n",
              "        text-align: right;\n",
              "    }\n",
              "</style>\n",
              "<table border=\"1\" class=\"dataframe\">\n",
              "  <thead>\n",
              "    <tr style=\"text-align: right;\">\n",
              "      <th></th>\n",
              "      <th>Latitude</th>\n",
              "      <th>Longitude</th>\n",
              "      <th>Year</th>\n",
              "      <th>Month</th>\n",
              "      <th>Day</th>\n",
              "      <th>Property_Type_Detached</th>\n",
              "      <th>Property_Type_Flats/Maisonettes</th>\n",
              "      <th>Property_Type_Others</th>\n",
              "      <th>Property_Type_Semi-Detached</th>\n",
              "      <th>Property_Type_Terraced</th>\n",
              "      <th>Old/New_New</th>\n",
              "      <th>Old/New_Old</th>\n",
              "      <th>Duration_Freehold</th>\n",
              "      <th>Duration_Leasehold</th>\n",
              "      <th>Duration_Others</th>\n",
              "      <th>Price</th>\n",
              "    </tr>\n",
              "  </thead>\n",
              "  <tbody>\n",
              "    <tr>\n",
              "      <td>0</td>\n",
              "      <td>54.97</td>\n",
              "      <td>-1.61</td>\n",
              "      <td>1995</td>\n",
              "      <td>12</td>\n",
              "      <td>21</td>\n",
              "      <td>0</td>\n",
              "      <td>0</td>\n",
              "      <td>0</td>\n",
              "      <td>1</td>\n",
              "      <td>0</td>\n",
              "      <td>1</td>\n",
              "      <td>0</td>\n",
              "      <td>1</td>\n",
              "      <td>0</td>\n",
              "      <td>0</td>\n",
              "      <td>42000</td>\n",
              "    </tr>\n",
              "    <tr>\n",
              "      <td>1</td>\n",
              "      <td>51.48</td>\n",
              "      <td>0.33</td>\n",
              "      <td>1995</td>\n",
              "      <td>3</td>\n",
              "      <td>3</td>\n",
              "      <td>0</td>\n",
              "      <td>0</td>\n",
              "      <td>0</td>\n",
              "      <td>1</td>\n",
              "      <td>0</td>\n",
              "      <td>1</td>\n",
              "      <td>0</td>\n",
              "      <td>1</td>\n",
              "      <td>0</td>\n",
              "      <td>0</td>\n",
              "      <td>95000</td>\n",
              "    </tr>\n",
              "    <tr>\n",
              "      <td>2</td>\n",
              "      <td>53.19</td>\n",
              "      <td>-2.44</td>\n",
              "      <td>1995</td>\n",
              "      <td>10</td>\n",
              "      <td>3</td>\n",
              "      <td>1</td>\n",
              "      <td>0</td>\n",
              "      <td>0</td>\n",
              "      <td>0</td>\n",
              "      <td>0</td>\n",
              "      <td>0</td>\n",
              "      <td>1</td>\n",
              "      <td>1</td>\n",
              "      <td>0</td>\n",
              "      <td>0</td>\n",
              "      <td>74950</td>\n",
              "    </tr>\n",
              "    <tr>\n",
              "      <td>3</td>\n",
              "      <td>54.61</td>\n",
              "      <td>-1.29</td>\n",
              "      <td>1995</td>\n",
              "      <td>11</td>\n",
              "      <td>14</td>\n",
              "      <td>0</td>\n",
              "      <td>0</td>\n",
              "      <td>0</td>\n",
              "      <td>1</td>\n",
              "      <td>0</td>\n",
              "      <td>1</td>\n",
              "      <td>0</td>\n",
              "      <td>1</td>\n",
              "      <td>0</td>\n",
              "      <td>0</td>\n",
              "      <td>43500</td>\n",
              "    </tr>\n",
              "    <tr>\n",
              "      <td>4</td>\n",
              "      <td>54.52</td>\n",
              "      <td>-3.52</td>\n",
              "      <td>1995</td>\n",
              "      <td>9</td>\n",
              "      <td>8</td>\n",
              "      <td>0</td>\n",
              "      <td>0</td>\n",
              "      <td>0</td>\n",
              "      <td>1</td>\n",
              "      <td>0</td>\n",
              "      <td>1</td>\n",
              "      <td>0</td>\n",
              "      <td>1</td>\n",
              "      <td>0</td>\n",
              "      <td>0</td>\n",
              "      <td>63000</td>\n",
              "    </tr>\n",
              "  </tbody>\n",
              "</table>\n",
              "</div>"
            ],
            "text/plain": [
              "   Latitude  Longitude  Year  Month  Day  Property_Type_Detached  \\\n",
              "0     54.97      -1.61  1995     12   21                       0   \n",
              "1     51.48       0.33  1995      3    3                       0   \n",
              "2     53.19      -2.44  1995     10    3                       1   \n",
              "3     54.61      -1.29  1995     11   14                       0   \n",
              "4     54.52      -3.52  1995      9    8                       0   \n",
              "\n",
              "   Property_Type_Flats/Maisonettes  Property_Type_Others  \\\n",
              "0                                0                     0   \n",
              "1                                0                     0   \n",
              "2                                0                     0   \n",
              "3                                0                     0   \n",
              "4                                0                     0   \n",
              "\n",
              "   Property_Type_Semi-Detached  Property_Type_Terraced  Old/New_New  \\\n",
              "0                            1                       0            1   \n",
              "1                            1                       0            1   \n",
              "2                            0                       0            0   \n",
              "3                            1                       0            1   \n",
              "4                            1                       0            1   \n",
              "\n",
              "   Old/New_Old  Duration_Freehold  Duration_Leasehold  Duration_Others  Price  \n",
              "0            0                  1                   0                0  42000  \n",
              "1            0                  1                   0                0  95000  \n",
              "2            1                  1                   0                0  74950  \n",
              "3            0                  1                   0                0  43500  \n",
              "4            0                  1                   0                0  63000  "
            ]
          },
          "metadata": {
            "tags": []
          },
          "execution_count": 22
        }
      ]
    },
    {
      "cell_type": "code",
      "metadata": {
        "colab_type": "code",
        "id": "eTw_hZ2rA30M",
        "outputId": "b3f884b1-1770-4517-c1ab-b0ef524eb0fb",
        "colab": {}
      },
      "source": [
        ""
      ],
      "execution_count": 0,
      "outputs": [
        {
          "output_type": "stream",
          "text": [
            "The number of training set is: 17261631. \n",
            "The number of test set is: 7397843\n"
          ],
          "name": "stdout"
        }
      ]
    }
  ]
}