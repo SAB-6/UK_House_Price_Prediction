{
 "cells": [
  {
   "cell_type": "markdown",
   "metadata": {
    "colab_type": "text",
    "id": "jaTYUQJQA3yE"
   },
   "source": [
    "## UK house price prediction Exploratory data analysis (EDA)\n",
    "#### Data Source: HM Land Registry Price Pai Data <a href=\"https://data.gov.uk/dataset/4c9b7641-cf73-4fd9-869a-4bfeed6d440e/hm-land-registry-price-paid-data\">Link<a/>"
   ]
  },
  {
   "cell_type": "markdown",
   "metadata": {
    "colab_type": "text",
    "id": "YZhwZeUWA3yI"
   },
   "source": [
    "_Author **Shereef Bankole**_\n",
    "<br/> **LinkedIn click** <a href=\"https://www.linkedin.com/in/shereef-b-b9aab823/\">Here<a/>\n",
    "<br/> **Github click**  <a href=\"https://github.com/SAB-6\">Here<a/>"
   ]
  },
  {
   "cell_type": "markdown",
   "metadata": {},
   "source": [
    "<img src=\"https://cdn.images.express.co.uk/img/dynamic/23/590x/BREXIT-HOUSE-PRICES-829811.jpg\"/>"
   ]
  },
  {
   "cell_type": "markdown",
   "metadata": {
    "colab": {
     "base_uri": "https://localhost:8080/",
     "height": 34
    },
    "colab_type": "code",
    "id": "cwZoP3yCBp_S",
    "outputId": "55b5d494-ce14-4438-a170-a8fc5db747b3"
   },
   "source": [
    "from google.colab import drive\n",
    "drive.mount('/content/drive')"
   ]
  },
  {
   "cell_type": "code",
   "execution_count": 1,
   "metadata": {
    "colab": {},
    "colab_type": "code",
    "id": "jfgR5Qb5Cf3l"
   },
   "outputs": [],
   "source": [
    "import numpy as np\n",
    "import os\n",
    "import pandas as pd\n",
    "import matplotlib.pyplot as plt\n",
    "import seaborn as sns\n",
    "import warnings\n",
    "warnings.filterwarnings('ignore')\n",
    "%matplotlib inline"
   ]
  },
  {
   "cell_type": "code",
   "execution_count": 0,
   "metadata": {
    "colab": {},
    "colab_type": "code",
    "id": "9Dli3RDSCQn2"
   },
   "outputs": [],
   "source": [
    "root_directory = '.'\n",
    "#file_path = os.path.join (root_directory, 'drive', 'My Drive', 'pp-complete.csv')"
   ]
  },
  {
   "cell_type": "markdown",
   "metadata": {
    "colab_type": "text",
    "id": "zVoKX4dmA3yQ"
   },
   "source": [
    "### Import data and extract relevant columns"
   ]
  },
  {
   "cell_type": "code",
   "execution_count": 0,
   "metadata": {
    "colab": {},
    "colab_type": "code",
    "id": "sJqxcJ25A3yR"
   },
   "outputs": [],
   "source": [
    "df=pd.read_csv(file_path, chunksize=100000, header=None)"
   ]
  },
  {
   "cell_type": "code",
   "execution_count": 0,
   "metadata": {
    "colab": {},
    "colab_type": "code",
    "id": "HiWZGx1zA3yU"
   },
   "outputs": [],
   "source": [
    "chunk_list=[]\n",
    "for chunk in df:\n",
    "    chunk_filter=chunk.loc[:,[1,2,4,5,6,11]]\n",
    "    chunk_list.append(chunk_filter)\n",
    "df=pd.concat(chunk_list)"
   ]
  },
  {
   "cell_type": "markdown",
   "metadata": {
    "colab_type": "text",
    "id": "uGGPsNzaA3yY"
   },
   "source": [
    "### Set the columns heading"
   ]
  },
  {
   "cell_type": "code",
   "execution_count": 0,
   "metadata": {
    "colab": {},
    "colab_type": "code",
    "id": "8UiFng7KA3yZ"
   },
   "outputs": [],
   "source": [
    "df.columns=[['Price','Date_of_Transfer','Property_Type','Odd/New', 'Duration','City']]"
   ]
  },
  {
   "cell_type": "markdown",
   "metadata": {
    "colab_type": "text",
    "id": "uhe5FU4UA3yc"
   },
   "source": [
    "### Preview the data"
   ]
  },
  {
   "cell_type": "code",
   "execution_count": 0,
   "metadata": {
    "colab": {
     "base_uri": "https://localhost:8080/",
     "height": 204
    },
    "colab_type": "code",
    "id": "xPaxnOR5A3yc",
    "outputId": "19b6ce61-0527-4879-b3c8-a77bf0ce3da7"
   },
   "outputs": [
    {
     "data": {
      "text/html": [
       "<div>\n",
       "<style scoped>\n",
       "    .dataframe tbody tr th:only-of-type {\n",
       "        vertical-align: middle;\n",
       "    }\n",
       "\n",
       "    .dataframe tbody tr th {\n",
       "        vertical-align: top;\n",
       "    }\n",
       "\n",
       "    .dataframe thead tr th {\n",
       "        text-align: left;\n",
       "    }\n",
       "</style>\n",
       "<table border=\"1\" class=\"dataframe\">\n",
       "  <thead>\n",
       "    <tr>\n",
       "      <th></th>\n",
       "      <th>Price</th>\n",
       "      <th>Date_of_Transfer</th>\n",
       "      <th>Property_Type</th>\n",
       "      <th>Odd/New</th>\n",
       "      <th>Duration</th>\n",
       "      <th>City</th>\n",
       "    </tr>\n",
       "  </thead>\n",
       "  <tbody>\n",
       "    <tr>\n",
       "      <th>0</th>\n",
       "      <td>42000</td>\n",
       "      <td>1995-12-21 00:00</td>\n",
       "      <td>S</td>\n",
       "      <td>N</td>\n",
       "      <td>F</td>\n",
       "      <td>NEWCASTLE UPON TYNE</td>\n",
       "    </tr>\n",
       "    <tr>\n",
       "      <th>1</th>\n",
       "      <td>95000</td>\n",
       "      <td>1995-03-03 00:00</td>\n",
       "      <td>S</td>\n",
       "      <td>N</td>\n",
       "      <td>F</td>\n",
       "      <td>GRAYS</td>\n",
       "    </tr>\n",
       "    <tr>\n",
       "      <th>2</th>\n",
       "      <td>74950</td>\n",
       "      <td>1995-10-03 00:00</td>\n",
       "      <td>D</td>\n",
       "      <td>Y</td>\n",
       "      <td>F</td>\n",
       "      <td>MIDDLEWICH</td>\n",
       "    </tr>\n",
       "    <tr>\n",
       "      <th>3</th>\n",
       "      <td>43500</td>\n",
       "      <td>1995-11-14 00:00</td>\n",
       "      <td>S</td>\n",
       "      <td>N</td>\n",
       "      <td>F</td>\n",
       "      <td>BILLINGHAM</td>\n",
       "    </tr>\n",
       "    <tr>\n",
       "      <th>4</th>\n",
       "      <td>63000</td>\n",
       "      <td>1995-09-08 00:00</td>\n",
       "      <td>S</td>\n",
       "      <td>N</td>\n",
       "      <td>F</td>\n",
       "      <td>CLEATOR MOOR</td>\n",
       "    </tr>\n",
       "  </tbody>\n",
       "</table>\n",
       "</div>"
      ],
      "text/plain": [
       "   Price  Date_of_Transfer Property_Type Odd/New Duration                 City\n",
       "0  42000  1995-12-21 00:00             S       N        F  NEWCASTLE UPON TYNE\n",
       "1  95000  1995-03-03 00:00             S       N        F                GRAYS\n",
       "2  74950  1995-10-03 00:00             D       Y        F           MIDDLEWICH\n",
       "3  43500  1995-11-14 00:00             S       N        F           BILLINGHAM\n",
       "4  63000  1995-09-08 00:00             S       N        F         CLEATOR MOOR"
      ]
     },
     "execution_count": 14,
     "metadata": {
      "tags": []
     },
     "output_type": "execute_result"
    }
   ],
   "source": [
    "df.head(5)"
   ]
  },
  {
   "cell_type": "code",
   "execution_count": 0,
   "metadata": {
    "colab": {
     "base_uri": "https://localhost:8080/",
     "height": 204
    },
    "colab_type": "code",
    "id": "b0k4-geSA3yh",
    "outputId": "900d752d-b5e3-44b5-90f3-7f66745eb9fd"
   },
   "outputs": [
    {
     "data": {
      "text/html": [
       "<div>\n",
       "<style scoped>\n",
       "    .dataframe tbody tr th:only-of-type {\n",
       "        vertical-align: middle;\n",
       "    }\n",
       "\n",
       "    .dataframe tbody tr th {\n",
       "        vertical-align: top;\n",
       "    }\n",
       "\n",
       "    .dataframe thead tr th {\n",
       "        text-align: left;\n",
       "    }\n",
       "</style>\n",
       "<table border=\"1\" class=\"dataframe\">\n",
       "  <thead>\n",
       "    <tr>\n",
       "      <th></th>\n",
       "      <th>Price</th>\n",
       "      <th>Date_of_Transfer</th>\n",
       "      <th>Property_Type</th>\n",
       "      <th>Odd/New</th>\n",
       "      <th>Duration</th>\n",
       "      <th>City</th>\n",
       "    </tr>\n",
       "  </thead>\n",
       "  <tbody>\n",
       "    <tr>\n",
       "      <th>24678169</th>\n",
       "      <td>365000</td>\n",
       "      <td>2019-08-09 00:00</td>\n",
       "      <td>D</td>\n",
       "      <td>N</td>\n",
       "      <td>F</td>\n",
       "      <td>CHRISTCHURCH</td>\n",
       "    </tr>\n",
       "    <tr>\n",
       "      <th>24678170</th>\n",
       "      <td>205000</td>\n",
       "      <td>2019-07-19 00:00</td>\n",
       "      <td>F</td>\n",
       "      <td>N</td>\n",
       "      <td>L</td>\n",
       "      <td>BOURNEMOUTH</td>\n",
       "    </tr>\n",
       "    <tr>\n",
       "      <th>24678171</th>\n",
       "      <td>463000</td>\n",
       "      <td>2019-07-24 00:00</td>\n",
       "      <td>D</td>\n",
       "      <td>N</td>\n",
       "      <td>F</td>\n",
       "      <td>FERNDOWN</td>\n",
       "    </tr>\n",
       "    <tr>\n",
       "      <th>24678172</th>\n",
       "      <td>245000</td>\n",
       "      <td>2019-08-05 00:00</td>\n",
       "      <td>D</td>\n",
       "      <td>N</td>\n",
       "      <td>F</td>\n",
       "      <td>POOLE</td>\n",
       "    </tr>\n",
       "    <tr>\n",
       "      <th>24678173</th>\n",
       "      <td>320000</td>\n",
       "      <td>2019-07-26 00:00</td>\n",
       "      <td>D</td>\n",
       "      <td>N</td>\n",
       "      <td>F</td>\n",
       "      <td>GILLINGHAM</td>\n",
       "    </tr>\n",
       "  </tbody>\n",
       "</table>\n",
       "</div>"
      ],
      "text/plain": [
       "           Price  Date_of_Transfer Property_Type Odd/New Duration          City\n",
       "24678169  365000  2019-08-09 00:00             D       N        F  CHRISTCHURCH\n",
       "24678170  205000  2019-07-19 00:00             F       N        L   BOURNEMOUTH\n",
       "24678171  463000  2019-07-24 00:00             D       N        F      FERNDOWN\n",
       "24678172  245000  2019-08-05 00:00             D       N        F         POOLE\n",
       "24678173  320000  2019-07-26 00:00             D       N        F    GILLINGHAM"
      ]
     },
     "execution_count": 15,
     "metadata": {
      "tags": []
     },
     "output_type": "execute_result"
    }
   ],
   "source": [
    "df.tail(5)"
   ]
  },
  {
   "cell_type": "code",
   "execution_count": 0,
   "metadata": {
    "colab": {
     "base_uri": "https://localhost:8080/",
     "height": 34
    },
    "colab_type": "code",
    "id": "L9yoNHbcA3yj",
    "outputId": "46598e7c-1918-48b6-9d5b-a10d4d9c31b9"
   },
   "outputs": [
    {
     "data": {
      "text/plain": [
       "(24678174, 6)"
      ]
     },
     "execution_count": 16,
     "metadata": {
      "tags": []
     },
     "output_type": "execute_result"
    }
   ],
   "source": [
    "df.shape"
   ]
  },
  {
   "cell_type": "markdown",
   "metadata": {
    "colab_type": "text",
    "id": "_JigR4a0A3yn"
   },
   "source": [
    "For consitency all column headings should be converted to strings"
   ]
  },
  {
   "cell_type": "code",
   "execution_count": 0,
   "metadata": {
    "colab": {},
    "colab_type": "code",
    "id": "VpK57Ma8A3yq"
   },
   "outputs": [],
   "source": [
    "df.columns = list(map(str, df.columns))"
   ]
  },
  {
   "cell_type": "code",
   "execution_count": 0,
   "metadata": {
    "colab": {
     "base_uri": "https://localhost:8080/",
     "height": 34
    },
    "colab_type": "code",
    "id": "AbKy5CulA3ys",
    "outputId": "2747daec-065e-46f8-b121-be50d0a8e4a6"
   },
   "outputs": [
    {
     "data": {
      "text/plain": [
       "True"
      ]
     },
     "execution_count": 12,
     "metadata": {
      "tags": []
     },
     "output_type": "execute_result"
    }
   ],
   "source": [
    "all(isinstance(column, str) for column in df.columns)"
   ]
  },
  {
   "cell_type": "code",
   "execution_count": 0,
   "metadata": {
    "colab": {
     "base_uri": "https://localhost:8080/",
     "height": 204
    },
    "colab_type": "code",
    "id": "KkHXWN2KA3yv",
    "outputId": "90e7475b-1f95-411c-ab71-76dcd034a3f9"
   },
   "outputs": [
    {
     "data": {
      "text/html": [
       "<div>\n",
       "<style scoped>\n",
       "    .dataframe tbody tr th:only-of-type {\n",
       "        vertical-align: middle;\n",
       "    }\n",
       "\n",
       "    .dataframe tbody tr th {\n",
       "        vertical-align: top;\n",
       "    }\n",
       "\n",
       "    .dataframe thead th {\n",
       "        text-align: right;\n",
       "    }\n",
       "</style>\n",
       "<table border=\"1\" class=\"dataframe\">\n",
       "  <thead>\n",
       "    <tr style=\"text-align: right;\">\n",
       "      <th></th>\n",
       "      <th>('Price',)</th>\n",
       "      <th>('Date_of_Transfer',)</th>\n",
       "      <th>('Property_Type',)</th>\n",
       "      <th>('Odd/New',)</th>\n",
       "      <th>('Duration',)</th>\n",
       "      <th>('City',)</th>\n",
       "    </tr>\n",
       "  </thead>\n",
       "  <tbody>\n",
       "    <tr>\n",
       "      <th>0</th>\n",
       "      <td>42000</td>\n",
       "      <td>1995-12-21 00:00</td>\n",
       "      <td>S</td>\n",
       "      <td>N</td>\n",
       "      <td>F</td>\n",
       "      <td>NEWCASTLE UPON TYNE</td>\n",
       "    </tr>\n",
       "    <tr>\n",
       "      <th>1</th>\n",
       "      <td>95000</td>\n",
       "      <td>1995-03-03 00:00</td>\n",
       "      <td>S</td>\n",
       "      <td>N</td>\n",
       "      <td>F</td>\n",
       "      <td>GRAYS</td>\n",
       "    </tr>\n",
       "    <tr>\n",
       "      <th>2</th>\n",
       "      <td>74950</td>\n",
       "      <td>1995-10-03 00:00</td>\n",
       "      <td>D</td>\n",
       "      <td>Y</td>\n",
       "      <td>F</td>\n",
       "      <td>MIDDLEWICH</td>\n",
       "    </tr>\n",
       "    <tr>\n",
       "      <th>3</th>\n",
       "      <td>43500</td>\n",
       "      <td>1995-11-14 00:00</td>\n",
       "      <td>S</td>\n",
       "      <td>N</td>\n",
       "      <td>F</td>\n",
       "      <td>BILLINGHAM</td>\n",
       "    </tr>\n",
       "    <tr>\n",
       "      <th>4</th>\n",
       "      <td>63000</td>\n",
       "      <td>1995-09-08 00:00</td>\n",
       "      <td>S</td>\n",
       "      <td>N</td>\n",
       "      <td>F</td>\n",
       "      <td>CLEATOR MOOR</td>\n",
       "    </tr>\n",
       "  </tbody>\n",
       "</table>\n",
       "</div>"
      ],
      "text/plain": [
       "   ('Price',) ('Date_of_Transfer',)  ... ('Duration',)            ('City',)\n",
       "0       42000      1995-12-21 00:00  ...             F  NEWCASTLE UPON TYNE\n",
       "1       95000      1995-03-03 00:00  ...             F                GRAYS\n",
       "2       74950      1995-10-03 00:00  ...             F           MIDDLEWICH\n",
       "3       43500      1995-11-14 00:00  ...             F           BILLINGHAM\n",
       "4       63000      1995-09-08 00:00  ...             F         CLEATOR MOOR\n",
       "\n",
       "[5 rows x 6 columns]"
      ]
     },
     "execution_count": 12,
     "metadata": {
      "tags": []
     },
     "output_type": "execute_result"
    }
   ],
   "source": [
    "df.head()"
   ]
  },
  {
   "cell_type": "markdown",
   "metadata": {
    "colab_type": "text",
    "id": "H-QAupx9A3yx"
   },
   "source": [
    "The column headings now look messy and in order to be able to use .column notation they require some cleaning up"
   ]
  },
  {
   "cell_type": "code",
   "execution_count": 0,
   "metadata": {
    "colab": {},
    "colab_type": "code",
    "id": "L0SzcA7uA3yz"
   },
   "outputs": [],
   "source": [
    "df.columns=df.columns.str.replace(\"(\",\"\").str.replace(\"'\",\"\").str.replace(\",\",\"\").str.replace(\")\",\"\")"
   ]
  },
  {
   "cell_type": "code",
   "execution_count": 0,
   "metadata": {
    "colab": {
     "base_uri": "https://localhost:8080/",
     "height": 204
    },
    "colab_type": "code",
    "id": "hFrqVpqPA3y1",
    "outputId": "f7cfcc58-654a-4d79-abfa-4b9f4ec3e32d"
   },
   "outputs": [
    {
     "data": {
      "text/html": [
       "<div>\n",
       "<style scoped>\n",
       "    .dataframe tbody tr th:only-of-type {\n",
       "        vertical-align: middle;\n",
       "    }\n",
       "\n",
       "    .dataframe tbody tr th {\n",
       "        vertical-align: top;\n",
       "    }\n",
       "\n",
       "    .dataframe thead th {\n",
       "        text-align: right;\n",
       "    }\n",
       "</style>\n",
       "<table border=\"1\" class=\"dataframe\">\n",
       "  <thead>\n",
       "    <tr style=\"text-align: right;\">\n",
       "      <th></th>\n",
       "      <th>Price</th>\n",
       "      <th>Date_of_Transfer</th>\n",
       "      <th>Property_Type</th>\n",
       "      <th>Odd/New</th>\n",
       "      <th>Duration</th>\n",
       "      <th>City</th>\n",
       "    </tr>\n",
       "  </thead>\n",
       "  <tbody>\n",
       "    <tr>\n",
       "      <th>0</th>\n",
       "      <td>42000</td>\n",
       "      <td>1995-12-21 00:00</td>\n",
       "      <td>S</td>\n",
       "      <td>N</td>\n",
       "      <td>F</td>\n",
       "      <td>NEWCASTLE UPON TYNE</td>\n",
       "    </tr>\n",
       "    <tr>\n",
       "      <th>1</th>\n",
       "      <td>95000</td>\n",
       "      <td>1995-03-03 00:00</td>\n",
       "      <td>S</td>\n",
       "      <td>N</td>\n",
       "      <td>F</td>\n",
       "      <td>GRAYS</td>\n",
       "    </tr>\n",
       "    <tr>\n",
       "      <th>2</th>\n",
       "      <td>74950</td>\n",
       "      <td>1995-10-03 00:00</td>\n",
       "      <td>D</td>\n",
       "      <td>Y</td>\n",
       "      <td>F</td>\n",
       "      <td>MIDDLEWICH</td>\n",
       "    </tr>\n",
       "    <tr>\n",
       "      <th>3</th>\n",
       "      <td>43500</td>\n",
       "      <td>1995-11-14 00:00</td>\n",
       "      <td>S</td>\n",
       "      <td>N</td>\n",
       "      <td>F</td>\n",
       "      <td>BILLINGHAM</td>\n",
       "    </tr>\n",
       "    <tr>\n",
       "      <th>4</th>\n",
       "      <td>63000</td>\n",
       "      <td>1995-09-08 00:00</td>\n",
       "      <td>S</td>\n",
       "      <td>N</td>\n",
       "      <td>F</td>\n",
       "      <td>CLEATOR MOOR</td>\n",
       "    </tr>\n",
       "  </tbody>\n",
       "</table>\n",
       "</div>"
      ],
      "text/plain": [
       "   Price  Date_of_Transfer Property_Type Odd/New Duration                 City\n",
       "0  42000  1995-12-21 00:00             S       N        F  NEWCASTLE UPON TYNE\n",
       "1  95000  1995-03-03 00:00             S       N        F                GRAYS\n",
       "2  74950  1995-10-03 00:00             D       Y        F           MIDDLEWICH\n",
       "3  43500  1995-11-14 00:00             S       N        F           BILLINGHAM\n",
       "4  63000  1995-09-08 00:00             S       N        F         CLEATOR MOOR"
      ]
     },
     "execution_count": 19,
     "metadata": {
      "tags": []
     },
     "output_type": "execute_result"
    }
   ],
   "source": [
    "df.head()"
   ]
  },
  {
   "cell_type": "code",
   "execution_count": 0,
   "metadata": {
    "colab": {},
    "colab_type": "code",
    "id": "1d0ZzkY0SoD6"
   },
   "outputs": [],
   "source": [
    "#pd.DataFrame(df.City.value_counts()).to_csv(os.path.join(root_directory,'drive','My Drive','unique_towns.csv'))"
   ]
  },
  {
   "cell_type": "code",
   "execution_count": 0,
   "metadata": {
    "colab": {},
    "colab_type": "code",
    "id": "DeOGCrNZVdXb"
   },
   "outputs": [],
   "source": [
    "cities = pd.DataFrame(df.City.value_counts())"
   ]
  },
  {
   "cell_type": "code",
   "execution_count": 0,
   "metadata": {
    "colab": {
     "base_uri": "https://localhost:8080/",
     "height": 204
    },
    "colab_type": "code",
    "id": "jMZUZfcpPleE",
    "outputId": "2a1b3466-c14e-4f49-ab3c-a12da3164961"
   },
   "outputs": [
    {
     "data": {
      "text/html": [
       "<div>\n",
       "<style scoped>\n",
       "    .dataframe tbody tr th:only-of-type {\n",
       "        vertical-align: middle;\n",
       "    }\n",
       "\n",
       "    .dataframe tbody tr th {\n",
       "        vertical-align: top;\n",
       "    }\n",
       "\n",
       "    .dataframe thead th {\n",
       "        text-align: right;\n",
       "    }\n",
       "</style>\n",
       "<table border=\"1\" class=\"dataframe\">\n",
       "  <thead>\n",
       "    <tr style=\"text-align: right;\">\n",
       "      <th></th>\n",
       "      <th>City</th>\n",
       "    </tr>\n",
       "  </thead>\n",
       "  <tbody>\n",
       "    <tr>\n",
       "      <th>LONDON</th>\n",
       "      <td>1922913</td>\n",
       "    </tr>\n",
       "    <tr>\n",
       "      <th>MANCHESTER</th>\n",
       "      <td>403836</td>\n",
       "    </tr>\n",
       "    <tr>\n",
       "      <th>BRISTOL</th>\n",
       "      <td>379231</td>\n",
       "    </tr>\n",
       "    <tr>\n",
       "      <th>BIRMINGHAM</th>\n",
       "      <td>363862</td>\n",
       "    </tr>\n",
       "    <tr>\n",
       "      <th>NOTTINGHAM</th>\n",
       "      <td>322608</td>\n",
       "    </tr>\n",
       "  </tbody>\n",
       "</table>\n",
       "</div>"
      ],
      "text/plain": [
       "               City\n",
       "LONDON      1922913\n",
       "MANCHESTER   403836\n",
       "BRISTOL      379231\n",
       "BIRMINGHAM   363862\n",
       "NOTTINGHAM   322608"
      ]
     },
     "execution_count": 21,
     "metadata": {
      "tags": []
     },
     "output_type": "execute_result"
    }
   ],
   "source": [
    "cities.head()"
   ]
  },
  {
   "cell_type": "code",
   "execution_count": 0,
   "metadata": {
    "colab": {},
    "colab_type": "code",
    "id": "l4hkTPbEPBzu"
   },
   "outputs": [],
   "source": [
    "#_=cities.sort_values(by='City', ascending=False).head(10).plot(kind='barh', color= 'green', figsize=(12,8))\n",
    "#plt.title('Number of houses per cities')\n",
    "#plt.xlabel('Counts')\n",
    "#plt.ylabel('cities')"
   ]
  },
  {
   "cell_type": "code",
   "execution_count": 0,
   "metadata": {
    "colab": {},
    "colab_type": "code",
    "id": "QugyfTS5d6Rg"
   },
   "outputs": [],
   "source": [
    "towns=list(cities.index)"
   ]
  },
  {
   "cell_type": "code",
   "execution_count": 0,
   "metadata": {
    "colab": {},
    "colab_type": "code",
    "id": "Y7LI02_rDwCh"
   },
   "outputs": [],
   "source": [
    "import requests\n",
    "url = 'http://api.openweathermap.org/data/2.5/weather'\n",
    "key = '************************'\n",
    "latitude_longitude={}\n",
    "for town in towns:\n",
    "  full_url = url+'?apikey='+ key+'&q='+ town + '&units=metric'\n",
    "  response = requests.get(full_url).json()\n",
    "  try:\n",
    "      latitude_longitude[town] = {'latitude': response['coord']['lat'], 'longitude': response['coord']['lon']}\n",
    "  except:\n",
    "    print(town)\n",
    "\n",
    "lat_long= pd.DataFrame(latitude_longitude).transpose()"
   ]
  },
  {
   "cell_type": "code",
   "execution_count": 0,
   "metadata": {
    "colab": {},
    "colab_type": "code",
    "id": "H0g2PRXVHQks"
   },
   "outputs": [],
   "source": [
    "lat_long.to_csv(os.path.join(root_directory,'drive','My Drive','lat_long.csv'))"
   ]
  },
  {
   "cell_type": "code",
   "execution_count": 0,
   "metadata": {
    "colab": {},
    "colab_type": "code",
    "id": "lrq2TbsaSetd"
   },
   "outputs": [],
   "source": [
    "lat_long_new = pd.read_excel(os.path.join(root_directory,'drive','My Drive','lat_lg.xlsx'))"
   ]
  },
  {
   "cell_type": "code",
   "execution_count": 0,
   "metadata": {
    "colab": {
     "base_uri": "https://localhost:8080/",
     "height": 204
    },
    "colab_type": "code",
    "id": "NZkvzaiebQfT",
    "outputId": "e0f71eed-cf3c-479b-dc85-0b3f4c3a75f3"
   },
   "outputs": [
    {
     "data": {
      "text/html": [
       "<div>\n",
       "<style scoped>\n",
       "    .dataframe tbody tr th:only-of-type {\n",
       "        vertical-align: middle;\n",
       "    }\n",
       "\n",
       "    .dataframe tbody tr th {\n",
       "        vertical-align: top;\n",
       "    }\n",
       "\n",
       "    .dataframe thead tr th {\n",
       "        text-align: left;\n",
       "    }\n",
       "</style>\n",
       "<table border=\"1\" class=\"dataframe\">\n",
       "  <thead>\n",
       "    <tr>\n",
       "      <th></th>\n",
       "      <th>City</th>\n",
       "      <th>Latitude</th>\n",
       "      <th>Longitude</th>\n",
       "    </tr>\n",
       "  </thead>\n",
       "  <tbody>\n",
       "    <tr>\n",
       "      <th>0</th>\n",
       "      <td>LONDON</td>\n",
       "      <td>51.51</td>\n",
       "      <td>-0.13</td>\n",
       "    </tr>\n",
       "    <tr>\n",
       "      <th>1</th>\n",
       "      <td>MANCHESTER</td>\n",
       "      <td>53.48</td>\n",
       "      <td>-2.24</td>\n",
       "    </tr>\n",
       "    <tr>\n",
       "      <th>2</th>\n",
       "      <td>BRISTOL</td>\n",
       "      <td>41.83</td>\n",
       "      <td>-71.17</td>\n",
       "    </tr>\n",
       "    <tr>\n",
       "      <th>3</th>\n",
       "      <td>BIRMINGHAM</td>\n",
       "      <td>33.52</td>\n",
       "      <td>-86.8</td>\n",
       "    </tr>\n",
       "    <tr>\n",
       "      <th>4</th>\n",
       "      <td>NOTTINGHAM</td>\n",
       "      <td>52.95</td>\n",
       "      <td>-1.15</td>\n",
       "    </tr>\n",
       "  </tbody>\n",
       "</table>\n",
       "</div>"
      ],
      "text/plain": [
       "         City Latitude Longitude\n",
       "0      LONDON    51.51     -0.13\n",
       "1  MANCHESTER    53.48     -2.24\n",
       "2     BRISTOL    41.83    -71.17\n",
       "3  BIRMINGHAM    33.52     -86.8\n",
       "4  NOTTINGHAM    52.95     -1.15"
      ]
     },
     "execution_count": 21,
     "metadata": {
      "tags": []
     },
     "output_type": "execute_result"
    }
   ],
   "source": [
    "lat_long_new.columns =[['City', 'Latitude', 'Longitude']]\n",
    "lat_long_new.head()"
   ]
  },
  {
   "cell_type": "code",
   "execution_count": 0,
   "metadata": {
    "colab": {},
    "colab_type": "code",
    "id": "Zq_SXOVQgxj5"
   },
   "outputs": [],
   "source": [
    "#all(isinstance(column, str) for column in lat_long_new.columns)\n",
    "lat_long_new.columns = list(map(str, lat_long_new.columns))"
   ]
  },
  {
   "cell_type": "code",
   "execution_count": 0,
   "metadata": {
    "colab": {
     "base_uri": "https://localhost:8080/",
     "height": 34
    },
    "colab_type": "code",
    "id": "N7m7a8EOiIGL",
    "outputId": "e52836c9-ec3a-417d-ca96-f8ed01230cee"
   },
   "outputs": [
    {
     "data": {
      "text/plain": [
       "True"
      ]
     },
     "execution_count": 32,
     "metadata": {
      "tags": []
     },
     "output_type": "execute_result"
    }
   ],
   "source": [
    "all(isinstance(column, str) for column in lat_long_new.columns)"
   ]
  },
  {
   "cell_type": "code",
   "execution_count": 0,
   "metadata": {
    "colab": {
     "base_uri": "https://localhost:8080/",
     "height": 204
    },
    "colab_type": "code",
    "id": "Z8_6JH2GiNS5",
    "outputId": "01419fbe-6ce4-43f7-b83f-758384f2de03"
   },
   "outputs": [
    {
     "data": {
      "text/html": [
       "<div>\n",
       "<style scoped>\n",
       "    .dataframe tbody tr th:only-of-type {\n",
       "        vertical-align: middle;\n",
       "    }\n",
       "\n",
       "    .dataframe tbody tr th {\n",
       "        vertical-align: top;\n",
       "    }\n",
       "\n",
       "    .dataframe thead th {\n",
       "        text-align: right;\n",
       "    }\n",
       "</style>\n",
       "<table border=\"1\" class=\"dataframe\">\n",
       "  <thead>\n",
       "    <tr style=\"text-align: right;\">\n",
       "      <th></th>\n",
       "      <th>('City',)</th>\n",
       "      <th>('Latitude',)</th>\n",
       "      <th>('Longitude',)</th>\n",
       "    </tr>\n",
       "  </thead>\n",
       "  <tbody>\n",
       "    <tr>\n",
       "      <th>0</th>\n",
       "      <td>LONDON</td>\n",
       "      <td>51.51</td>\n",
       "      <td>-0.13</td>\n",
       "    </tr>\n",
       "    <tr>\n",
       "      <th>1</th>\n",
       "      <td>MANCHESTER</td>\n",
       "      <td>53.48</td>\n",
       "      <td>-2.24</td>\n",
       "    </tr>\n",
       "    <tr>\n",
       "      <th>2</th>\n",
       "      <td>BRISTOL</td>\n",
       "      <td>41.83</td>\n",
       "      <td>-71.17</td>\n",
       "    </tr>\n",
       "    <tr>\n",
       "      <th>3</th>\n",
       "      <td>BIRMINGHAM</td>\n",
       "      <td>33.52</td>\n",
       "      <td>-86.8</td>\n",
       "    </tr>\n",
       "    <tr>\n",
       "      <th>4</th>\n",
       "      <td>NOTTINGHAM</td>\n",
       "      <td>52.95</td>\n",
       "      <td>-1.15</td>\n",
       "    </tr>\n",
       "  </tbody>\n",
       "</table>\n",
       "</div>"
      ],
      "text/plain": [
       "    ('City',)  ('Latitude',) ('Longitude',)\n",
       "0      LONDON          51.51          -0.13\n",
       "1  MANCHESTER          53.48          -2.24\n",
       "2     BRISTOL          41.83         -71.17\n",
       "3  BIRMINGHAM          33.52          -86.8\n",
       "4  NOTTINGHAM          52.95          -1.15"
      ]
     },
     "execution_count": 21,
     "metadata": {
      "tags": []
     },
     "output_type": "execute_result"
    }
   ],
   "source": [
    "lat_long_new.head()"
   ]
  },
  {
   "cell_type": "code",
   "execution_count": 0,
   "metadata": {
    "colab": {
     "base_uri": "https://localhost:8080/",
     "height": 204
    },
    "colab_type": "code",
    "id": "GAlaG4QKibYf",
    "outputId": "bc3d8b65-5e25-4a89-d323-0f8b0f418643"
   },
   "outputs": [
    {
     "data": {
      "text/html": [
       "<div>\n",
       "<style scoped>\n",
       "    .dataframe tbody tr th:only-of-type {\n",
       "        vertical-align: middle;\n",
       "    }\n",
       "\n",
       "    .dataframe tbody tr th {\n",
       "        vertical-align: top;\n",
       "    }\n",
       "\n",
       "    .dataframe thead th {\n",
       "        text-align: right;\n",
       "    }\n",
       "</style>\n",
       "<table border=\"1\" class=\"dataframe\">\n",
       "  <thead>\n",
       "    <tr style=\"text-align: right;\">\n",
       "      <th></th>\n",
       "      <th>City</th>\n",
       "      <th>Latitude</th>\n",
       "      <th>Longitude</th>\n",
       "    </tr>\n",
       "  </thead>\n",
       "  <tbody>\n",
       "    <tr>\n",
       "      <th>0</th>\n",
       "      <td>LONDON</td>\n",
       "      <td>51.51</td>\n",
       "      <td>-0.13</td>\n",
       "    </tr>\n",
       "    <tr>\n",
       "      <th>1</th>\n",
       "      <td>MANCHESTER</td>\n",
       "      <td>53.48</td>\n",
       "      <td>-2.24</td>\n",
       "    </tr>\n",
       "    <tr>\n",
       "      <th>2</th>\n",
       "      <td>BRISTOL</td>\n",
       "      <td>41.83</td>\n",
       "      <td>-71.17</td>\n",
       "    </tr>\n",
       "    <tr>\n",
       "      <th>3</th>\n",
       "      <td>BIRMINGHAM</td>\n",
       "      <td>33.52</td>\n",
       "      <td>-86.8</td>\n",
       "    </tr>\n",
       "    <tr>\n",
       "      <th>4</th>\n",
       "      <td>NOTTINGHAM</td>\n",
       "      <td>52.95</td>\n",
       "      <td>-1.15</td>\n",
       "    </tr>\n",
       "  </tbody>\n",
       "</table>\n",
       "</div>"
      ],
      "text/plain": [
       "         City  Latitude Longitude\n",
       "0      LONDON     51.51     -0.13\n",
       "1  MANCHESTER     53.48     -2.24\n",
       "2     BRISTOL     41.83    -71.17\n",
       "3  BIRMINGHAM     33.52     -86.8\n",
       "4  NOTTINGHAM     52.95     -1.15"
      ]
     },
     "execution_count": 23,
     "metadata": {
      "tags": []
     },
     "output_type": "execute_result"
    }
   ],
   "source": [
    "lat_long_new.columns= lat_long_new.columns.str.replace(\"(\",\"\").str.replace(\"'\",\"\").str.replace(\",\",\"\").str.replace(\")\",\"\")\n",
    "lat_long_new.head()"
   ]
  },
  {
   "cell_type": "code",
   "execution_count": 0,
   "metadata": {
    "colab": {},
    "colab_type": "code",
    "id": "dJ3O28dldeoX"
   },
   "outputs": [],
   "source": [
    "lat_long_1 = lat_long_new.copy()"
   ]
  },
  {
   "cell_type": "code",
   "execution_count": 0,
   "metadata": {
    "colab": {
     "base_uri": "https://localhost:8080/",
     "height": 235
    },
    "colab_type": "code",
    "id": "khXq9v0qdo3w",
    "outputId": "44f1caa1-8f0f-41fa-8dff-b9d58451302a"
   },
   "outputs": [
    {
     "data": {
      "text/html": [
       "<div>\n",
       "<style scoped>\n",
       "    .dataframe tbody tr th:only-of-type {\n",
       "        vertical-align: middle;\n",
       "    }\n",
       "\n",
       "    .dataframe tbody tr th {\n",
       "        vertical-align: top;\n",
       "    }\n",
       "\n",
       "    .dataframe thead th {\n",
       "        text-align: right;\n",
       "    }\n",
       "</style>\n",
       "<table border=\"1\" class=\"dataframe\">\n",
       "  <thead>\n",
       "    <tr style=\"text-align: right;\">\n",
       "      <th></th>\n",
       "      <th>Latitude</th>\n",
       "      <th>Longitude</th>\n",
       "    </tr>\n",
       "    <tr>\n",
       "      <th>City</th>\n",
       "      <th></th>\n",
       "      <th></th>\n",
       "    </tr>\n",
       "  </thead>\n",
       "  <tbody>\n",
       "    <tr>\n",
       "      <th>LONDON</th>\n",
       "      <td>51.51</td>\n",
       "      <td>-0.13</td>\n",
       "    </tr>\n",
       "    <tr>\n",
       "      <th>MANCHESTER</th>\n",
       "      <td>53.48</td>\n",
       "      <td>-2.24</td>\n",
       "    </tr>\n",
       "    <tr>\n",
       "      <th>BRISTOL</th>\n",
       "      <td>41.83</td>\n",
       "      <td>-71.17</td>\n",
       "    </tr>\n",
       "    <tr>\n",
       "      <th>BIRMINGHAM</th>\n",
       "      <td>33.52</td>\n",
       "      <td>-86.8</td>\n",
       "    </tr>\n",
       "    <tr>\n",
       "      <th>NOTTINGHAM</th>\n",
       "      <td>52.95</td>\n",
       "      <td>-1.15</td>\n",
       "    </tr>\n",
       "  </tbody>\n",
       "</table>\n",
       "</div>"
      ],
      "text/plain": [
       "            Latitude Longitude\n",
       "City                          \n",
       "LONDON         51.51     -0.13\n",
       "MANCHESTER     53.48     -2.24\n",
       "BRISTOL        41.83    -71.17\n",
       "BIRMINGHAM     33.52     -86.8\n",
       "NOTTINGHAM     52.95     -1.15"
      ]
     },
     "execution_count": 25,
     "metadata": {
      "tags": []
     },
     "output_type": "execute_result"
    }
   ],
   "source": [
    "lat_long_1.set_index('City', inplace =True)\n",
    "lat_long_1.head()"
   ]
  },
  {
   "cell_type": "code",
   "execution_count": 0,
   "metadata": {
    "colab": {},
    "colab_type": "code",
    "id": "30fnels20UEa"
   },
   "outputs": [],
   "source": [
    "#lat_long_1.Latitude"
   ]
  },
  {
   "cell_type": "code",
   "execution_count": 0,
   "metadata": {
    "colab": {
     "base_uri": "https://localhost:8080/",
     "height": 204
    },
    "colab_type": "code",
    "id": "J9c34TE8fxrY",
    "outputId": "e83ddf9c-4798-4059-ff06-dff5522dcdaa"
   },
   "outputs": [
    {
     "data": {
      "text/html": [
       "<div>\n",
       "<style scoped>\n",
       "    .dataframe tbody tr th:only-of-type {\n",
       "        vertical-align: middle;\n",
       "    }\n",
       "\n",
       "    .dataframe tbody tr th {\n",
       "        vertical-align: top;\n",
       "    }\n",
       "\n",
       "    .dataframe thead th {\n",
       "        text-align: right;\n",
       "    }\n",
       "</style>\n",
       "<table border=\"1\" class=\"dataframe\">\n",
       "  <thead>\n",
       "    <tr style=\"text-align: right;\">\n",
       "      <th></th>\n",
       "      <th>Price</th>\n",
       "      <th>Date_of_Transfer</th>\n",
       "      <th>Property_Type</th>\n",
       "      <th>Odd/New</th>\n",
       "      <th>Duration</th>\n",
       "      <th>City</th>\n",
       "    </tr>\n",
       "  </thead>\n",
       "  <tbody>\n",
       "    <tr>\n",
       "      <th>0</th>\n",
       "      <td>42000</td>\n",
       "      <td>1995-12-21 00:00</td>\n",
       "      <td>S</td>\n",
       "      <td>N</td>\n",
       "      <td>F</td>\n",
       "      <td>NEWCASTLE UPON TYNE</td>\n",
       "    </tr>\n",
       "    <tr>\n",
       "      <th>1</th>\n",
       "      <td>95000</td>\n",
       "      <td>1995-03-03 00:00</td>\n",
       "      <td>S</td>\n",
       "      <td>N</td>\n",
       "      <td>F</td>\n",
       "      <td>GRAYS</td>\n",
       "    </tr>\n",
       "    <tr>\n",
       "      <th>2</th>\n",
       "      <td>74950</td>\n",
       "      <td>1995-10-03 00:00</td>\n",
       "      <td>D</td>\n",
       "      <td>Y</td>\n",
       "      <td>F</td>\n",
       "      <td>MIDDLEWICH</td>\n",
       "    </tr>\n",
       "    <tr>\n",
       "      <th>3</th>\n",
       "      <td>43500</td>\n",
       "      <td>1995-11-14 00:00</td>\n",
       "      <td>S</td>\n",
       "      <td>N</td>\n",
       "      <td>F</td>\n",
       "      <td>BILLINGHAM</td>\n",
       "    </tr>\n",
       "    <tr>\n",
       "      <th>4</th>\n",
       "      <td>63000</td>\n",
       "      <td>1995-09-08 00:00</td>\n",
       "      <td>S</td>\n",
       "      <td>N</td>\n",
       "      <td>F</td>\n",
       "      <td>CLEATOR MOOR</td>\n",
       "    </tr>\n",
       "  </tbody>\n",
       "</table>\n",
       "</div>"
      ],
      "text/plain": [
       "   Price  Date_of_Transfer Property_Type Odd/New Duration                 City\n",
       "0  42000  1995-12-21 00:00             S       N        F  NEWCASTLE UPON TYNE\n",
       "1  95000  1995-03-03 00:00             S       N        F                GRAYS\n",
       "2  74950  1995-10-03 00:00             D       Y        F           MIDDLEWICH\n",
       "3  43500  1995-11-14 00:00             S       N        F           BILLINGHAM\n",
       "4  63000  1995-09-08 00:00             S       N        F         CLEATOR MOOR"
      ]
     },
     "execution_count": 26,
     "metadata": {
      "tags": []
     },
     "output_type": "execute_result"
    }
   ],
   "source": [
    "dataset = df.copy()\n",
    "dataset.head()"
   ]
  },
  {
   "cell_type": "code",
   "execution_count": 0,
   "metadata": {
    "colab": {},
    "colab_type": "code",
    "id": "WRZKzEEk6ygu"
   },
   "outputs": [],
   "source": [
    "#lat_long_1.loc['LONDON']"
   ]
  },
  {
   "cell_type": "markdown",
   "metadata": {
    "colab_type": "text",
    "id": "9aB7rqFiBtlZ"
   },
   "source": [
    "## Generate new features from the date of transfer and web scraping latitudes and longitudes for the cities"
   ]
  },
  {
   "cell_type": "code",
   "execution_count": 0,
   "metadata": {
    "colab": {
     "base_uri": "https://localhost:8080/",
     "height": 204
    },
    "colab_type": "code",
    "id": "XcrU6b_uvHB6",
    "outputId": "47c156e0-b94c-4fff-ae3f-0f777db096a6"
   },
   "outputs": [
    {
     "data": {
      "text/html": [
       "<div>\n",
       "<style scoped>\n",
       "    .dataframe tbody tr th:only-of-type {\n",
       "        vertical-align: middle;\n",
       "    }\n",
       "\n",
       "    .dataframe tbody tr th {\n",
       "        vertical-align: top;\n",
       "    }\n",
       "\n",
       "    .dataframe thead th {\n",
       "        text-align: right;\n",
       "    }\n",
       "</style>\n",
       "<table border=\"1\" class=\"dataframe\">\n",
       "  <thead>\n",
       "    <tr style=\"text-align: right;\">\n",
       "      <th></th>\n",
       "      <th>Price</th>\n",
       "      <th>Date_of_Transfer</th>\n",
       "      <th>Property_Type</th>\n",
       "      <th>Odd/New</th>\n",
       "      <th>Duration</th>\n",
       "      <th>City</th>\n",
       "      <th>Latitude</th>\n",
       "      <th>Longitude</th>\n",
       "    </tr>\n",
       "  </thead>\n",
       "  <tbody>\n",
       "    <tr>\n",
       "      <th>0</th>\n",
       "      <td>42000</td>\n",
       "      <td>1995-12-21 00:00</td>\n",
       "      <td>S</td>\n",
       "      <td>N</td>\n",
       "      <td>F</td>\n",
       "      <td>NEWCASTLE UPON TYNE</td>\n",
       "      <td>54.97</td>\n",
       "      <td>-1.61</td>\n",
       "    </tr>\n",
       "    <tr>\n",
       "      <th>1</th>\n",
       "      <td>95000</td>\n",
       "      <td>1995-03-03 00:00</td>\n",
       "      <td>S</td>\n",
       "      <td>N</td>\n",
       "      <td>F</td>\n",
       "      <td>GRAYS</td>\n",
       "      <td>51.48</td>\n",
       "      <td>0.33</td>\n",
       "    </tr>\n",
       "    <tr>\n",
       "      <th>2</th>\n",
       "      <td>74950</td>\n",
       "      <td>1995-10-03 00:00</td>\n",
       "      <td>D</td>\n",
       "      <td>Y</td>\n",
       "      <td>F</td>\n",
       "      <td>MIDDLEWICH</td>\n",
       "      <td>53.19</td>\n",
       "      <td>-2.44</td>\n",
       "    </tr>\n",
       "    <tr>\n",
       "      <th>3</th>\n",
       "      <td>43500</td>\n",
       "      <td>1995-11-14 00:00</td>\n",
       "      <td>S</td>\n",
       "      <td>N</td>\n",
       "      <td>F</td>\n",
       "      <td>BILLINGHAM</td>\n",
       "      <td>54.61</td>\n",
       "      <td>-1.29</td>\n",
       "    </tr>\n",
       "    <tr>\n",
       "      <th>4</th>\n",
       "      <td>63000</td>\n",
       "      <td>1995-09-08 00:00</td>\n",
       "      <td>S</td>\n",
       "      <td>N</td>\n",
       "      <td>F</td>\n",
       "      <td>CLEATOR MOOR</td>\n",
       "      <td>54.52</td>\n",
       "      <td>-3.52</td>\n",
       "    </tr>\n",
       "  </tbody>\n",
       "</table>\n",
       "</div>"
      ],
      "text/plain": [
       "   Price  Date_of_Transfer  ... Latitude Longitude\n",
       "0  42000  1995-12-21 00:00  ...    54.97     -1.61\n",
       "1  95000  1995-03-03 00:00  ...    51.48      0.33\n",
       "2  74950  1995-10-03 00:00  ...    53.19     -2.44\n",
       "3  43500  1995-11-14 00:00  ...    54.61     -1.29\n",
       "4  63000  1995-09-08 00:00  ...    54.52     -3.52\n",
       "\n",
       "[5 rows x 8 columns]"
      ]
     },
     "execution_count": 27,
     "metadata": {
      "tags": []
     },
     "output_type": "execute_result"
    }
   ],
   "source": [
    "Latitude, Longitude = [], []\n",
    "for city in dataset.City:\n",
    "  if(city in list(lat_long_1.index)):\n",
    "    #print(city)\n",
    "    lat, long = lat_long_1.loc[city]\n",
    "    Latitude.append(lat)\n",
    "    Longitude.append(long)\n",
    "dataset['Latitude'], dataset['Longitude'] = Latitude, Longitude\n",
    "dataset.head()\n",
    "    "
   ]
  },
  {
   "cell_type": "code",
   "execution_count": 0,
   "metadata": {
    "colab": {},
    "colab_type": "code",
    "id": "EK7VaxGm5h44"
   },
   "outputs": [],
   "source": [
    "dataset.to_csv(os.path.join(root_directory,'drive','My Drive','uk_house_price_data.csv'))"
   ]
  },
  {
   "cell_type": "code",
   "execution_count": 0,
   "metadata": {
    "colab": {},
    "colab_type": "code",
    "id": "F7e3rDBe3XQN"
   },
   "outputs": [],
   "source": [
    "dataset = pd.read_csv(os.path.join(root_directory,'drive','My Drive','uk_house_price_data.csv'))"
   ]
  },
  {
   "cell_type": "code",
   "execution_count": 2,
   "metadata": {},
   "outputs": [],
   "source": [
    "dataset = pd.read_csv('uk_house_price_data.csv')"
   ]
  },
  {
   "cell_type": "code",
   "execution_count": 3,
   "metadata": {
    "colab": {},
    "colab_type": "code",
    "id": "Q4agJeBF4SzN"
   },
   "outputs": [],
   "source": [
    "dataset= dataset.iloc[:,1:]\n",
    "#dataset.head()"
   ]
  },
  {
   "cell_type": "markdown",
   "metadata": {
    "colab_type": "text",
    "id": "SH-sBqQxkRoy"
   },
   "source": [
    "#### Create new features from date of transfer by splitting it to year, month and day"
   ]
  },
  {
   "cell_type": "code",
   "execution_count": 4,
   "metadata": {
    "colab": {},
    "colab_type": "code",
    "id": "PYgYUWuXqV3l"
   },
   "outputs": [],
   "source": [
    "def date(data):\n",
    "    try:\n",
    "        data = data.replace(' 00:00','')\n",
    "        year, month, day = data.split('-')\n",
    "        return year, month, day\n",
    "    except:\n",
    "        np.nan, np.nan, np.nan\n",
    "\n",
    "dataset['Year'], dataset['Month'], dataset['Day'] = zip(*dataset['Date_of_Transfer'].apply(date))"
   ]
  },
  {
   "cell_type": "markdown",
   "metadata": {
    "colab_type": "text",
    "id": "6YKrVslmkkK5"
   },
   "source": [
    "#### Apply function to return the real categorical values (without abbreviations) in some columns (Old/New, Property Type and Duration)"
   ]
  },
  {
   "cell_type": "code",
   "execution_count": 5,
   "metadata": {
    "colab": {
     "base_uri": "https://localhost:8080/",
     "height": 204
    },
    "colab_type": "code",
    "id": "_ideVnmUVRRr",
    "outputId": "7ca4bee5-98a6-4d26-a6f3-75af664f9765"
   },
   "outputs": [
    {
     "data": {
      "text/html": [
       "<div>\n",
       "<style scoped>\n",
       "    .dataframe tbody tr th:only-of-type {\n",
       "        vertical-align: middle;\n",
       "    }\n",
       "\n",
       "    .dataframe tbody tr th {\n",
       "        vertical-align: top;\n",
       "    }\n",
       "\n",
       "    .dataframe thead th {\n",
       "        text-align: right;\n",
       "    }\n",
       "</style>\n",
       "<table border=\"1\" class=\"dataframe\">\n",
       "  <thead>\n",
       "    <tr style=\"text-align: right;\">\n",
       "      <th></th>\n",
       "      <th>Price</th>\n",
       "      <th>Date_of_Transfer</th>\n",
       "      <th>Property_Type</th>\n",
       "      <th>Old/New</th>\n",
       "      <th>Duration</th>\n",
       "      <th>City</th>\n",
       "      <th>Latitude</th>\n",
       "      <th>Longitude</th>\n",
       "      <th>Year</th>\n",
       "      <th>Month</th>\n",
       "      <th>Day</th>\n",
       "    </tr>\n",
       "  </thead>\n",
       "  <tbody>\n",
       "    <tr>\n",
       "      <td>0</td>\n",
       "      <td>42000</td>\n",
       "      <td>1995-12-21 00:00</td>\n",
       "      <td>Semi-Detached</td>\n",
       "      <td>New</td>\n",
       "      <td>Freehold</td>\n",
       "      <td>NEWCASTLE UPON TYNE</td>\n",
       "      <td>54.97</td>\n",
       "      <td>-1.61</td>\n",
       "      <td>1995</td>\n",
       "      <td>12</td>\n",
       "      <td>21</td>\n",
       "    </tr>\n",
       "    <tr>\n",
       "      <td>1</td>\n",
       "      <td>95000</td>\n",
       "      <td>1995-03-03 00:00</td>\n",
       "      <td>Semi-Detached</td>\n",
       "      <td>New</td>\n",
       "      <td>Freehold</td>\n",
       "      <td>GRAYS</td>\n",
       "      <td>51.48</td>\n",
       "      <td>0.33</td>\n",
       "      <td>1995</td>\n",
       "      <td>03</td>\n",
       "      <td>03</td>\n",
       "    </tr>\n",
       "    <tr>\n",
       "      <td>2</td>\n",
       "      <td>74950</td>\n",
       "      <td>1995-10-03 00:00</td>\n",
       "      <td>Detached</td>\n",
       "      <td>Old</td>\n",
       "      <td>Freehold</td>\n",
       "      <td>MIDDLEWICH</td>\n",
       "      <td>53.19</td>\n",
       "      <td>-2.44</td>\n",
       "      <td>1995</td>\n",
       "      <td>10</td>\n",
       "      <td>03</td>\n",
       "    </tr>\n",
       "    <tr>\n",
       "      <td>3</td>\n",
       "      <td>43500</td>\n",
       "      <td>1995-11-14 00:00</td>\n",
       "      <td>Semi-Detached</td>\n",
       "      <td>New</td>\n",
       "      <td>Freehold</td>\n",
       "      <td>BILLINGHAM</td>\n",
       "      <td>54.61</td>\n",
       "      <td>-1.29</td>\n",
       "      <td>1995</td>\n",
       "      <td>11</td>\n",
       "      <td>14</td>\n",
       "    </tr>\n",
       "    <tr>\n",
       "      <td>4</td>\n",
       "      <td>63000</td>\n",
       "      <td>1995-09-08 00:00</td>\n",
       "      <td>Semi-Detached</td>\n",
       "      <td>New</td>\n",
       "      <td>Freehold</td>\n",
       "      <td>CLEATOR MOOR</td>\n",
       "      <td>54.52</td>\n",
       "      <td>-3.52</td>\n",
       "      <td>1995</td>\n",
       "      <td>09</td>\n",
       "      <td>08</td>\n",
       "    </tr>\n",
       "  </tbody>\n",
       "</table>\n",
       "</div>"
      ],
      "text/plain": [
       "   Price  Date_of_Transfer  Property_Type Old/New  Duration  \\\n",
       "0  42000  1995-12-21 00:00  Semi-Detached     New  Freehold   \n",
       "1  95000  1995-03-03 00:00  Semi-Detached     New  Freehold   \n",
       "2  74950  1995-10-03 00:00       Detached     Old  Freehold   \n",
       "3  43500  1995-11-14 00:00  Semi-Detached     New  Freehold   \n",
       "4  63000  1995-09-08 00:00  Semi-Detached     New  Freehold   \n",
       "\n",
       "                  City  Latitude Longitude  Year Month Day  \n",
       "0  NEWCASTLE UPON TYNE     54.97     -1.61  1995    12  21  \n",
       "1                GRAYS     51.48      0.33  1995    03  03  \n",
       "2           MIDDLEWICH     53.19     -2.44  1995    10  03  \n",
       "3           BILLINGHAM     54.61     -1.29  1995    11  14  \n",
       "4         CLEATOR MOOR     54.52     -3.52  1995    09  08  "
      ]
     },
     "execution_count": 5,
     "metadata": {},
     "output_type": "execute_result"
    }
   ],
   "source": [
    "def rename_on(data):\n",
    "    if data == 'N': return 'New'\n",
    "    else: return 'Old'\n",
    "\n",
    "def rename_pt(data):\n",
    "    if data == 'T': return 'Terraced'\n",
    "    elif data == 'S': return 'Semi-Detached'\n",
    "    elif data == 'D': return 'Detached'\n",
    "    elif data == 'F': return 'Flats/Maisonettes'\n",
    "    else: return 'Others'\n",
    "\n",
    "def rename_duration(data):\n",
    "    if data == 'F': return 'Freehold'\n",
    "    elif data == 'L': return 'Leasehold'\n",
    "    else: return 'Others'\n",
    "\n",
    "dataset.rename(columns={'Odd/New': 'Old/New'},inplace = True)\n",
    "\n",
    "dataset['Old/New'] = dataset['Old/New'].apply(rename_on)\n",
    "dataset.Property_Type = dataset.Property_Type.apply(rename_pt)\n",
    "dataset.Duration = dataset.Duration.apply(rename_duration)\n",
    "dataset.head()"
   ]
  },
  {
   "cell_type": "code",
   "execution_count": 0,
   "metadata": {
    "colab": {},
    "colab_type": "code",
    "id": "pTdzYQ_7-pt5"
   },
   "outputs": [],
   "source": [
    "#dataset = dataset_new.copy()\n",
    "#dataset.drop('Date_of_Transpfer', axis =1, inplace=True)\n",
    "#dataset.head"
   ]
  },
  {
   "cell_type": "markdown",
   "metadata": {
    "colab_type": "text",
    "id": "X2a5G2wvmF4u"
   },
   "source": [
    "#### Drop Date_of_Transfer rearrange the columns"
   ]
  },
  {
   "cell_type": "code",
   "execution_count": 7,
   "metadata": {
    "colab": {
     "base_uri": "https://localhost:8080/",
     "height": 204
    },
    "colab_type": "code",
    "id": "mAOaYBwy6blT",
    "outputId": "d521ad41-137f-4388-adad-a53c37a22eea"
   },
   "outputs": [
    {
     "data": {
      "text/html": [
       "<div>\n",
       "<style scoped>\n",
       "    .dataframe tbody tr th:only-of-type {\n",
       "        vertical-align: middle;\n",
       "    }\n",
       "\n",
       "    .dataframe tbody tr th {\n",
       "        vertical-align: top;\n",
       "    }\n",
       "\n",
       "    .dataframe thead th {\n",
       "        text-align: right;\n",
       "    }\n",
       "</style>\n",
       "<table border=\"1\" class=\"dataframe\">\n",
       "  <thead>\n",
       "    <tr style=\"text-align: right;\">\n",
       "      <th></th>\n",
       "      <th>Property_Type</th>\n",
       "      <th>Old/New</th>\n",
       "      <th>Duration</th>\n",
       "      <th>City</th>\n",
       "      <th>Latitude</th>\n",
       "      <th>Longitude</th>\n",
       "      <th>Year</th>\n",
       "      <th>Month</th>\n",
       "      <th>Day</th>\n",
       "      <th>Price</th>\n",
       "    </tr>\n",
       "  </thead>\n",
       "  <tbody>\n",
       "    <tr>\n",
       "      <th>0</th>\n",
       "      <td>Semi-Detached</td>\n",
       "      <td>New</td>\n",
       "      <td>Freehold</td>\n",
       "      <td>NEWCASTLE UPON TYNE</td>\n",
       "      <td>54.97</td>\n",
       "      <td>-1.61</td>\n",
       "      <td>1995</td>\n",
       "      <td>12</td>\n",
       "      <td>21</td>\n",
       "      <td>42000</td>\n",
       "    </tr>\n",
       "    <tr>\n",
       "      <th>1</th>\n",
       "      <td>Semi-Detached</td>\n",
       "      <td>New</td>\n",
       "      <td>Freehold</td>\n",
       "      <td>GRAYS</td>\n",
       "      <td>51.48</td>\n",
       "      <td>0.33</td>\n",
       "      <td>1995</td>\n",
       "      <td>03</td>\n",
       "      <td>03</td>\n",
       "      <td>95000</td>\n",
       "    </tr>\n",
       "    <tr>\n",
       "      <th>2</th>\n",
       "      <td>Detached</td>\n",
       "      <td>Old</td>\n",
       "      <td>Freehold</td>\n",
       "      <td>MIDDLEWICH</td>\n",
       "      <td>53.19</td>\n",
       "      <td>-2.44</td>\n",
       "      <td>1995</td>\n",
       "      <td>10</td>\n",
       "      <td>03</td>\n",
       "      <td>74950</td>\n",
       "    </tr>\n",
       "    <tr>\n",
       "      <th>3</th>\n",
       "      <td>Semi-Detached</td>\n",
       "      <td>New</td>\n",
       "      <td>Freehold</td>\n",
       "      <td>BILLINGHAM</td>\n",
       "      <td>54.61</td>\n",
       "      <td>-1.29</td>\n",
       "      <td>1995</td>\n",
       "      <td>11</td>\n",
       "      <td>14</td>\n",
       "      <td>43500</td>\n",
       "    </tr>\n",
       "    <tr>\n",
       "      <th>4</th>\n",
       "      <td>Semi-Detached</td>\n",
       "      <td>New</td>\n",
       "      <td>Freehold</td>\n",
       "      <td>CLEATOR MOOR</td>\n",
       "      <td>54.52</td>\n",
       "      <td>-3.52</td>\n",
       "      <td>1995</td>\n",
       "      <td>09</td>\n",
       "      <td>08</td>\n",
       "      <td>63000</td>\n",
       "    </tr>\n",
       "  </tbody>\n",
       "</table>\n",
       "</div>"
      ],
      "text/plain": [
       "   Property_Type Old/New  Duration                 City  ...  Year Month Day  Price\n",
       "0  Semi-Detached     New  Freehold  NEWCASTLE UPON TYNE  ...  1995    12  21  42000\n",
       "1  Semi-Detached     New  Freehold                GRAYS  ...  1995    03  03  95000\n",
       "2       Detached     Old  Freehold           MIDDLEWICH  ...  1995    10  03  74950\n",
       "3  Semi-Detached     New  Freehold           BILLINGHAM  ...  1995    11  14  43500\n",
       "4  Semi-Detached     New  Freehold         CLEATOR MOOR  ...  1995    09  08  63000\n",
       "\n",
       "[5 rows x 10 columns]"
      ]
     },
     "execution_count": 7,
     "metadata": {
      "tags": []
     },
     "output_type": "execute_result"
    }
   ],
   "source": [
    "dataset.drop(['Date_of_Transfer'], inplace=True, axis=1)\n",
    "dataset=dataset[['Property_Type','Old/New','Duration','City','Latitude','Longitude','Year','Month','Day','Price']]\n",
    "dataset.head()"
   ]
  },
  {
   "cell_type": "markdown",
   "metadata": {
    "colab_type": "text",
    "id": "TiUzWmVBHxMR"
   },
   "source": [
    "## Explore for missing data"
   ]
  },
  {
   "cell_type": "code",
   "execution_count": 0,
   "metadata": {
    "colab": {
     "base_uri": "https://localhost:8080/",
     "height": 204
    },
    "colab_type": "code",
    "id": "WE-QN17dH-Ka",
    "outputId": "1fb0ea3f-0091-446f-cf79-5a8e54fc7749"
   },
   "outputs": [
    {
     "data": {
      "text/plain": [
       "Price            0\n",
       "Day              0\n",
       "Month            0\n",
       "Year             0\n",
       "Longitude        0\n",
       "Latitude         0\n",
       "City             0\n",
       "Duration         0\n",
       "Odd/New          0\n",
       "Property_Type    0\n",
       "dtype: int64"
      ]
     },
     "execution_count": 9,
     "metadata": {
      "tags": []
     },
     "output_type": "execute_result"
    }
   ],
   "source": [
    "dataset.isnull().sum().sort_values(ascending=False)"
   ]
  },
  {
   "cell_type": "markdown",
   "metadata": {
    "colab_type": "text",
    "id": "oQsuu60GLbxq"
   },
   "source": [
    "* No  Missing value"
   ]
  },
  {
   "cell_type": "code",
   "execution_count": 0,
   "metadata": {
    "colab": {
     "base_uri": "https://localhost:8080/",
     "height": 272
    },
    "colab_type": "code",
    "id": "qToJeLOeICi5",
    "outputId": "362ad7de-0c6a-4994-9b5f-94deedc80f31"
   },
   "outputs": [
    {
     "name": "stdout",
     "output_type": "stream",
     "text": [
      "<class 'pandas.core.frame.DataFrame'>\n",
      "RangeIndex: 24678174 entries, 0 to 24678173\n",
      "Data columns (total 10 columns):\n",
      "Property_Type    object\n",
      "Odd/New          object\n",
      "Duration         object\n",
      "City             object\n",
      "Latitude         float64\n",
      "Longitude        object\n",
      "Year             object\n",
      "Month            object\n",
      "Day              object\n",
      "Price            int64\n",
      "dtypes: float64(1), int64(1), object(8)\n",
      "memory usage: 1.8+ GB\n"
     ]
    }
   ],
   "source": [
    "dataset.info()"
   ]
  },
  {
   "cell_type": "markdown",
   "metadata": {
    "colab_type": "text",
    "id": "vZaWPSM7IMrR"
   },
   "source": [
    "## Getting each column into the right data type"
   ]
  },
  {
   "cell_type": "code",
   "execution_count": 8,
   "metadata": {
    "colab": {},
    "colab_type": "code",
    "id": "P2h9yDG5IIli"
   },
   "outputs": [],
   "source": [
    "def convert_int(data):\n",
    "  data = data.astype(int)\n",
    "  return data\n",
    "\n",
    "dataset[['Year', 'Month','Day']] = dataset[['Year', 'Month','Day']].apply(convert_int)\n",
    "dataset['Longitude'] = dataset['Longitude'].astype(float)"
   ]
  },
  {
   "cell_type": "markdown",
   "metadata": {
    "colab_type": "text",
    "id": "2TIKMYPZA3y9"
   },
   "source": [
    "### Brief statistical summary of the data"
   ]
  },
  {
   "cell_type": "code",
   "execution_count": 0,
   "metadata": {
    "colab": {
     "base_uri": "https://localhost:8080/",
     "height": 173
    },
    "colab_type": "code",
    "id": "v2_3jU5RA3zB",
    "outputId": "8d792c2e-7b8c-47d4-8ada-373986f91b04"
   },
   "outputs": [
    {
     "data": {
      "text/html": [
       "<div>\n",
       "<style scoped>\n",
       "    .dataframe tbody tr th:only-of-type {\n",
       "        vertical-align: middle;\n",
       "    }\n",
       "\n",
       "    .dataframe tbody tr th {\n",
       "        vertical-align: top;\n",
       "    }\n",
       "\n",
       "    .dataframe thead th {\n",
       "        text-align: right;\n",
       "    }\n",
       "</style>\n",
       "<table border=\"1\" class=\"dataframe\">\n",
       "  <thead>\n",
       "    <tr style=\"text-align: right;\">\n",
       "      <th></th>\n",
       "      <th>count</th>\n",
       "      <th>unique</th>\n",
       "      <th>top</th>\n",
       "      <th>freq</th>\n",
       "    </tr>\n",
       "  </thead>\n",
       "  <tbody>\n",
       "    <tr>\n",
       "      <th>Property_Type</th>\n",
       "      <td>24678174</td>\n",
       "      <td>5</td>\n",
       "      <td>T</td>\n",
       "      <td>7495842</td>\n",
       "    </tr>\n",
       "    <tr>\n",
       "      <th>Odd/New</th>\n",
       "      <td>24678174</td>\n",
       "      <td>2</td>\n",
       "      <td>N</td>\n",
       "      <td>22092409</td>\n",
       "    </tr>\n",
       "    <tr>\n",
       "      <th>Duration</th>\n",
       "      <td>24678174</td>\n",
       "      <td>3</td>\n",
       "      <td>F</td>\n",
       "      <td>18840397</td>\n",
       "    </tr>\n",
       "    <tr>\n",
       "      <th>City</th>\n",
       "      <td>24678174</td>\n",
       "      <td>1171</td>\n",
       "      <td>LONDON</td>\n",
       "      <td>1922913</td>\n",
       "    </tr>\n",
       "  </tbody>\n",
       "</table>\n",
       "</div>"
      ],
      "text/plain": [
       "                  count unique     top      freq\n",
       "Property_Type  24678174      5       T   7495842\n",
       "Odd/New        24678174      2       N  22092409\n",
       "Duration       24678174      3       F  18840397\n",
       "City           24678174   1171  LONDON   1922913"
      ]
     },
     "execution_count": 12,
     "metadata": {
      "tags": []
     },
     "output_type": "execute_result"
    }
   ],
   "source": [
    "#Summary statistics for only categorical variables\n",
    "dataset.describe(include=['O']).transpose()"
   ]
  },
  {
   "cell_type": "code",
   "execution_count": 0,
   "metadata": {
    "colab": {
     "base_uri": "https://localhost:8080/",
     "height": 297
    },
    "colab_type": "code",
    "id": "AEZr__kxCcBx",
    "outputId": "1f8d2512-dbed-4ad9-a4de-38736e5c594b"
   },
   "outputs": [
    {
     "data": {
      "text/html": [
       "<div>\n",
       "<style scoped>\n",
       "    .dataframe tbody tr th:only-of-type {\n",
       "        vertical-align: middle;\n",
       "    }\n",
       "\n",
       "    .dataframe tbody tr th {\n",
       "        vertical-align: top;\n",
       "    }\n",
       "\n",
       "    .dataframe thead th {\n",
       "        text-align: right;\n",
       "    }\n",
       "</style>\n",
       "<table border=\"1\" class=\"dataframe\">\n",
       "  <thead>\n",
       "    <tr style=\"text-align: right;\">\n",
       "      <th></th>\n",
       "      <th>Latitude</th>\n",
       "      <th>Longitude</th>\n",
       "      <th>Year</th>\n",
       "      <th>Month</th>\n",
       "      <th>Day</th>\n",
       "      <th>Price</th>\n",
       "    </tr>\n",
       "  </thead>\n",
       "  <tbody>\n",
       "    <tr>\n",
       "      <th>count</th>\n",
       "      <td>2.467817e+07</td>\n",
       "      <td>2.467817e+07</td>\n",
       "      <td>2.467817e+07</td>\n",
       "      <td>2.467817e+07</td>\n",
       "      <td>2.467817e+07</td>\n",
       "      <td>2.467817e+07</td>\n",
       "    </tr>\n",
       "    <tr>\n",
       "      <th>mean</th>\n",
       "      <td>4.981384e+01</td>\n",
       "      <td>-7.906256e+00</td>\n",
       "      <td>2.006313e+03</td>\n",
       "      <td>6.761566e+00</td>\n",
       "      <td>1.708426e+01</td>\n",
       "      <td>1.941126e+05</td>\n",
       "    </tr>\n",
       "    <tr>\n",
       "      <th>std</th>\n",
       "      <td>1.056412e+01</td>\n",
       "      <td>2.993457e+01</td>\n",
       "      <td>7.060981e+00</td>\n",
       "      <td>3.328403e+00</td>\n",
       "      <td>9.049399e+00</td>\n",
       "      <td>7.212366e+05</td>\n",
       "    </tr>\n",
       "    <tr>\n",
       "      <th>min</th>\n",
       "      <td>-4.353000e+01</td>\n",
       "      <td>-1.229100e+02</td>\n",
       "      <td>1.995000e+03</td>\n",
       "      <td>1.000000e+00</td>\n",
       "      <td>1.000000e+00</td>\n",
       "      <td>1.000000e+00</td>\n",
       "    </tr>\n",
       "    <tr>\n",
       "      <th>25%</th>\n",
       "      <td>5.123000e+01</td>\n",
       "      <td>-2.620000e+00</td>\n",
       "      <td>2.000000e+03</td>\n",
       "      <td>4.000000e+00</td>\n",
       "      <td>9.000000e+00</td>\n",
       "      <td>7.850000e+04</td>\n",
       "    </tr>\n",
       "    <tr>\n",
       "      <th>50%</th>\n",
       "      <td>5.167000e+01</td>\n",
       "      <td>-1.450000e+00</td>\n",
       "      <td>2.005000e+03</td>\n",
       "      <td>7.000000e+00</td>\n",
       "      <td>1.800000e+01</td>\n",
       "      <td>1.375000e+05</td>\n",
       "    </tr>\n",
       "    <tr>\n",
       "      <th>75%</th>\n",
       "      <td>5.310000e+01</td>\n",
       "      <td>-1.900000e-01</td>\n",
       "      <td>2.013000e+03</td>\n",
       "      <td>1.000000e+01</td>\n",
       "      <td>2.500000e+01</td>\n",
       "      <td>2.250000e+05</td>\n",
       "    </tr>\n",
       "    <tr>\n",
       "      <th>max</th>\n",
       "      <td>5.723000e+01</td>\n",
       "      <td>1.747800e+02</td>\n",
       "      <td>2.019000e+03</td>\n",
       "      <td>1.200000e+01</td>\n",
       "      <td>3.100000e+01</td>\n",
       "      <td>5.943000e+08</td>\n",
       "    </tr>\n",
       "  </tbody>\n",
       "</table>\n",
       "</div>"
      ],
      "text/plain": [
       "           Latitude     Longitude  ...           Day         Price\n",
       "count  2.467817e+07  2.467817e+07  ...  2.467817e+07  2.467817e+07\n",
       "mean   4.981384e+01 -7.906256e+00  ...  1.708426e+01  1.941126e+05\n",
       "std    1.056412e+01  2.993457e+01  ...  9.049399e+00  7.212366e+05\n",
       "min   -4.353000e+01 -1.229100e+02  ...  1.000000e+00  1.000000e+00\n",
       "25%    5.123000e+01 -2.620000e+00  ...  9.000000e+00  7.850000e+04\n",
       "50%    5.167000e+01 -1.450000e+00  ...  1.800000e+01  1.375000e+05\n",
       "75%    5.310000e+01 -1.900000e-01  ...  2.500000e+01  2.250000e+05\n",
       "max    5.723000e+01  1.747800e+02  ...  3.100000e+01  5.943000e+08\n",
       "\n",
       "[8 rows x 6 columns]"
      ]
     },
     "execution_count": 36,
     "metadata": {
      "tags": []
     },
     "output_type": "execute_result"
    }
   ],
   "source": [
    "#summary statistics including only the numerical variables\n",
    "dataset.describe()"
   ]
  },
  {
   "cell_type": "markdown",
   "metadata": {
    "colab_type": "text",
    "id": "ebQaf3W5Eg_o"
   },
   "source": [
    "### The minimum house price is 1995 though 2019 is £1, this is incredible.\n",
    "### - 96 houses sold for £1"
   ]
  },
  {
   "cell_type": "code",
   "execution_count": 0,
   "metadata": {
    "colab": {
     "base_uri": "https://localhost:8080/",
     "height": 436
    },
    "colab_type": "code",
    "id": "pu0wKpCgEfRZ",
    "outputId": "7d4b3b0b-eff4-4209-e636-bd57aa7807b6"
   },
   "outputs": [
    {
     "name": "stdout",
     "output_type": "stream",
     "text": [
      "(96, 10)\n"
     ]
    },
    {
     "data": {
      "text/html": [
       "<div>\n",
       "<style scoped>\n",
       "    .dataframe tbody tr th:only-of-type {\n",
       "        vertical-align: middle;\n",
       "    }\n",
       "\n",
       "    .dataframe tbody tr th {\n",
       "        vertical-align: top;\n",
       "    }\n",
       "\n",
       "    .dataframe thead th {\n",
       "        text-align: right;\n",
       "    }\n",
       "</style>\n",
       "<table border=\"1\" class=\"dataframe\">\n",
       "  <thead>\n",
       "    <tr style=\"text-align: right;\">\n",
       "      <th></th>\n",
       "      <th>Property_Type</th>\n",
       "      <th>Old/New</th>\n",
       "      <th>Duration</th>\n",
       "      <th>City</th>\n",
       "      <th>Latitude</th>\n",
       "      <th>Longitude</th>\n",
       "      <th>Year</th>\n",
       "      <th>Month</th>\n",
       "      <th>Day</th>\n",
       "      <th>Price</th>\n",
       "    </tr>\n",
       "  </thead>\n",
       "  <tbody>\n",
       "    <tr>\n",
       "      <th>97025</th>\n",
       "      <td>Terraced</td>\n",
       "      <td>New</td>\n",
       "      <td>Freehold</td>\n",
       "      <td>ILFRACOMBE</td>\n",
       "      <td>51.21</td>\n",
       "      <td>-4.11</td>\n",
       "      <td>1995</td>\n",
       "      <td>4</td>\n",
       "      <td>18</td>\n",
       "      <td>1</td>\n",
       "    </tr>\n",
       "    <tr>\n",
       "      <th>488868</th>\n",
       "      <td>Terraced</td>\n",
       "      <td>New</td>\n",
       "      <td>Freehold</td>\n",
       "      <td>MANCHESTER</td>\n",
       "      <td>53.48</td>\n",
       "      <td>-2.24</td>\n",
       "      <td>1995</td>\n",
       "      <td>8</td>\n",
       "      <td>4</td>\n",
       "      <td>1</td>\n",
       "    </tr>\n",
       "    <tr>\n",
       "      <th>519712</th>\n",
       "      <td>Terraced</td>\n",
       "      <td>New</td>\n",
       "      <td>Freehold</td>\n",
       "      <td>KINGSTON UPON THAMES</td>\n",
       "      <td>51.41</td>\n",
       "      <td>-0.31</td>\n",
       "      <td>1995</td>\n",
       "      <td>9</td>\n",
       "      <td>11</td>\n",
       "      <td>1</td>\n",
       "    </tr>\n",
       "    <tr>\n",
       "      <th>523286</th>\n",
       "      <td>Semi-Detached</td>\n",
       "      <td>New</td>\n",
       "      <td>Freehold</td>\n",
       "      <td>LONDON</td>\n",
       "      <td>51.51</td>\n",
       "      <td>-0.13</td>\n",
       "      <td>1995</td>\n",
       "      <td>3</td>\n",
       "      <td>17</td>\n",
       "      <td>1</td>\n",
       "    </tr>\n",
       "    <tr>\n",
       "      <th>523734</th>\n",
       "      <td>Semi-Detached</td>\n",
       "      <td>New</td>\n",
       "      <td>Freehold</td>\n",
       "      <td>HITCHIN</td>\n",
       "      <td>51.95</td>\n",
       "      <td>-0.27</td>\n",
       "      <td>1995</td>\n",
       "      <td>12</td>\n",
       "      <td>8</td>\n",
       "      <td>1</td>\n",
       "    </tr>\n",
       "    <tr>\n",
       "      <th>...</th>\n",
       "      <td>...</td>\n",
       "      <td>...</td>\n",
       "      <td>...</td>\n",
       "      <td>...</td>\n",
       "      <td>...</td>\n",
       "      <td>...</td>\n",
       "      <td>...</td>\n",
       "      <td>...</td>\n",
       "      <td>...</td>\n",
       "      <td>...</td>\n",
       "    </tr>\n",
       "    <tr>\n",
       "      <th>22973228</th>\n",
       "      <td>Flats/Maisonettes</td>\n",
       "      <td>New</td>\n",
       "      <td>Leasehold</td>\n",
       "      <td>HAVANT</td>\n",
       "      <td>50.86</td>\n",
       "      <td>-0.99</td>\n",
       "      <td>2017</td>\n",
       "      <td>10</td>\n",
       "      <td>25</td>\n",
       "      <td>1</td>\n",
       "    </tr>\n",
       "    <tr>\n",
       "      <th>22973229</th>\n",
       "      <td>Flats/Maisonettes</td>\n",
       "      <td>New</td>\n",
       "      <td>Leasehold</td>\n",
       "      <td>HAVANT</td>\n",
       "      <td>50.86</td>\n",
       "      <td>-0.99</td>\n",
       "      <td>2017</td>\n",
       "      <td>10</td>\n",
       "      <td>25</td>\n",
       "      <td>1</td>\n",
       "    </tr>\n",
       "    <tr>\n",
       "      <th>23131450</th>\n",
       "      <td>Detached</td>\n",
       "      <td>New</td>\n",
       "      <td>Leasehold</td>\n",
       "      <td>ASHTON-UNDER-LYNE</td>\n",
       "      <td>53.49</td>\n",
       "      <td>-2.10</td>\n",
       "      <td>2018</td>\n",
       "      <td>7</td>\n",
       "      <td>12</td>\n",
       "      <td>1</td>\n",
       "    </tr>\n",
       "    <tr>\n",
       "      <th>23362738</th>\n",
       "      <td>Detached</td>\n",
       "      <td>New</td>\n",
       "      <td>Leasehold</td>\n",
       "      <td>MOLD</td>\n",
       "      <td>53.17</td>\n",
       "      <td>-3.14</td>\n",
       "      <td>2018</td>\n",
       "      <td>10</td>\n",
       "      <td>3</td>\n",
       "      <td>1</td>\n",
       "    </tr>\n",
       "    <tr>\n",
       "      <th>24414893</th>\n",
       "      <td>Semi-Detached</td>\n",
       "      <td>New</td>\n",
       "      <td>Leasehold</td>\n",
       "      <td>SOLIHULL</td>\n",
       "      <td>52.41</td>\n",
       "      <td>-1.78</td>\n",
       "      <td>2019</td>\n",
       "      <td>2</td>\n",
       "      <td>14</td>\n",
       "      <td>1</td>\n",
       "    </tr>\n",
       "  </tbody>\n",
       "</table>\n",
       "<p>96 rows × 10 columns</p>\n",
       "</div>"
      ],
      "text/plain": [
       "              Property_Type Old/New   Duration  ... Month  Day  Price\n",
       "97025              Terraced     New   Freehold  ...     4   18      1\n",
       "488868             Terraced     New   Freehold  ...     8    4      1\n",
       "519712             Terraced     New   Freehold  ...     9   11      1\n",
       "523286        Semi-Detached     New   Freehold  ...     3   17      1\n",
       "523734        Semi-Detached     New   Freehold  ...    12    8      1\n",
       "...                     ...     ...        ...  ...   ...  ...    ...\n",
       "22973228  Flats/Maisonettes     New  Leasehold  ...    10   25      1\n",
       "22973229  Flats/Maisonettes     New  Leasehold  ...    10   25      1\n",
       "23131450           Detached     New  Leasehold  ...     7   12      1\n",
       "23362738           Detached     New  Leasehold  ...    10    3      1\n",
       "24414893      Semi-Detached     New  Leasehold  ...     2   14      1\n",
       "\n",
       "[96 rows x 10 columns]"
      ]
     },
     "execution_count": 9,
     "metadata": {
      "tags": []
     },
     "output_type": "execute_result"
    }
   ],
   "source": [
    "print(dataset[dataset.Price==1].shape)\n",
    "dataset[dataset.Price==1]"
   ]
  },
  {
   "cell_type": "markdown",
   "metadata": {
    "colab_type": "text",
    "id": "1DN7DerGA3zI"
   },
   "source": [
    "### Identifying outliers using interquartile rule"
   ]
  },
  {
   "cell_type": "code",
   "execution_count": 0,
   "metadata": {
    "colab": {
     "base_uri": "https://localhost:8080/",
     "height": 51
    },
    "colab_type": "code",
    "id": "TxIF-bVeA3zJ",
    "outputId": "d02c04d6-a2e6-4f6e-e4bf-865da0f4e36c"
   },
   "outputs": [
    {
     "name": "stdout",
     "output_type": "stream",
     "text": [
      "The upper quartile of the house price is:  444750.0\n",
      "The lower quartile of the house price is:  5250.0\n"
     ]
    }
   ],
   "source": [
    "Stats=dataset.Price.describe()\n",
    "INTQ=Stats[\"75%\"]-Stats[\"25%\"]\n",
    "UPPER_Q=Stats[\"75%\"]+1.5*INTQ\n",
    "LOWER_Q=Stats[\"75%\"]-1.5*INTQ\n",
    "print(\"The upper quartile of the house price is: \", UPPER_Q)\n",
    "print(\"The lower quartile of the house price is: \", LOWER_Q)"
   ]
  },
  {
   "cell_type": "code",
   "execution_count": 0,
   "metadata": {
    "colab": {},
    "colab_type": "code",
    "id": "iB35yCnFA3zL"
   },
   "outputs": [],
   "source": [
    "#Outlier_L=dataset.Price[df.Price < 5250]\n",
    "#print('Lower band outliers: \\n', Outlier_L.describe())"
   ]
  },
  {
   "cell_type": "code",
   "execution_count": 0,
   "metadata": {
    "colab": {},
    "colab_type": "code",
    "id": "jaMSii2qA3zO"
   },
   "outputs": [],
   "source": [
    "#Outlier_U=dataset[['Price','City']][df.Price >444750]\n",
    "#print('Upper band outliers: \\n', Outlier_U.describe())\n",
    "#Outlier_U.head(30)"
   ]
  },
  {
   "cell_type": "markdown",
   "metadata": {
    "colab_type": "text",
    "id": "4rOO_8OEA3zX"
   },
   "source": [
    "### Remove instances below the lower bound outliers\n",
    "#### It seem there are many outliers in the dataset. The minimum house price (£5263) was in Leeds in 1995\n",
    "- A quick review of the <a href= \"https://www.home.co.uk/guides/house_prices_report.htm?location=leeds&all=1\" >**internet**<a/> showed that in the year 1995, the cheapest flat was sold at £35,737.\n",
    "- Also, the maximum house price in the dataset is located in London priced at £594.3 million in the year 2017. This seems to be an extreme value as the most expensive house sold in London in recent years is priced at £160 million <a href= \"https://www.foxtons.co.uk/discover/2018/01/where-are-londons-most-expensive-homes.html\" > **see here**<a/>. \n",
    "- However, only instances below the lower bound outlier were removed\n"
   ]
  },
  {
   "cell_type": "markdown",
   "metadata": {
    "colab_type": "text",
    "id": "ayrFc-LvYd_s"
   },
   "source": [
    "#### 18697 houses sold have price fall below lower bound outlier "
   ]
  },
  {
   "cell_type": "code",
   "execution_count": 0,
   "metadata": {
    "colab": {
     "base_uri": "https://localhost:8080/",
     "height": 34
    },
    "colab_type": "code",
    "id": "BIiwHRrpVjqi",
    "outputId": "12bb9c82-e133-47ff-e0c5-a5cecfb76f33"
   },
   "outputs": [
    {
     "data": {
      "text/plain": [
       "(18697, 10)"
      ]
     },
     "execution_count": 40,
     "metadata": {
      "tags": []
     },
     "output_type": "execute_result"
    }
   ],
   "source": [
    "#Remove house detail with price less than £ 5263\n",
    "dataset[dataset.Price < 5263].shape"
   ]
  },
  {
   "cell_type": "code",
   "execution_count": 9,
   "metadata": {
    "colab": {
     "base_uri": "https://localhost:8080/",
     "height": 204
    },
    "colab_type": "code",
    "id": "Lq8qCAGqA3zc",
    "outputId": "733910f1-0473-4541-a5ca-ea11137dab17"
   },
   "outputs": [
    {
     "data": {
      "text/html": [
       "<div>\n",
       "<style scoped>\n",
       "    .dataframe tbody tr th:only-of-type {\n",
       "        vertical-align: middle;\n",
       "    }\n",
       "\n",
       "    .dataframe tbody tr th {\n",
       "        vertical-align: top;\n",
       "    }\n",
       "\n",
       "    .dataframe thead th {\n",
       "        text-align: right;\n",
       "    }\n",
       "</style>\n",
       "<table border=\"1\" class=\"dataframe\">\n",
       "  <thead>\n",
       "    <tr style=\"text-align: right;\">\n",
       "      <th></th>\n",
       "      <th>Property_Type</th>\n",
       "      <th>Old/New</th>\n",
       "      <th>Duration</th>\n",
       "      <th>City</th>\n",
       "      <th>Latitude</th>\n",
       "      <th>Longitude</th>\n",
       "      <th>Year</th>\n",
       "      <th>Month</th>\n",
       "      <th>Day</th>\n",
       "      <th>Price</th>\n",
       "    </tr>\n",
       "  </thead>\n",
       "  <tbody>\n",
       "    <tr>\n",
       "      <td>0</td>\n",
       "      <td>Semi-Detached</td>\n",
       "      <td>New</td>\n",
       "      <td>Freehold</td>\n",
       "      <td>NEWCASTLE UPON TYNE</td>\n",
       "      <td>54.97</td>\n",
       "      <td>-1.61</td>\n",
       "      <td>1995</td>\n",
       "      <td>12</td>\n",
       "      <td>21</td>\n",
       "      <td>42000</td>\n",
       "    </tr>\n",
       "    <tr>\n",
       "      <td>1</td>\n",
       "      <td>Semi-Detached</td>\n",
       "      <td>New</td>\n",
       "      <td>Freehold</td>\n",
       "      <td>GRAYS</td>\n",
       "      <td>51.48</td>\n",
       "      <td>0.33</td>\n",
       "      <td>1995</td>\n",
       "      <td>3</td>\n",
       "      <td>3</td>\n",
       "      <td>95000</td>\n",
       "    </tr>\n",
       "    <tr>\n",
       "      <td>2</td>\n",
       "      <td>Detached</td>\n",
       "      <td>Old</td>\n",
       "      <td>Freehold</td>\n",
       "      <td>MIDDLEWICH</td>\n",
       "      <td>53.19</td>\n",
       "      <td>-2.44</td>\n",
       "      <td>1995</td>\n",
       "      <td>10</td>\n",
       "      <td>3</td>\n",
       "      <td>74950</td>\n",
       "    </tr>\n",
       "    <tr>\n",
       "      <td>3</td>\n",
       "      <td>Semi-Detached</td>\n",
       "      <td>New</td>\n",
       "      <td>Freehold</td>\n",
       "      <td>BILLINGHAM</td>\n",
       "      <td>54.61</td>\n",
       "      <td>-1.29</td>\n",
       "      <td>1995</td>\n",
       "      <td>11</td>\n",
       "      <td>14</td>\n",
       "      <td>43500</td>\n",
       "    </tr>\n",
       "    <tr>\n",
       "      <td>4</td>\n",
       "      <td>Semi-Detached</td>\n",
       "      <td>New</td>\n",
       "      <td>Freehold</td>\n",
       "      <td>CLEATOR MOOR</td>\n",
       "      <td>54.52</td>\n",
       "      <td>-3.52</td>\n",
       "      <td>1995</td>\n",
       "      <td>9</td>\n",
       "      <td>8</td>\n",
       "      <td>63000</td>\n",
       "    </tr>\n",
       "  </tbody>\n",
       "</table>\n",
       "</div>"
      ],
      "text/plain": [
       "   Property_Type Old/New  Duration                 City  Latitude  Longitude  \\\n",
       "0  Semi-Detached     New  Freehold  NEWCASTLE UPON TYNE     54.97      -1.61   \n",
       "1  Semi-Detached     New  Freehold                GRAYS     51.48       0.33   \n",
       "2       Detached     Old  Freehold           MIDDLEWICH     53.19      -2.44   \n",
       "3  Semi-Detached     New  Freehold           BILLINGHAM     54.61      -1.29   \n",
       "4  Semi-Detached     New  Freehold         CLEATOR MOOR     54.52      -3.52   \n",
       "\n",
       "   Year  Month  Day  Price  \n",
       "0  1995     12   21  42000  \n",
       "1  1995      3    3  95000  \n",
       "2  1995     10    3  74950  \n",
       "3  1995     11   14  43500  \n",
       "4  1995      9    8  63000  "
      ]
     },
     "execution_count": 9,
     "metadata": {},
     "output_type": "execute_result"
    }
   ],
   "source": [
    "#Remove house detail with price less than £ 5263\n",
    "dataset=dataset.iloc[:,0:][dataset.Price > 5263]\n",
    "#dataset.rename(columns={'Odd/New': 'Old/New'},inplace = True)\n",
    "dataset.head()"
   ]
  },
  {
   "cell_type": "markdown",
   "metadata": {
    "colab_type": "text",
    "id": "s1lmQ8ZhXMZ4"
   },
   "source": [
    "## Data Visualisation"
   ]
  },
  {
   "cell_type": "code",
   "execution_count": 0,
   "metadata": {
    "colab": {},
    "colab_type": "code",
    "id": "XB16-q3rYu9L"
   },
   "outputs": [],
   "source": [
    "#from pandas.plotting import scatter_matrix\n",
    "num_features = ['Latitude','Longitude','Year','Month','Day','Price']\n",
    "\n",
    "#scatter_matrix(dataset[num_features], figsize=(12, 8))\n",
    "#_ = sns.pairplot(data, diag_kind='kde')"
   ]
  },
  {
   "cell_type": "code",
   "execution_count": 0,
   "metadata": {
    "colab": {
     "base_uri": "https://localhost:8080/",
     "height": 525
    },
    "colab_type": "code",
    "id": "drIGCVCUfBSE",
    "outputId": "530ebc08-0d48-4afc-f48b-14dc9af57d57"
   },
   "outputs": [
    {
     "data": {
      "text/plain": [
       "<matplotlib.legend.Legend at 0x7fe52b68af28>"
      ]
     },
     "execution_count": 10,
     "metadata": {
      "tags": []
     },
     "output_type": "execute_result"
    },
    {
     "data": {
      "image/png": "[encoded data removed]",
      "text/plain": [
       "<Figure size 864x576 with 2 Axes>"
      ]
     },
     "metadata": {
      "tags": []
     },
     "output_type": "display_data"
    }
   ],
   "source": [
    "_= dataset.plot(kind=\"scatter\", x=\"Longitude\", y=\"Latitude\", alpha=0.4,\n",
    "             s=dataset[\"Year\"]/100, label=\"Year\", figsize=(12,8),\n",
    "             c=\"Price\", cmap=plt.get_cmap(\"jet\"), colorbar=True,\n",
    "             sharex=False)\n",
    "plt.legend()"
   ]
  },
  {
   "cell_type": "code",
   "execution_count": 0,
   "metadata": {
    "colab": {
     "base_uri": "https://localhost:8080/",
     "height": 402
    },
    "colab_type": "code",
    "id": "GD9NKn4a3DXH",
    "outputId": "d62e2f9d-5629-43cd-f33f-76df83d5246e"
   },
   "outputs": [
    {
     "data": {
      "text/plain": [
       "Text(0.5, 1, 'Boxplot showing distribution of houses sold per month')"
      ]
     },
     "execution_count": 13,
     "metadata": {
      "tags": []
     },
     "output_type": "execute_result"
    },
    {
     "data": {
      "image/png": "[encoded data removed]",
      "text/plain": [
       "<Figure size 417.75x360 with 1 Axes>"
      ]
     },
     "metadata": {
      "tags": []
     },
     "output_type": "display_data"
    }
   ],
   "source": [
    "_=sns.catplot(x=\"Month\", y=\"Duration\", hue=\"Old/New\",\n",
    "            kind=\"box\", dodge=False, data=dataset)\n",
    "plt.title('Boxplot showing distribution of houses sold per month')"
   ]
  },
  {
   "cell_type": "code",
   "execution_count": 0,
   "metadata": {
    "colab": {
     "base_uri": "https://localhost:8080/",
     "height": 386
    },
    "colab_type": "code",
    "id": "M4vprmX75Xi8",
    "outputId": "682c2b86-9569-4b1e-d9ab-dea92350aaa6"
   },
   "outputs": [
    {
     "data": {
      "text/plain": [
       "<seaborn.axisgrid.FacetGrid at 0x7f754c4a5da0>"
      ]
     },
     "execution_count": 25,
     "metadata": {
      "tags": []
     },
     "output_type": "execute_result"
    },
    {
     "data": {
      "image/png": "[encoded data removed]",
      "text/plain": [
       "<Figure size 483.75x360 with 1 Axes>"
      ]
     },
     "metadata": {
      "tags": []
     },
     "output_type": "display_data"
    }
   ],
   "source": [
    "sns.catplot(x=\"Old/New\", y=\"Price\", hue=\"Property_Type\", kind=\"bar\", data= dataset)"
   ]
  },
  {
   "cell_type": "code",
   "execution_count": 0,
   "metadata": {
    "colab": {
     "base_uri": "https://localhost:8080/",
     "height": 383
    },
    "colab_type": "code",
    "id": "gmj6phk-ISDK",
    "outputId": "3bc69ee4-cebd-441a-84dd-c125bf508839"
   },
   "outputs": [
    {
     "data": {
      "image/png": "[encoded data removed]",
      "text/plain": [
       "<Figure size 417.75x360 with 1 Axes>"
      ]
     },
     "metadata": {
      "tags": []
     },
     "output_type": "display_data"
    }
   ],
   "source": [
    "_= sns.catplot(y=\"Property_Type\", hue=\"Old/New\", kind=\"count\",\n",
    "            palette=\"pastel\", edgecolor=\".6\",\n",
    "            data= dataset)"
   ]
  },
  {
   "cell_type": "code",
   "execution_count": 0,
   "metadata": {
    "colab": {
     "base_uri": "https://localhost:8080/",
     "height": 386
    },
    "colab_type": "code",
    "id": "TfzQARUjJC_o",
    "outputId": "ec2086e1-4652-4a10-d73c-563805cc757f"
   },
   "outputs": [
    {
     "data": {
      "text/plain": [
       "<seaborn.axisgrid.FacetGrid at 0x7f754c309518>"
      ]
     },
     "execution_count": 27,
     "metadata": {
      "tags": []
     },
     "output_type": "execute_result"
    },
    {
     "data": {
      "image/png": "[encoded data removed]",
      "text/plain": [
       "<Figure size 417.75x360 with 1 Axes>"
      ]
     },
     "metadata": {
      "tags": []
     },
     "output_type": "display_data"
    }
   ],
   "source": [
    "sns.catplot(x=\"Duration\", y=\"Price\", hue=\"Old/New\",\n",
    "            palette={\"New\": \"g\", \"Old\": \"m\"},\n",
    "            markers=[\"^\", \"o\"], linestyles=[\"-\", \"--\"],\n",
    "            kind=\"point\", data=dataset)"
   ]
  },
  {
   "cell_type": "code",
   "execution_count": 0,
   "metadata": {
    "colab": {
     "base_uri": "https://localhost:8080/",
     "height": 337
    },
    "colab_type": "code",
    "id": "vyUb9h-8S3hr",
    "outputId": "3d785211-5c96-4b92-8b55-8274d77452d3"
   },
   "outputs": [
    {
     "data": {
      "image/png": "[encoded data removed]",
      "text/plain": [
       "<Figure size 432x324 with 3 Axes>"
      ]
     },
     "metadata": {
      "tags": []
     },
     "output_type": "display_data"
    }
   ],
   "source": [
    "ax = sns.catplot(x=\"Price\", y=\"Old/New\", row=\"Duration\",\n",
    "                kind=\"box\", orient=\"h\", height=1.5, aspect=4,\n",
    "                data=dataset.query(\"Price > 0\"))\n",
    "ax.set(xscale=\"log\")\n",
    "plt.show()"
   ]
  },
  {
   "cell_type": "code",
   "execution_count": 0,
   "metadata": {
    "colab": {},
    "colab_type": "code",
    "id": "C6S2Zc3xb_b_"
   },
   "outputs": [],
   "source": [
    "#_=sns.catplot(x=\"Duration\", y=\"Price\", kind=\"boxen\",\n",
    "#            data=dataset.sort_values(\"Duration\"))"
   ]
  },
  {
   "cell_type": "code",
   "execution_count": 0,
   "metadata": {
    "colab": {},
    "colab_type": "code",
    "id": "rG4aQf8xA3zw"
   },
   "outputs": [],
   "source": [
    "#dataset.iloc[:,4][dataset.iloc[:,4]!='LONDON']='OTHERS'\n",
    "#dataset.City.value_counts()"
   ]
  },
  {
   "cell_type": "markdown",
   "metadata": {
    "colab_type": "text",
    "id": "EzdHVrDAA3z3"
   },
   "source": [
    "#### OnehotEncoding of Categorical variables using get_dummies method"
   ]
  },
  {
   "cell_type": "code",
   "execution_count": 11,
   "metadata": {
    "colab": {},
    "colab_type": "code",
    "id": "MIDcrwscA3z5"
   },
   "outputs": [],
   "source": [
    "def get_dummie(data,cat_feat=None):\n",
    "    dummie_variables=pd.get_dummies(data[cat_feat])\n",
    "    df=data.drop(cat_feat, axis=1,)\n",
    "    return pd.concat([df,dummie_variables],axis=1)"
   ]
  },
  {
   "cell_type": "code",
   "execution_count": 12,
   "metadata": {
    "colab": {},
    "colab_type": "code",
    "id": "rEJFMiNwA3z8"
   },
   "outputs": [
    {
     "data": {
      "text/html": [
       "<div>\n",
       "<style scoped>\n",
       "    .dataframe tbody tr th:only-of-type {\n",
       "        vertical-align: middle;\n",
       "    }\n",
       "\n",
       "    .dataframe tbody tr th {\n",
       "        vertical-align: top;\n",
       "    }\n",
       "\n",
       "    .dataframe thead th {\n",
       "        text-align: right;\n",
       "    }\n",
       "</style>\n",
       "<table border=\"1\" class=\"dataframe\">\n",
       "  <thead>\n",
       "    <tr style=\"text-align: right;\">\n",
       "      <th></th>\n",
       "      <th>Latitude</th>\n",
       "      <th>Longitude</th>\n",
       "      <th>Year</th>\n",
       "      <th>Month</th>\n",
       "      <th>Day</th>\n",
       "      <th>Price</th>\n",
       "      <th>Property_Type_Detached</th>\n",
       "      <th>Property_Type_Flats/Maisonettes</th>\n",
       "      <th>Property_Type_Others</th>\n",
       "      <th>Property_Type_Semi-Detached</th>\n",
       "      <th>Property_Type_Terraced</th>\n",
       "      <th>Old/New_New</th>\n",
       "      <th>Old/New_Old</th>\n",
       "      <th>Duration_Freehold</th>\n",
       "      <th>Duration_Leasehold</th>\n",
       "      <th>Duration_Others</th>\n",
       "    </tr>\n",
       "  </thead>\n",
       "  <tbody>\n",
       "    <tr>\n",
       "      <td>0</td>\n",
       "      <td>54.97</td>\n",
       "      <td>-1.61</td>\n",
       "      <td>1995</td>\n",
       "      <td>12</td>\n",
       "      <td>21</td>\n",
       "      <td>42000</td>\n",
       "      <td>0</td>\n",
       "      <td>0</td>\n",
       "      <td>0</td>\n",
       "      <td>1</td>\n",
       "      <td>0</td>\n",
       "      <td>1</td>\n",
       "      <td>0</td>\n",
       "      <td>1</td>\n",
       "      <td>0</td>\n",
       "      <td>0</td>\n",
       "    </tr>\n",
       "    <tr>\n",
       "      <td>1</td>\n",
       "      <td>51.48</td>\n",
       "      <td>0.33</td>\n",
       "      <td>1995</td>\n",
       "      <td>3</td>\n",
       "      <td>3</td>\n",
       "      <td>95000</td>\n",
       "      <td>0</td>\n",
       "      <td>0</td>\n",
       "      <td>0</td>\n",
       "      <td>1</td>\n",
       "      <td>0</td>\n",
       "      <td>1</td>\n",
       "      <td>0</td>\n",
       "      <td>1</td>\n",
       "      <td>0</td>\n",
       "      <td>0</td>\n",
       "    </tr>\n",
       "    <tr>\n",
       "      <td>2</td>\n",
       "      <td>53.19</td>\n",
       "      <td>-2.44</td>\n",
       "      <td>1995</td>\n",
       "      <td>10</td>\n",
       "      <td>3</td>\n",
       "      <td>74950</td>\n",
       "      <td>1</td>\n",
       "      <td>0</td>\n",
       "      <td>0</td>\n",
       "      <td>0</td>\n",
       "      <td>0</td>\n",
       "      <td>0</td>\n",
       "      <td>1</td>\n",
       "      <td>1</td>\n",
       "      <td>0</td>\n",
       "      <td>0</td>\n",
       "    </tr>\n",
       "    <tr>\n",
       "      <td>3</td>\n",
       "      <td>54.61</td>\n",
       "      <td>-1.29</td>\n",
       "      <td>1995</td>\n",
       "      <td>11</td>\n",
       "      <td>14</td>\n",
       "      <td>43500</td>\n",
       "      <td>0</td>\n",
       "      <td>0</td>\n",
       "      <td>0</td>\n",
       "      <td>1</td>\n",
       "      <td>0</td>\n",
       "      <td>1</td>\n",
       "      <td>0</td>\n",
       "      <td>1</td>\n",
       "      <td>0</td>\n",
       "      <td>0</td>\n",
       "    </tr>\n",
       "    <tr>\n",
       "      <td>4</td>\n",
       "      <td>54.52</td>\n",
       "      <td>-3.52</td>\n",
       "      <td>1995</td>\n",
       "      <td>9</td>\n",
       "      <td>8</td>\n",
       "      <td>63000</td>\n",
       "      <td>0</td>\n",
       "      <td>0</td>\n",
       "      <td>0</td>\n",
       "      <td>1</td>\n",
       "      <td>0</td>\n",
       "      <td>1</td>\n",
       "      <td>0</td>\n",
       "      <td>1</td>\n",
       "      <td>0</td>\n",
       "      <td>0</td>\n",
       "    </tr>\n",
       "  </tbody>\n",
       "</table>\n",
       "</div>"
      ],
      "text/plain": [
       "   Latitude  Longitude  Year  Month  Day  Price  Property_Type_Detached  \\\n",
       "0     54.97      -1.61  1995     12   21  42000                       0   \n",
       "1     51.48       0.33  1995      3    3  95000                       0   \n",
       "2     53.19      -2.44  1995     10    3  74950                       1   \n",
       "3     54.61      -1.29  1995     11   14  43500                       0   \n",
       "4     54.52      -3.52  1995      9    8  63000                       0   \n",
       "\n",
       "   Property_Type_Flats/Maisonettes  Property_Type_Others  \\\n",
       "0                                0                     0   \n",
       "1                                0                     0   \n",
       "2                                0                     0   \n",
       "3                                0                     0   \n",
       "4                                0                     0   \n",
       "\n",
       "   Property_Type_Semi-Detached  Property_Type_Terraced  Old/New_New  \\\n",
       "0                            1                       0            1   \n",
       "1                            1                       0            1   \n",
       "2                            0                       0            0   \n",
       "3                            1                       0            1   \n",
       "4                            1                       0            1   \n",
       "\n",
       "   Old/New_Old  Duration_Freehold  Duration_Leasehold  Duration_Others  \n",
       "0            0                  1                   0                0  \n",
       "1            0                  1                   0                0  \n",
       "2            1                  1                   0                0  \n",
       "3            0                  1                   0                0  \n",
       "4            0                  1                   0                0  "
      ]
     },
     "execution_count": 12,
     "metadata": {},
     "output_type": "execute_result"
    }
   ],
   "source": [
    "features=['Property_Type','Old/New', 'Duration']\n",
    "dataset_new = dataset[['Property_Type','Old/New','Duration','Latitude','Longitude','Year','Month','Day','Price']] # drop City column to reduce high cardinality\n",
    "dataset_trsfm=get_dummie(dataset_new,cat_feat=features)\n",
    "dataset_trsfm.head()"
   ]
  },
  {
   "cell_type": "markdown",
   "metadata": {
    "colab_type": "text",
    "id": "ue9-9QPDrBxb"
   },
   "source": [
    "### Correlation between Price as other features\n",
    "- There is poor correlation between the house price and all the features\n",
    "- Relation between house price and the features is non-linear"
   ]
  },
  {
   "cell_type": "code",
   "execution_count": 0,
   "metadata": {
    "colab": {
     "base_uri": "https://localhost:8080/",
     "height": 306
    },
    "colab_type": "code",
    "id": "d2z4NIAwrAxw",
    "outputId": "9a489bc7-9fbc-4a6e-b0a0-1441072ef59b"
   },
   "outputs": [
    {
     "data": {
      "text/plain": [
       "Price                              1.000000\n",
       "Property_Type_Others               0.148836\n",
       "Year                               0.120386\n",
       "Property_Type_Detached             0.052929\n",
       "Duration_Freehold                  0.009697\n",
       "Longitude                          0.008205\n",
       "Old/New_Old                        0.004036\n",
       "Month                              0.002519\n",
       "Duration_Others                   -0.000199\n",
       "Day                               -0.002792\n",
       "Old/New_New                       -0.004036\n",
       "Property_Type_Flats/Maisonettes   -0.005240\n",
       "Latitude                          -0.005840\n",
       "Duration_Leasehold                -0.009696\n",
       "Property_Type_Semi-Detached       -0.031061\n",
       "Property_Type_Terraced            -0.045492\n",
       "Name: Price, dtype: float64"
      ]
     },
     "execution_count": 16,
     "metadata": {
      "tags": []
     },
     "output_type": "execute_result"
    }
   ],
   "source": [
    "corr_matrix = dataset_trsfm.corr()\n",
    "corr_matrix[\"Price\"].sort_values(ascending=False)"
   ]
  },
  {
   "cell_type": "markdown",
   "metadata": {
    "colab_type": "text",
    "id": "3gAi6fYlA30A"
   },
   "source": [
    "### Heat map that shows correlation between the features"
   ]
  },
  {
   "cell_type": "code",
   "execution_count": 17,
   "metadata": {
    "colab": {},
    "colab_type": "code",
    "id": "5IZeyykXA30B"
   },
   "outputs": [],
   "source": [
    "def Heat_map(data, features):\n",
    "    plt.figure(figsize=(15, 12))\n",
    "    sns.heatmap(data[features].corr(), cmap='RdBu', annot=True)\n",
    "    plt.xticks(rotation=45)                     "
   ]
  },
  {
   "cell_type": "code",
   "execution_count": 18,
   "metadata": {
    "colab": {
     "base_uri": "https://localhost:8080/",
     "height": 163
    },
    "colab_type": "code",
    "id": "FPUYXTAXA30D",
    "outputId": "81179476-5d9a-45a3-ee98-46d7e5bd4755"
   },
   "outputs": [
    {
     "data": {
      "image/png": "[encoded data removed]",
      "text/plain": [
       "<Figure size 1080x864 with 2 Axes>"
      ]
     },
     "metadata": {
      "needs_background": "light"
     },
     "output_type": "display_data"
    }
   ],
   "source": [
    "Heat_map(dataset_trsfm,list(dataset_trsfm.columns))"
   ]
  },
  {
   "cell_type": "code",
   "execution_count": 22,
   "metadata": {},
   "outputs": [
    {
     "data": {
      "text/html": [
       "<div>\n",
       "<style scoped>\n",
       "    .dataframe tbody tr th:only-of-type {\n",
       "        vertical-align: middle;\n",
       "    }\n",
       "\n",
       "    .dataframe tbody tr th {\n",
       "        vertical-align: top;\n",
       "    }\n",
       "\n",
       "    .dataframe thead th {\n",
       "        text-align: right;\n",
       "    }\n",
       "</style>\n",
       "<table border=\"1\" class=\"dataframe\">\n",
       "  <thead>\n",
       "    <tr style=\"text-align: right;\">\n",
       "      <th></th>\n",
       "      <th>Latitude</th>\n",
       "      <th>Longitude</th>\n",
       "      <th>Year</th>\n",
       "      <th>Month</th>\n",
       "      <th>Day</th>\n",
       "      <th>Property_Type_Detached</th>\n",
       "      <th>Property_Type_Flats/Maisonettes</th>\n",
       "      <th>Property_Type_Others</th>\n",
       "      <th>Property_Type_Semi-Detached</th>\n",
       "      <th>Property_Type_Terraced</th>\n",
       "      <th>Old/New_New</th>\n",
       "      <th>Old/New_Old</th>\n",
       "      <th>Duration_Freehold</th>\n",
       "      <th>Duration_Leasehold</th>\n",
       "      <th>Duration_Others</th>\n",
       "      <th>Price</th>\n",
       "    </tr>\n",
       "  </thead>\n",
       "  <tbody>\n",
       "    <tr>\n",
       "      <td>0</td>\n",
       "      <td>54.97</td>\n",
       "      <td>-1.61</td>\n",
       "      <td>1995</td>\n",
       "      <td>12</td>\n",
       "      <td>21</td>\n",
       "      <td>0</td>\n",
       "      <td>0</td>\n",
       "      <td>0</td>\n",
       "      <td>1</td>\n",
       "      <td>0</td>\n",
       "      <td>1</td>\n",
       "      <td>0</td>\n",
       "      <td>1</td>\n",
       "      <td>0</td>\n",
       "      <td>0</td>\n",
       "      <td>42000</td>\n",
       "    </tr>\n",
       "    <tr>\n",
       "      <td>1</td>\n",
       "      <td>51.48</td>\n",
       "      <td>0.33</td>\n",
       "      <td>1995</td>\n",
       "      <td>3</td>\n",
       "      <td>3</td>\n",
       "      <td>0</td>\n",
       "      <td>0</td>\n",
       "      <td>0</td>\n",
       "      <td>1</td>\n",
       "      <td>0</td>\n",
       "      <td>1</td>\n",
       "      <td>0</td>\n",
       "      <td>1</td>\n",
       "      <td>0</td>\n",
       "      <td>0</td>\n",
       "      <td>95000</td>\n",
       "    </tr>\n",
       "    <tr>\n",
       "      <td>2</td>\n",
       "      <td>53.19</td>\n",
       "      <td>-2.44</td>\n",
       "      <td>1995</td>\n",
       "      <td>10</td>\n",
       "      <td>3</td>\n",
       "      <td>1</td>\n",
       "      <td>0</td>\n",
       "      <td>0</td>\n",
       "      <td>0</td>\n",
       "      <td>0</td>\n",
       "      <td>0</td>\n",
       "      <td>1</td>\n",
       "      <td>1</td>\n",
       "      <td>0</td>\n",
       "      <td>0</td>\n",
       "      <td>74950</td>\n",
       "    </tr>\n",
       "    <tr>\n",
       "      <td>3</td>\n",
       "      <td>54.61</td>\n",
       "      <td>-1.29</td>\n",
       "      <td>1995</td>\n",
       "      <td>11</td>\n",
       "      <td>14</td>\n",
       "      <td>0</td>\n",
       "      <td>0</td>\n",
       "      <td>0</td>\n",
       "      <td>1</td>\n",
       "      <td>0</td>\n",
       "      <td>1</td>\n",
       "      <td>0</td>\n",
       "      <td>1</td>\n",
       "      <td>0</td>\n",
       "      <td>0</td>\n",
       "      <td>43500</td>\n",
       "    </tr>\n",
       "    <tr>\n",
       "      <td>4</td>\n",
       "      <td>54.52</td>\n",
       "      <td>-3.52</td>\n",
       "      <td>1995</td>\n",
       "      <td>9</td>\n",
       "      <td>8</td>\n",
       "      <td>0</td>\n",
       "      <td>0</td>\n",
       "      <td>0</td>\n",
       "      <td>1</td>\n",
       "      <td>0</td>\n",
       "      <td>1</td>\n",
       "      <td>0</td>\n",
       "      <td>1</td>\n",
       "      <td>0</td>\n",
       "      <td>0</td>\n",
       "      <td>63000</td>\n",
       "    </tr>\n",
       "  </tbody>\n",
       "</table>\n",
       "</div>"
      ],
      "text/plain": [
       "   Latitude  Longitude  Year  Month  Day  Property_Type_Detached  \\\n",
       "0     54.97      -1.61  1995     12   21                       0   \n",
       "1     51.48       0.33  1995      3    3                       0   \n",
       "2     53.19      -2.44  1995     10    3                       1   \n",
       "3     54.61      -1.29  1995     11   14                       0   \n",
       "4     54.52      -3.52  1995      9    8                       0   \n",
       "\n",
       "   Property_Type_Flats/Maisonettes  Property_Type_Others  \\\n",
       "0                                0                     0   \n",
       "1                                0                     0   \n",
       "2                                0                     0   \n",
       "3                                0                     0   \n",
       "4                                0                     0   \n",
       "\n",
       "   Property_Type_Semi-Detached  Property_Type_Terraced  Old/New_New  \\\n",
       "0                            1                       0            1   \n",
       "1                            1                       0            1   \n",
       "2                            0                       0            0   \n",
       "3                            1                       0            1   \n",
       "4                            1                       0            1   \n",
       "\n",
       "   Old/New_Old  Duration_Freehold  Duration_Leasehold  Duration_Others  Price  \n",
       "0            0                  1                   0                0  42000  \n",
       "1            0                  1                   0                0  95000  \n",
       "2            1                  1                   0                0  74950  \n",
       "3            0                  1                   0                0  43500  \n",
       "4            0                  1                   0                0  63000  "
      ]
     },
     "execution_count": 22,
     "metadata": {},
     "output_type": "execute_result"
    }
   ],
   "source": [
    "dataset_trsfm = dataset_trsfm[['Latitude','Longitude','Year','Month','Day','Property_Type_Detached', 'Property_Type_Flats/Maisonettes','Property_Type_Others','Property_Type_Semi-Detached', 'Property_Type_Terraced', 'Old/New_New','Old/New_Old', 'Duration_Freehold','Duration_Leasehold','Duration_Others','Price']]\n",
    "dataset_trsfm.head()"
   ]
  },
  {
   "cell_type": "code",
   "execution_count": 24,
   "metadata": {
    "colab": {},
    "colab_type": "code",
    "id": "eTw_hZ2rA30M",
    "outputId": "b3f884b1-1770-4517-c1ab-b0ef524eb0fb"
   },
   "outputs": [
    {
     "name": "stdout",
     "output_type": "stream",
     "text": [
      "The number of training set is: 17261631. \n",
      "The number of test set is: 7397843\n"
     ]
    }
   ],
   "source": [
    "from sklearn.model_selection import train_test_split\n",
    "features= dataset_trsfm.iloc[:,:-2]\n",
    "target=dataset_trsfm.iloc[:,-1]\n",
    "train_features,test_features, train_target,test_target=train_test_split(features,target,test_size=0.3, random_state=42)\n",
    "print('The number of training set is: {}. \\nThe number of test set is: {}' .format(train_features.shape[0],test_features.shape[0]) )"
   ]
  }
 ],
 "metadata": {
  "accelerator": "GPU",
  "colab": {
   "collapsed_sections": [],
   "machine_shape": "hm",
   "name": "UK house price prediction.ipynb",
   "provenance": []
  },
  "kernelspec": {
   "display_name": "Python 3",
   "language": "python",
   "name": "python3"
  },
  "language_info": {
   "codemirror_mode": {
    "name": "ipython",
    "version": 3
   },
   "file_extension": ".py",
   "mimetype": "text/x-python",
   "name": "python",
   "nbconvert_exporter": "python",
   "pygments_lexer": "ipython3",
   "version": "3.7.4"
  }
 },
 "nbformat": 4,
 "nbformat_minor": 1
}
