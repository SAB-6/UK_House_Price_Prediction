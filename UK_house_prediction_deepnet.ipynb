{
  "nbformat": 4,
  "nbformat_minor": 0,
  "metadata": {
    "colab": {
      "name": "UK house prediction_deepnet.ipynb",
      "provenance": [],
      "collapsed_sections": [],
      "machine_shape": "hm",
      "authorship_tag": "ABX9TyMdvgC4vs6hHLQwBIgIWz4E",
      "include_colab_link": true
    },
    "kernelspec": {
      "name": "python3",
      "display_name": "Python 3"
    },
    "accelerator": "GPU"
  },
  "cells": [
    {
      "cell_type": "markdown",
      "metadata": {
        "id": "view-in-github",
        "colab_type": "text"
      },
      "source": [
        "<a href=\"https://colab.research.google.com/github/SAB-6/UK_House_Price_Prediction/blob/master/UK_house_prediction_deepnet.ipynb\" target=\"_parent\"><img src=\"https://colab.research.google.com/assets/colab-badge.svg\" alt=\"Open In Colab\"/></a>"
      ]
    },
    {
      "cell_type": "markdown",
      "metadata": {
        "id": "98HKRhdTkpGY",
        "colab_type": "text"
      },
      "source": [
        "## UK house price prediction_Deep Neural Network\n",
        "#### Data Source: HM Land Registry Price Paid Data <a href=\"https://data.gov.uk/dataset/4c9b7641-cf73-4fd9-869a-4bfeed6d440e/hm-land-registry-price-paid-data\">Link<a/>"
      ]
    },
    {
      "cell_type": "markdown",
      "metadata": {
        "id": "CLhgTq3Uk3Ir",
        "colab_type": "text"
      },
      "source": [
        "_Author **Shereef Bankole**_\n",
        "<br/> **LinkedIn click** <a href=\"https://www.linkedin.com/in/shereef-b-b9aab823/\">Here<a/>\n",
        "<br/> **Github click**  <a href=\"https://github.com/SAB-6\">Here<a/>"
      ]
    },
    {
      "cell_type": "code",
      "metadata": {
        "id": "vllwzrw6okA-",
        "colab_type": "code",
        "colab": {}
      },
      "source": [
        "from google.colab import drive\n",
        "drive.mount('/content/drive')"
      ],
      "execution_count": 0,
      "outputs": []
    },
    {
      "cell_type": "markdown",
      "metadata": {
        "id": "Dz4AZEkKszwG",
        "colab_type": "text"
      },
      "source": [
        "### Import Dependecies"
      ]
    },
    {
      "cell_type": "code",
      "metadata": {
        "id": "Dt5q_qW5k1E8",
        "colab_type": "code",
        "outputId": "01bc6d95-297f-4408-c4a1-16ca44701742",
        "colab": {
          "base_uri": "https://localhost:8080/",
          "height": 34
        }
      },
      "source": [
        "import pandas as pd\n",
        "import numpy as np\n",
        "\n",
        "import matplotlib.pyplot as plt\n",
        "import seaborn as sns\n",
        "import os\n",
        "%matplotlib inline\n",
        "try:\n",
        "  # %tensorflow_version only exists in Colab.\n",
        "  %tensorflow_version 2.x\n",
        "except Exception:\n",
        "  pass\n",
        "import tensorflow as tf\n",
        "from sklearn.preprocessing import StandardScaler\n",
        "\n",
        "from tensorflow import keras\n",
        "from tensorflow.keras import layers\n",
        "\n",
        "import logging\n",
        "logger = tf.get_logger()\n",
        "logger.setLevel(logging.ERROR)"
      ],
      "execution_count": 0,
      "outputs": [
        {
          "output_type": "stream",
          "text": [
            "TensorFlow 2.x selected.\n"
          ],
          "name": "stdout"
        }
      ]
    },
    {
      "cell_type": "code",
      "metadata": {
        "id": "1mZ8gpetlHE3",
        "colab_type": "code",
        "outputId": "0c8c7076-c90c-4478-a363-7ba1dae8f7ee",
        "colab": {
          "base_uri": "https://localhost:8080/",
          "height": 595
        }
      },
      "source": [
        "train_set = pd.read_csv(os.path.join ('.', 'drive', 'My Drive', 'train_set.csv'))\n",
        "test_set = pd.read_csv(os.path.join ('.', 'drive', 'My Drive', 'test_set.csv'))\n",
        "print('Train_set:\\n{}\\n\\n'.format(train_set))\n",
        "print('Test_set:\\n{}\\n\\n'.format(test_set))"
      ],
      "execution_count": 0,
      "outputs": [
        {
          "output_type": "stream",
          "text": [
            "Train_set:\n",
            "          Unnamed: 0   Price  Semi-Detached  ...      Year     Month       Day\n",
            "0                  0  185000            0.0  ...  1.655193 -0.529253 -1.556376\n",
            "1                  1  125000            0.0  ...  1.513569 -1.731030 -0.561834\n",
            "2                  2   45000            0.0  ... -0.752405  0.071636  0.985230\n",
            "3                  3  117500            0.0  ... -0.044288  0.071636 -1.114357\n",
            "4                  4   78000            1.0  ... -1.177275 -0.829697  0.543211\n",
            "...              ...     ...            ...  ...       ...       ...       ...\n",
            "17274714    17274716  249000            1.0  ... -0.044288 -0.228808  0.653716\n",
            "17274715    17274717  255000            1.0  ...  1.371946 -1.130141  0.764221\n",
            "17274716    17274718  270000            0.0  ...  1.655193 -1.130141 -1.335367\n",
            "17274717    17274719  445000            1.0  ...  0.380582  0.672525  0.874725\n",
            "17274718    17274720  145500            0.0  ...  1.655193  1.273414 -0.119816\n",
            "\n",
            "[17274719 rows x 22 columns]\n",
            "\n",
            "\n",
            "Test_set:\n",
            "         Unnamed: 0   Price  Semi-Detached  ...      Year     Month       Day\n",
            "0                 0  128000            0.0  ... -0.327535 -1.731030 -0.340825\n",
            "1                 1   55000            0.0  ... -1.602145 -1.731030 -0.561834\n",
            "2                 2   72995            0.0  ... -0.610781  1.573858 -0.451330\n",
            "3                 3  165000            1.0  ...  0.097336  0.372081 -0.009312\n",
            "4                 4  222000            0.0  ...  0.380582  0.372081  1.206239\n",
            "...             ...     ...            ...  ...       ...       ...       ...\n",
            "7403447     7403448  190000            1.0  ...  1.513569  0.672525  0.432707\n",
            "7403448     7403449  289995            0.0  ...  0.805453  1.273414 -1.666880\n",
            "7403449     7403450  177000            0.0  ... -0.327535 -0.228808 -1.666880\n",
            "7403450     7403451  189950            0.0  ... -0.185911  0.672525 -0.893348\n",
            "7403451     7403452  158000            0.0  ...  1.088699  0.672525 -0.119816\n",
            "\n",
            "[7403452 rows x 22 columns]\n",
            "\n",
            "\n"
          ],
          "name": "stdout"
        }
      ]
    },
    {
      "cell_type": "code",
      "metadata": {
        "id": "EaOVT03Axlpt",
        "colab_type": "code",
        "colab": {}
      },
      "source": [
        "#setting number of rows and columns display in pandas\n",
        "pd.set_option('display.max_columns', None)\n",
        "pd.set_option('display.max_rows', None)"
      ],
      "execution_count": 0,
      "outputs": []
    },
    {
      "cell_type": "code",
      "metadata": {
        "id": "ImNYXVkgwjwE",
        "colab_type": "code",
        "colab": {}
      },
      "source": [
        "train_features = train_set[['Semi-Detached','Detached',\t'Flats/Mas', 'Terraced','Others','New',\t'Old','Freehold',\t'Leasehold','Others','Latitude','Longitude','City_mean','City_max','City_min','City_std','City_median','Year','Month','Day']]\n",
        "train_target = train_set['Price']\n",
        "test_features= test_set[['Semi-Detached','Detached',\t'Flats/Mas', 'Terraced','Others','New',\t'Old','Freehold',\t'Leasehold','Others','Latitude','Longitude','City_mean','City_max','City_min','City_std','City_median','Year','Month','Day']]\n",
        "test_target = test_set['Price']\n",
        "input_shape =train_features.shape[1:]\n",
        "scaler =StandardScaler()\n",
        "train_features = scaler.fit_transform(train_features)\n",
        "test_features = scaler.transform(test_features)"
      ],
      "execution_count": 0,
      "outputs": []
    },
    {
      "cell_type": "markdown",
      "metadata": {
        "id": "PWpI1Av2zAG7",
        "colab_type": "text"
      },
      "source": [
        "## Sequential API"
      ]
    },
    {
      "cell_type": "code",
      "metadata": {
        "id": "ybFoTh3Z7Hxs",
        "colab_type": "code",
        "colab": {}
      },
      "source": [
        "np.random.seed(42)\n",
        "tf.random.set_seed(42)"
      ],
      "execution_count": 0,
      "outputs": []
    },
    {
      "cell_type": "code",
      "metadata": {
        "id": "IoOQDKKbTVor",
        "colab_type": "code",
        "colab": {}
      },
      "source": [
        "#tf_=pd.DataFrame(test_features)\n",
        "#tf_.isna().sum().sort_values(ascending=False)"
      ],
      "execution_count": 0,
      "outputs": []
    },
    {
      "cell_type": "code",
      "metadata": {
        "id": "dJXzVK_eUNMq",
        "colab_type": "code",
        "colab": {}
      },
      "source": [
        "#tf_.head()"
      ],
      "execution_count": 0,
      "outputs": []
    },
    {
      "cell_type": "code",
      "metadata": {
        "id": "ahyQ83fdT-4q",
        "colab_type": "code",
        "colab": {}
      },
      "source": [
        "#tf_.dtypes"
      ],
      "execution_count": 0,
      "outputs": []
    },
    {
      "cell_type": "code",
      "metadata": {
        "id": "6L-Gqrcaetr8",
        "colab_type": "code",
        "colab": {}
      },
      "source": [
        "#hist.plot(\"loss\", \"epoch\", label = \"loss\")"
      ],
      "execution_count": 0,
      "outputs": []
    },
    {
      "cell_type": "code",
      "metadata": {
        "id": "Y-FAtuIEiFlW",
        "colab_type": "code",
        "colab": {}
      },
      "source": [
        "model = keras.Sequential([\n",
        "        layers.Dense(200, activation='relu', input_shape= input_shape),\n",
        "        layers.Dense(150, activation='relu'),\n",
        "        layers.Dense(100, activation='relu'),\n",
        "        layers.Dense(100, activation='relu'),\n",
        "        layers.Dense(80, activation='relu'),\n",
        "        layers.Dense(1)\n",
        "        ])\n",
        "\n",
        "optimizer = tf.keras.optimizers.RMSprop(0.001)\n",
        "\n",
        "model.compile(loss=keras.losses.Huber(), optimizer=optimizer, metrics =['mae'])"
      ],
      "execution_count": 0,
      "outputs": []
    },
    {
      "cell_type": "code",
      "metadata": {
        "id": "jSvnbiD9ihWU",
        "colab_type": "code",
        "outputId": "e0e2bffd-a668-4d5a-a504-c22fae974d73",
        "colab": {
          "base_uri": "https://localhost:8080/",
          "height": 357
        }
      },
      "source": [
        "model.summary()"
      ],
      "execution_count": 0,
      "outputs": [
        {
          "output_type": "stream",
          "text": [
            "Model: \"sequential_6\"\n",
            "_________________________________________________________________\n",
            "Layer (type)                 Output Shape              Param #   \n",
            "=================================================================\n",
            "dense_36 (Dense)             (None, 200)               4200      \n",
            "_________________________________________________________________\n",
            "dense_37 (Dense)             (None, 150)               30150     \n",
            "_________________________________________________________________\n",
            "dense_38 (Dense)             (None, 100)               15100     \n",
            "_________________________________________________________________\n",
            "dense_39 (Dense)             (None, 100)               10100     \n",
            "_________________________________________________________________\n",
            "dense_40 (Dense)             (None, 80)                8080      \n",
            "_________________________________________________________________\n",
            "dense_41 (Dense)             (None, 1)                 81        \n",
            "=================================================================\n",
            "Total params: 67,711\n",
            "Trainable params: 67,711\n",
            "Non-trainable params: 0\n",
            "_________________________________________________________________\n"
          ],
          "name": "stdout"
        }
      ]
    },
    {
      "cell_type": "code",
      "metadata": {
        "id": "roez-gHEkww5",
        "colab_type": "code",
        "outputId": "e066816d-37f9-46e4-fa42-f89a2af89dcc",
        "colab": {
          "base_uri": "https://localhost:8080/",
          "height": 1000
        }
      },
      "source": [
        "history = model.fit(train_features, train_target, batch_size = 600, epochs = 50, validation_split = 0.30)"
      ],
      "execution_count": 0,
      "outputs": [
        {
          "output_type": "stream",
          "text": [
            "Train on 12092303 samples, validate on 5182416 samples\n",
            "Epoch 1/50\n",
            "12092303/12092303 [==============================] - 118s 10us/sample - loss: 70003.3551 - mae: 70003.6719 - val_loss: 69151.1927 - val_mae: 69151.6562\n",
            "Epoch 2/50\n",
            "12092303/12092303 [==============================] - 116s 10us/sample - loss: 68684.2117 - mae: 68684.4531 - val_loss: 68694.2200 - val_mae: 68694.7656\n",
            "Epoch 3/50\n",
            "12092303/12092303 [==============================] - 115s 10us/sample - loss: 68330.3750 - mae: 68330.8438 - val_loss: 68640.0169 - val_mae: 68640.5312\n",
            "Epoch 4/50\n",
            "12092303/12092303 [==============================] - 116s 10us/sample - loss: 68003.5710 - mae: 68003.8281 - val_loss: 68236.0956 - val_mae: 68236.4609\n",
            "Epoch 5/50\n",
            "12092303/12092303 [==============================] - 117s 10us/sample - loss: 67699.5610 - mae: 67699.9453 - val_loss: 67790.1420 - val_mae: 67790.4922\n",
            "Epoch 6/50\n",
            "12092303/12092303 [==============================] - 117s 10us/sample - loss: 67416.0605 - mae: 67416.6250 - val_loss: 67686.7546 - val_mae: 67687.2891\n",
            "Epoch 7/50\n",
            "12092303/12092303 [==============================] - 115s 10us/sample - loss: 67179.8132 - mae: 67180.1250 - val_loss: 67447.7669 - val_mae: 67448.2188\n",
            "Epoch 8/50\n",
            "12092303/12092303 [==============================] - 115s 10us/sample - loss: 67005.3616 - mae: 67005.9453 - val_loss: 67341.1714 - val_mae: 67341.6016\n",
            "Epoch 9/50\n",
            "12092303/12092303 [==============================] - 115s 10us/sample - loss: 66869.7718 - mae: 66870.4062 - val_loss: 67353.6503 - val_mae: 67354.1016\n",
            "Epoch 10/50\n",
            "12092303/12092303 [==============================] - 116s 10us/sample - loss: 66761.0089 - mae: 66761.2578 - val_loss: 66995.8200 - val_mae: 66996.1484\n",
            "Epoch 11/50\n",
            "12092303/12092303 [==============================] - 115s 9us/sample - loss: 66667.3673 - mae: 66668.0781 - val_loss: 66939.7386 - val_mae: 66940.2578\n",
            "Epoch 12/50\n",
            "12092303/12092303 [==============================] - 116s 10us/sample - loss: 66594.3215 - mae: 66594.8672 - val_loss: 67191.6866 - val_mae: 67192.3594\n",
            "Epoch 13/50\n",
            "12092303/12092303 [==============================] - 116s 10us/sample - loss: 66527.9043 - mae: 66528.6562 - val_loss: 66832.8825 - val_mae: 66833.3438\n",
            "Epoch 14/50\n",
            "12092303/12092303 [==============================] - 116s 10us/sample - loss: 66473.3524 - mae: 66473.7812 - val_loss: 66777.4028 - val_mae: 66778.0938\n",
            "Epoch 15/50\n",
            "12092303/12092303 [==============================] - 120s 10us/sample - loss: 66418.3249 - mae: 66418.6562 - val_loss: 66795.5394 - val_mae: 66796.1328\n",
            "Epoch 16/50\n",
            "12092303/12092303 [==============================] - 125s 10us/sample - loss: 66366.2427 - mae: 66366.5859 - val_loss: 66733.8390 - val_mae: 66734.2578\n",
            "Epoch 17/50\n",
            "12092303/12092303 [==============================] - 125s 10us/sample - loss: 66328.3142 - mae: 66328.6953 - val_loss: 66648.1324 - val_mae: 66648.5391\n",
            "Epoch 18/50\n",
            "12092303/12092303 [==============================] - 126s 10us/sample - loss: 66287.8064 - mae: 66288.2422 - val_loss: 66669.2815 - val_mae: 66669.9297\n",
            "Epoch 19/50\n",
            "12092303/12092303 [==============================] - 125s 10us/sample - loss: 66257.8576 - mae: 66257.9297 - val_loss: 66557.0266 - val_mae: 66557.6250\n",
            "Epoch 20/50\n",
            "12092303/12092303 [==============================] - 124s 10us/sample - loss: 66226.5472 - mae: 66226.9531 - val_loss: 66644.6806 - val_mae: 66645.1797\n",
            "Epoch 21/50\n",
            "12092303/12092303 [==============================] - 125s 10us/sample - loss: 66198.6248 - mae: 66199.1328 - val_loss: 66884.2982 - val_mae: 66884.9531\n",
            "Epoch 22/50\n",
            "12092303/12092303 [==============================] - 124s 10us/sample - loss: 66172.5167 - mae: 66172.9375 - val_loss: 66766.2518 - val_mae: 66766.9219\n",
            "Epoch 23/50\n",
            "12092303/12092303 [==============================] - 124s 10us/sample - loss: 66146.9630 - mae: 66147.5781 - val_loss: 66479.7896 - val_mae: 66480.1484\n",
            "Epoch 24/50\n",
            "12092303/12092303 [==============================] - 123s 10us/sample - loss: 66121.6099 - mae: 66122.1797 - val_loss: 66733.0462 - val_mae: 66733.5000\n",
            "Epoch 25/50\n",
            "12092303/12092303 [==============================] - 124s 10us/sample - loss: 66102.4844 - mae: 66102.7891 - val_loss: 66462.3250 - val_mae: 66462.7344\n",
            "Epoch 26/50\n",
            "12092303/12092303 [==============================] - 126s 10us/sample - loss: 66080.3803 - mae: 66081.0781 - val_loss: 66440.4932 - val_mae: 66440.9453\n",
            "Epoch 27/50\n",
            "12092303/12092303 [==============================] - 126s 10us/sample - loss: 66060.4215 - mae: 66060.7500 - val_loss: 66484.3289 - val_mae: 66484.7031\n",
            "Epoch 28/50\n",
            "12092303/12092303 [==============================] - 125s 10us/sample - loss: 66046.3086 - mae: 66046.5469 - val_loss: 66417.8473 - val_mae: 66418.3359\n",
            "Epoch 29/50\n",
            "12092303/12092303 [==============================] - 124s 10us/sample - loss: 66027.9390 - mae: 66028.3438 - val_loss: 66453.5968 - val_mae: 66454.0625\n",
            "Epoch 30/50\n",
            "12092303/12092303 [==============================] - 122s 10us/sample - loss: 66013.8613 - mae: 66014.3047 - val_loss: 66564.9261 - val_mae: 66565.4141\n",
            "Epoch 31/50\n",
            "12092303/12092303 [==============================] - 124s 10us/sample - loss: 65999.0351 - mae: 65999.4219 - val_loss: 66369.8290 - val_mae: 66370.3359\n",
            "Epoch 32/50\n",
            "12092303/12092303 [==============================] - 122s 10us/sample - loss: 65983.8807 - mae: 65984.0703 - val_loss: 66366.9388 - val_mae: 66367.4219\n",
            "Epoch 33/50\n",
            "12092303/12092303 [==============================] - 123s 10us/sample - loss: 65967.2380 - mae: 65967.7500 - val_loss: 66402.8724 - val_mae: 66403.3359\n",
            "Epoch 34/50\n",
            "12092303/12092303 [==============================] - 122s 10us/sample - loss: 65958.8582 - mae: 65959.5156 - val_loss: 66350.3217 - val_mae: 66350.9062\n",
            "Epoch 35/50\n",
            "12092303/12092303 [==============================] - 122s 10us/sample - loss: 65947.0250 - mae: 65947.4922 - val_loss: 66523.7416 - val_mae: 66524.4453\n",
            "Epoch 36/50\n",
            "12092303/12092303 [==============================] - 125s 10us/sample - loss: 65936.3482 - mae: 65936.9766 - val_loss: 66326.9189 - val_mae: 66327.5312\n",
            "Epoch 37/50\n",
            "12092303/12092303 [==============================] - 122s 10us/sample - loss: 65922.5493 - mae: 65922.9609 - val_loss: 66381.9377 - val_mae: 66382.3828\n",
            "Epoch 38/50\n",
            "12092303/12092303 [==============================] - 124s 10us/sample - loss: 65911.1899 - mae: 65911.6172 - val_loss: 66514.3711 - val_mae: 66514.8984\n",
            "Epoch 39/50\n",
            "12092303/12092303 [==============================] - 123s 10us/sample - loss: 65900.7330 - mae: 65901.3047 - val_loss: 66378.9625 - val_mae: 66379.6328\n",
            "Epoch 40/50\n",
            "12092303/12092303 [==============================] - 123s 10us/sample - loss: 65891.9958 - mae: 65892.6406 - val_loss: 66265.5134 - val_mae: 66266.1406\n",
            "Epoch 41/50\n",
            "12092303/12092303 [==============================] - 126s 10us/sample - loss: 65881.6156 - mae: 65882.2031 - val_loss: 66274.8338 - val_mae: 66275.2344\n",
            "Epoch 42/50\n",
            "12092303/12092303 [==============================] - 126s 10us/sample - loss: 65873.8157 - mae: 65874.4375 - val_loss: 66264.2775 - val_mae: 66264.8438\n",
            "Epoch 43/50\n",
            "12092303/12092303 [==============================] - 126s 10us/sample - loss: 65866.0139 - mae: 65866.6484 - val_loss: 66341.1855 - val_mae: 66341.5703\n",
            "Epoch 44/50\n",
            "12092303/12092303 [==============================] - 126s 10us/sample - loss: 65854.5184 - mae: 65855.0625 - val_loss: 66242.5885 - val_mae: 66243.2500\n",
            "Epoch 45/50\n",
            "12092303/12092303 [==============================] - 124s 10us/sample - loss: 65847.1770 - mae: 65847.7422 - val_loss: 66351.8462 - val_mae: 66352.3281\n",
            "Epoch 46/50\n",
            "12092303/12092303 [==============================] - 124s 10us/sample - loss: 65837.1604 - mae: 65837.8359 - val_loss: 66233.9758 - val_mae: 66234.3750\n",
            "Epoch 47/50\n",
            "12092303/12092303 [==============================] - 120s 10us/sample - loss: 65829.0993 - mae: 65829.6641 - val_loss: 66233.8374 - val_mae: 66234.3516\n",
            "Epoch 48/50\n",
            "12092303/12092303 [==============================] - 116s 10us/sample - loss: 65817.9898 - mae: 65818.3750 - val_loss: 66310.1354 - val_mae: 66310.3750\n",
            "Epoch 49/50\n",
            "12092303/12092303 [==============================] - 115s 9us/sample - loss: 65811.9855 - mae: 65812.6016 - val_loss: 66226.0253 - val_mae: 66226.6328\n",
            "Epoch 50/50\n",
            "12092303/12092303 [==============================] - 114s 9us/sample - loss: 65801.6769 - mae: 65802.0312 - val_loss: 66345.9775 - val_mae: 66346.6562\n"
          ],
          "name": "stdout"
        }
      ]
    },
    {
      "cell_type": "code",
      "metadata": {
        "id": "zOcfaM6U92cu",
        "colab_type": "code",
        "outputId": "a2940760-8715-41f8-e4b5-d37c148a2ca4",
        "colab": {
          "base_uri": "https://localhost:8080/",
          "height": 500
        }
      },
      "source": [
        "pd.DataFrame(history.history).plot(figsize=(12, 8))\n",
        "plt.grid(True)\n",
        "plt.gca()"
      ],
      "execution_count": 0,
      "outputs": [
        {
          "output_type": "execute_result",
          "data": {
            "text/plain": [
              "<matplotlib.axes._subplots.AxesSubplot at 0x7f718e1954e0>"
            ]
          },
          "metadata": {
            "tags": []
          },
          "execution_count": 20
        },
        {
          "output_type": "display_data",
          "data": {
            "image/png": "[encoded data removed]",
            "text/plain": [
              "<Figure size 864x576 with 1 Axes>"
            ]
          },
          "metadata": {
            "tags": []
          }
        }
      ]
    },
    {
      "cell_type": "markdown",
      "metadata": {
        "id": "dgQZF_g566u_",
        "colab_type": "text"
      },
      "source": [
        "### Functional API"
      ]
    },
    {
      "cell_type": "code",
      "metadata": {
        "id": "LuCwhNoB6viS",
        "colab_type": "code",
        "colab": {}
      },
      "source": [
        "keras.backend.clear_session()\n",
        "np.random.seed(42)\n",
        "tf.random.set_seed(42)"
      ],
      "execution_count": 0,
      "outputs": []
    },
    {
      "cell_type": "code",
      "metadata": {
        "id": "7Ojoj4rp7LbH",
        "colab_type": "code",
        "colab": {}
      },
      "source": [
        "input_ = keras.layers.Input(shape=input_shape)\n",
        "hidden1 = keras.layers.Dense(200, activation=\"relu\")(input_)\n",
        "hidden2 = keras.layers.Dense(150, activation=\"relu\")(hidden1)\n",
        "hidden3 = keras.layers.Dense(100,activation=\"relu\")(hidden2)\n",
        "hidden4 = keras.layers.Dense(100,activation=\"relu\")(hidden3)\n",
        "concat = keras.layers.concatenate([input_, hidden4])\n",
        "output = keras.layers.Dense(1)(concat)\n",
        "model = keras.models.Model(inputs=[input_], outputs=[output])"
      ],
      "execution_count": 0,
      "outputs": []
    },
    {
      "cell_type": "code",
      "metadata": {
        "id": "Gu8OdkPOrk98",
        "colab_type": "code",
        "outputId": "1c122dbd-aa91-4d25-f32d-a888ecbfd03e",
        "colab": {
          "base_uri": "https://localhost:8080/",
          "height": 1000
        }
      },
      "source": [
        "model.compile(loss = keras.losses.Huber(), optimizer= keras.optimizers.RMSprop(lr=0.001), metrics =['mae'])\n",
        "history = model.fit(train_features, train_target, batch_size = 1000, epochs = 50, validation_split = 0.30)"
      ],
      "execution_count": 0,
      "outputs": [
        {
          "output_type": "stream",
          "text": [
            "Train on 12092303 samples, validate on 5182416 samples\n",
            "Epoch 1/50\n",
            "12092303/12092303 [==============================] - 73s 6us/sample - loss: 71312.0927 - mae: 71312.7500 - val_loss: 69521.1197 - val_mae: 69521.5312\n",
            "Epoch 2/50\n",
            "12092303/12092303 [==============================] - 71s 6us/sample - loss: 68827.5228 - mae: 68828.2891 - val_loss: 69087.1787 - val_mae: 69087.5469\n",
            "Epoch 3/50\n",
            "12092303/12092303 [==============================] - 71s 6us/sample - loss: 68562.0541 - mae: 68562.8203 - val_loss: 69008.9126 - val_mae: 69009.5859\n",
            "Epoch 4/50\n",
            "12092303/12092303 [==============================] - 71s 6us/sample - loss: 68417.3374 - mae: 68417.8125 - val_loss: 68808.8201 - val_mae: 68809.3438\n",
            "Epoch 5/50\n",
            "12092303/12092303 [==============================] - 72s 6us/sample - loss: 68310.5707 - mae: 68310.9922 - val_loss: 68535.2168 - val_mae: 68535.6562\n",
            "Epoch 6/50\n",
            "12092303/12092303 [==============================] - 71s 6us/sample - loss: 68213.1185 - mae: 68213.3672 - val_loss: 68704.8147 - val_mae: 68705.2578\n",
            "Epoch 7/50\n",
            "12092303/12092303 [==============================] - 71s 6us/sample - loss: 68105.3372 - mae: 68105.6094 - val_loss: 68387.0241 - val_mae: 68387.5156\n",
            "Epoch 8/50\n",
            "12092303/12092303 [==============================] - 71s 6us/sample - loss: 67979.6453 - mae: 67979.9219 - val_loss: 68574.8575 - val_mae: 68575.5078\n",
            "Epoch 9/50\n",
            "12092303/12092303 [==============================] - 71s 6us/sample - loss: 67856.0962 - mae: 67856.7266 - val_loss: 68275.7149 - val_mae: 68276.2031\n",
            "Epoch 10/50\n",
            "12092303/12092303 [==============================] - 71s 6us/sample - loss: 67737.7190 - mae: 67738.3203 - val_loss: 68226.0400 - val_mae: 68226.5000\n",
            "Epoch 11/50\n",
            "12092303/12092303 [==============================] - 71s 6us/sample - loss: 67622.1509 - mae: 67622.6094 - val_loss: 68456.8037 - val_mae: 68457.4141\n",
            "Epoch 12/50\n",
            "12092303/12092303 [==============================] - 71s 6us/sample - loss: 67503.3994 - mae: 67503.8984 - val_loss: 67957.5170 - val_mae: 67958.0469\n",
            "Epoch 13/50\n",
            "12092303/12092303 [==============================] - 71s 6us/sample - loss: 67385.6793 - mae: 67386.1016 - val_loss: 67904.5794 - val_mae: 67905.1094\n",
            "Epoch 14/50\n",
            "12092303/12092303 [==============================] - 72s 6us/sample - loss: 67270.8195 - mae: 67271.5000 - val_loss: 67515.0130 - val_mae: 67515.5391\n",
            "Epoch 15/50\n",
            "12092303/12092303 [==============================] - 71s 6us/sample - loss: 67160.2260 - mae: 67160.6641 - val_loss: 67532.6156 - val_mae: 67533.0078\n",
            "Epoch 16/50\n",
            "12092303/12092303 [==============================] - 71s 6us/sample - loss: 67062.1856 - mae: 67062.5703 - val_loss: 67575.1046 - val_mae: 67575.6094\n",
            "Epoch 17/50\n",
            "12092303/12092303 [==============================] - 72s 6us/sample - loss: 66970.1881 - mae: 66970.6328 - val_loss: 67368.7615 - val_mae: 67369.2578\n",
            "Epoch 18/50\n",
            "12092303/12092303 [==============================] - 72s 6us/sample - loss: 66889.9944 - mae: 66890.6406 - val_loss: 67289.6346 - val_mae: 67290.1406\n",
            "Epoch 19/50\n",
            "12092303/12092303 [==============================] - 71s 6us/sample - loss: 66817.1303 - mae: 66817.4141 - val_loss: 67187.9055 - val_mae: 67188.3672\n",
            "Epoch 20/50\n",
            "12092303/12092303 [==============================] - 71s 6us/sample - loss: 66750.2671 - mae: 66750.8438 - val_loss: 67140.5933 - val_mae: 67141.0547\n",
            "Epoch 21/50\n",
            "12092303/12092303 [==============================] - 71s 6us/sample - loss: 66694.6322 - mae: 66695.0938 - val_loss: 67283.1014 - val_mae: 67283.4688\n",
            "Epoch 22/50\n",
            "12092303/12092303 [==============================] - 71s 6us/sample - loss: 66639.4987 - mae: 66639.9297 - val_loss: 67301.3921 - val_mae: 67301.9844\n",
            "Epoch 23/50\n",
            "12092303/12092303 [==============================] - 72s 6us/sample - loss: 66593.7734 - mae: 66594.1562 - val_loss: 67018.6329 - val_mae: 67019.0625\n",
            "Epoch 24/50\n",
            "12092303/12092303 [==============================] - 71s 6us/sample - loss: 66554.3908 - mae: 66554.7109 - val_loss: 67440.1506 - val_mae: 67440.6406\n",
            "Epoch 25/50\n",
            "12092303/12092303 [==============================] - 71s 6us/sample - loss: 66514.3777 - mae: 66514.7969 - val_loss: 66932.8487 - val_mae: 66933.3984\n",
            "Epoch 26/50\n",
            "12092303/12092303 [==============================] - 72s 6us/sample - loss: 66484.0521 - mae: 66484.6641 - val_loss: 67032.7584 - val_mae: 67033.2578\n",
            "Epoch 27/50\n",
            "12092303/12092303 [==============================] - 73s 6us/sample - loss: 66448.4310 - mae: 66448.8672 - val_loss: 66887.3252 - val_mae: 66887.7891\n",
            "Epoch 28/50\n",
            "12092303/12092303 [==============================] - 71s 6us/sample - loss: 66421.2261 - mae: 66421.7188 - val_loss: 66822.9981 - val_mae: 66823.5234\n",
            "Epoch 29/50\n",
            "12092303/12092303 [==============================] - 71s 6us/sample - loss: 66393.0817 - mae: 66393.6641 - val_loss: 66896.7407 - val_mae: 66897.1016\n",
            "Epoch 30/50\n",
            "12092303/12092303 [==============================] - 71s 6us/sample - loss: 66370.7626 - mae: 66371.2812 - val_loss: 66873.4886 - val_mae: 66874.0000\n",
            "Epoch 31/50\n",
            "12092303/12092303 [==============================] - 72s 6us/sample - loss: 66353.1888 - mae: 66353.6875 - val_loss: 66711.4918 - val_mae: 66712.0781\n",
            "Epoch 32/50\n",
            "12092303/12092303 [==============================] - 71s 6us/sample - loss: 66330.5113 - mae: 66330.8672 - val_loss: 66758.2872 - val_mae: 66758.8203\n",
            "Epoch 33/50\n",
            "12092303/12092303 [==============================] - 71s 6us/sample - loss: 66307.0296 - mae: 66307.6797 - val_loss: 66810.2281 - val_mae: 66810.7422\n",
            "Epoch 34/50\n",
            "12092303/12092303 [==============================] - 71s 6us/sample - loss: 66291.3794 - mae: 66291.9922 - val_loss: 66891.0230 - val_mae: 66891.4375\n",
            "Epoch 35/50\n",
            "12092303/12092303 [==============================] - 71s 6us/sample - loss: 66276.3374 - mae: 66276.9844 - val_loss: 66966.8625 - val_mae: 66967.4609\n",
            "Epoch 36/50\n",
            "12092303/12092303 [==============================] - 72s 6us/sample - loss: 66259.4245 - mae: 66259.9922 - val_loss: 66788.9955 - val_mae: 66789.5469\n",
            "Epoch 37/50\n",
            "12092303/12092303 [==============================] - 71s 6us/sample - loss: 66245.6377 - mae: 66246.1172 - val_loss: 66709.8019 - val_mae: 66710.2422\n",
            "Epoch 38/50\n",
            "12092303/12092303 [==============================] - 71s 6us/sample - loss: 66228.6962 - mae: 66229.1094 - val_loss: 67534.8523 - val_mae: 67535.3281\n",
            "Epoch 39/50\n",
            "12092303/12092303 [==============================] - 71s 6us/sample - loss: 66214.9920 - mae: 66215.3438 - val_loss: 66725.2775 - val_mae: 66725.8438\n",
            "Epoch 40/50\n",
            "12092303/12092303 [==============================] - 71s 6us/sample - loss: 66202.5845 - mae: 66203.1953 - val_loss: 66688.2212 - val_mae: 66688.6328\n",
            "Epoch 41/50\n",
            "12092303/12092303 [==============================] - 71s 6us/sample - loss: 66190.7074 - mae: 66191.1250 - val_loss: 66586.9050 - val_mae: 66587.4453\n",
            "Epoch 42/50\n",
            "12092303/12092303 [==============================] - 70s 6us/sample - loss: 66177.0047 - mae: 66177.6797 - val_loss: 66680.4242 - val_mae: 66680.8594\n",
            "Epoch 43/50\n",
            "12092303/12092303 [==============================] - 70s 6us/sample - loss: 66165.4376 - mae: 66166.0156 - val_loss: 66610.8133 - val_mae: 66611.3828\n",
            "Epoch 44/50\n",
            "12092303/12092303 [==============================] - 72s 6us/sample - loss: 66150.8122 - mae: 66151.1641 - val_loss: 66607.7703 - val_mae: 66608.2891\n",
            "Epoch 45/50\n",
            "12092303/12092303 [==============================] - 71s 6us/sample - loss: 66143.1626 - mae: 66143.7734 - val_loss: 66592.5381 - val_mae: 66593.0156\n",
            "Epoch 46/50\n",
            "12092303/12092303 [==============================] - 71s 6us/sample - loss: 66127.8296 - mae: 66128.2188 - val_loss: 66550.6990 - val_mae: 66551.3203\n",
            "Epoch 47/50\n",
            "12092303/12092303 [==============================] - 71s 6us/sample - loss: 66120.3122 - mae: 66121.0625 - val_loss: 66582.3412 - val_mae: 66582.8359\n",
            "Epoch 48/50\n",
            "12092303/12092303 [==============================] - 71s 6us/sample - loss: 66105.2418 - mae: 66105.7422 - val_loss: 66686.5688 - val_mae: 66687.0703\n",
            "Epoch 49/50\n",
            "12092303/12092303 [==============================] - 72s 6us/sample - loss: 66097.4262 - mae: 66097.9922 - val_loss: 66576.7634 - val_mae: 66577.3750\n",
            "Epoch 50/50\n",
            "12092303/12092303 [==============================] - 71s 6us/sample - loss: 66089.2643 - mae: 66089.6250 - val_loss: 66517.8678 - val_mae: 66518.4062\n"
          ],
          "name": "stdout"
        }
      ]
    },
    {
      "cell_type": "code",
      "metadata": {
        "id": "ej13XYajtX5e",
        "colab_type": "code",
        "colab": {}
      },
      "source": [
        "#plt.plot(pd.DataFrame(history.history))\n",
        "#plt.grid(True)\n",
        "#plt.gca().set_ylim(0,1)\n",
        "#plt.show()"
      ],
      "execution_count": 0,
      "outputs": []
    },
    {
      "cell_type": "markdown",
      "metadata": {
        "id": "BWB9iBjutcbw",
        "colab_type": "text"
      },
      "source": [
        "### Hyperparameter Tuning"
      ]
    },
    {
      "cell_type": "code",
      "metadata": {
        "id": "t77cWgeWtf1r",
        "colab_type": "code",
        "colab": {}
      },
      "source": [
        "keras.backend.clear_session()\n",
        "np.random.seed(42)\n",
        "tf.random.set_seed(42)"
      ],
      "execution_count": 0,
      "outputs": []
    },
    {
      "cell_type": "code",
      "metadata": {
        "id": "kdrAgnBatkAx",
        "colab_type": "code",
        "colab": {}
      },
      "source": [
        ""
      ],
      "execution_count": 0,
      "outputs": []
    }
  ]
}