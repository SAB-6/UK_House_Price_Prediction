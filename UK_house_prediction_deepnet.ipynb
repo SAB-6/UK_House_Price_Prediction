{
  "nbformat": 4,
  "nbformat_minor": 0,
  "metadata": {
    "colab": {
      "name": "UK house prediction_deepnet.ipynb",
      "provenance": [],
      "collapsed_sections": [],
      "machine_shape": "hm",
      "authorship_tag": "ABX9TyNzcmrkrF3Oh8iLh79A3E37",
      "include_colab_link": true
    },
    "kernelspec": {
      "name": "python3",
      "display_name": "Python 3"
    },
    "accelerator": "GPU"
  },
  "cells": [
    {
      "cell_type": "markdown",
      "metadata": {
        "id": "view-in-github",
        "colab_type": "text"
      },
      "source": [
        "<a href=\"https://colab.research.google.com/github/SAB-6/UK_House_Price_Prediction/blob/master/UK_house_prediction_deepnet.ipynb\" target=\"_parent\"><img src=\"https://colab.research.google.com/assets/colab-badge.svg\" alt=\"Open In Colab\"/></a>"
      ]
    },
    {
      "cell_type": "markdown",
      "metadata": {
        "id": "98HKRhdTkpGY",
        "colab_type": "text"
      },
      "source": [
        "## UK house price prediction_Deep Neural Network\n",
        "#### Data Source: HM Land Registry Price Paid Data <a href=\"https://data.gov.uk/dataset/4c9b7641-cf73-4fd9-869a-4bfeed6d440e/hm-land-registry-price-paid-data\">Link<a/>"
      ]
    },
    {
      "cell_type": "markdown",
      "metadata": {
        "id": "CLhgTq3Uk3Ir",
        "colab_type": "text"
      },
      "source": [
        "_Author **Shereef Bankole**_\n",
        "<br/> **LinkedIn click** <a href=\"https://www.linkedin.com/in/shereef-b-b9aab823/\">Here<a/>\n",
        "<br/> **Github click**  <a href=\"https://github.com/SAB-6\">Here<a/>"
      ]
    },
    {
      "cell_type": "code",
      "metadata": {
        "id": "vllwzrw6okA-",
        "colab_type": "code",
        "colab": {}
      },
      "source": [
        "from google.colab import drive\n",
        "drive.mount('/content/drive')"
      ],
      "execution_count": 0,
      "outputs": []
    },
    {
      "cell_type": "markdown",
      "metadata": {
        "id": "Dz4AZEkKszwG",
        "colab_type": "text"
      },
      "source": [
        "### Import Dependecies"
      ]
    },
    {
      "cell_type": "code",
      "metadata": {
        "id": "Dt5q_qW5k1E8",
        "colab_type": "code",
        "outputId": "a351920a-420c-4cca-b125-d7518ee43578",
        "colab": {
          "base_uri": "https://localhost:8080/",
          "height": 34
        }
      },
      "source": [
        "import pandas as pd\n",
        "import numpy as np\n",
        "\n",
        "import matplotlib.pyplot as plt\n",
        "import seaborn as sns\n",
        "import os\n",
        "%matplotlib inline\n",
        "try:\n",
        "  # %tensorflow_version only exists in Colab.\n",
        "  %tensorflow_version 2.x\n",
        "except Exception:\n",
        "  pass\n",
        "import tensorflow as tf\n",
        "from sklearn.preprocessing import StandardScaler\n",
        "\n",
        "from tensorflow import keras\n",
        "from tensorflow.keras import layers\n",
        "\n",
        "import logging\n",
        "logger = tf.get_logger()\n",
        "logger.setLevel(logging.ERROR)"
      ],
      "execution_count": 2,
      "outputs": [
        {
          "output_type": "stream",
          "text": [
            "TensorFlow 2.x selected.\n"
          ],
          "name": "stdout"
        }
      ]
    },
    {
      "cell_type": "code",
      "metadata": {
        "id": "1mZ8gpetlHE3",
        "colab_type": "code",
        "outputId": "4fde8dd0-2c3c-4274-d763-da59e4c82336",
        "colab": {
          "base_uri": "https://localhost:8080/",
          "height": 595
        }
      },
      "source": [
        "train_set = pd.read_csv(os.path.join ('.', 'drive', 'My Drive', 'train_set.csv'))\n",
        "test_set = pd.read_csv(os.path.join ('.', 'drive', 'My Drive', 'test_set.csv'))\n",
        "print('Train_set:\\n{}\\n\\n'.format(train_set))\n",
        "print('Test_set:\\n{}\\n\\n'.format(test_set))"
      ],
      "execution_count": 3,
      "outputs": [
        {
          "output_type": "stream",
          "text": [
            "Train_set:\n",
            "          Unnamed: 0   Price  Semi-Detached  ...      Year     Month       Day\n",
            "0                  0  185000            0.0  ...  1.655193 -0.529253 -1.556376\n",
            "1                  1  125000            0.0  ...  1.513569 -1.731030 -0.561834\n",
            "2                  2   45000            0.0  ... -0.752405  0.071636  0.985230\n",
            "3                  3  117500            0.0  ... -0.044288  0.071636 -1.114357\n",
            "4                  4   78000            1.0  ... -1.177275 -0.829697  0.543211\n",
            "...              ...     ...            ...  ...       ...       ...       ...\n",
            "17274714    17274716  249000            1.0  ... -0.044288 -0.228808  0.653716\n",
            "17274715    17274717  255000            1.0  ...  1.371946 -1.130141  0.764221\n",
            "17274716    17274718  270000            0.0  ...  1.655193 -1.130141 -1.335367\n",
            "17274717    17274719  445000            1.0  ...  0.380582  0.672525  0.874725\n",
            "17274718    17274720  145500            0.0  ...  1.655193  1.273414 -0.119816\n",
            "\n",
            "[17274719 rows x 22 columns]\n",
            "\n",
            "\n",
            "Test_set:\n",
            "         Unnamed: 0   Price  Semi-Detached  ...      Year     Month       Day\n",
            "0                 0  128000            0.0  ... -0.327535 -1.731030 -0.340825\n",
            "1                 1   55000            0.0  ... -1.602145 -1.731030 -0.561834\n",
            "2                 2   72995            0.0  ... -0.610781  1.573858 -0.451330\n",
            "3                 3  165000            1.0  ...  0.097336  0.372081 -0.009312\n",
            "4                 4  222000            0.0  ...  0.380582  0.372081  1.206239\n",
            "...             ...     ...            ...  ...       ...       ...       ...\n",
            "7403447     7403448  190000            1.0  ...  1.513569  0.672525  0.432707\n",
            "7403448     7403449  289995            0.0  ...  0.805453  1.273414 -1.666880\n",
            "7403449     7403450  177000            0.0  ... -0.327535 -0.228808 -1.666880\n",
            "7403450     7403451  189950            0.0  ... -0.185911  0.672525 -0.893348\n",
            "7403451     7403452  158000            0.0  ...  1.088699  0.672525 -0.119816\n",
            "\n",
            "[7403452 rows x 22 columns]\n",
            "\n",
            "\n"
          ],
          "name": "stdout"
        }
      ]
    },
    {
      "cell_type": "code",
      "metadata": {
        "id": "EaOVT03Axlpt",
        "colab_type": "code",
        "colab": {}
      },
      "source": [
        "#setting number of rows and columns display in pandas\n",
        "pd.set_option('display.max_columns', None)\n",
        "pd.set_option('display.max_rows', None)"
      ],
      "execution_count": 0,
      "outputs": []
    },
    {
      "cell_type": "code",
      "metadata": {
        "id": "ImNYXVkgwjwE",
        "colab_type": "code",
        "colab": {}
      },
      "source": [
        "train_features = train_set[['Semi-Detached','Detached',\t'Flats/Mas', 'Terraced','Others','New',\t'Old','Freehold',\t'Leasehold','Others','Latitude','Longitude','City_mean','City_max','City_min','City_std','City_median','Year','Month','Day']]\n",
        "train_target = train_set['Price']\n",
        "test_features= test_set[['Semi-Detached','Detached',\t'Flats/Mas', 'Terraced','Others','New',\t'Old','Freehold',\t'Leasehold','Others','Latitude','Longitude','City_mean','City_max','City_min','City_std','City_median','Year','Month','Day']]\n",
        "test_target = test_set['Price']\n",
        "input_shape =train_features.shape[1:]\n",
        "scaler =StandardScaler()\n",
        "train_features = scaler.fit_transform(train_features)\n",
        "test_features = scaler.transform(test_features)"
      ],
      "execution_count": 0,
      "outputs": []
    },
    {
      "cell_type": "markdown",
      "metadata": {
        "id": "PWpI1Av2zAG7",
        "colab_type": "text"
      },
      "source": [
        "## Sequential API"
      ]
    },
    {
      "cell_type": "code",
      "metadata": {
        "id": "ybFoTh3Z7Hxs",
        "colab_type": "code",
        "colab": {}
      },
      "source": [
        "np.random.seed(42)\n",
        "tf.random.set_seed(42)"
      ],
      "execution_count": 0,
      "outputs": []
    },
    {
      "cell_type": "code",
      "metadata": {
        "id": "IoOQDKKbTVor",
        "colab_type": "code",
        "colab": {}
      },
      "source": [
        "#tf_=pd.DataFrame(test_features)\n",
        "#tf_.isna().sum().sort_values(ascending=False)"
      ],
      "execution_count": 0,
      "outputs": []
    },
    {
      "cell_type": "code",
      "metadata": {
        "id": "dJXzVK_eUNMq",
        "colab_type": "code",
        "colab": {}
      },
      "source": [
        "#tf_.head()"
      ],
      "execution_count": 0,
      "outputs": []
    },
    {
      "cell_type": "code",
      "metadata": {
        "id": "ahyQ83fdT-4q",
        "colab_type": "code",
        "colab": {}
      },
      "source": [
        "#tf_.dtypes"
      ],
      "execution_count": 0,
      "outputs": []
    },
    {
      "cell_type": "code",
      "metadata": {
        "id": "w8rcsVMrtuzQ",
        "colab_type": "code",
        "colab": {}
      },
      "source": [
        "model = keras.Sequential([\n",
        "        layers.Dense(200, activation='relu', input_shape= input_shape),\n",
        "        layers.Dense(150, activation='relu'),\n",
        "        layers.Dense(100, activation='relu'),\n",
        "        layers.Dense(100, activation='relu'),\n",
        "        layers.Dense(80, activation='relu'),\n",
        "        layers.Dense(1)\n",
        "        ])\n",
        "\n",
        "optimizer = tf.keras.optimizers.RMSprop(0.001)\n",
        "\n",
        "model.compile(loss='mse',\n",
        "                optimizer=optimizer, metrics =['mae'])"
      ],
      "execution_count": 0,
      "outputs": []
    },
    {
      "cell_type": "code",
      "metadata": {
        "id": "JLGlG-BoT-BQ",
        "colab_type": "code",
        "colab": {}
      },
      "source": [
        ""
      ],
      "execution_count": 0,
      "outputs": []
    },
    {
      "cell_type": "code",
      "metadata": {
        "id": "qCSqjIs_3HDe",
        "colab_type": "code",
        "outputId": "9c2c4743-6ac7-4d9d-8aa1-2915466a9756",
        "colab": {
          "base_uri": "https://localhost:8080/",
          "height": 357
        }
      },
      "source": [
        "model.summary()"
      ],
      "execution_count": 11,
      "outputs": [
        {
          "output_type": "stream",
          "text": [
            "Model: \"sequential\"\n",
            "_________________________________________________________________\n",
            "Layer (type)                 Output Shape              Param #   \n",
            "=================================================================\n",
            "dense (Dense)                (None, 200)               4200      \n",
            "_________________________________________________________________\n",
            "dense_1 (Dense)              (None, 150)               30150     \n",
            "_________________________________________________________________\n",
            "dense_2 (Dense)              (None, 100)               15100     \n",
            "_________________________________________________________________\n",
            "dense_3 (Dense)              (None, 100)               10100     \n",
            "_________________________________________________________________\n",
            "dense_4 (Dense)              (None, 80)                8080      \n",
            "_________________________________________________________________\n",
            "dense_5 (Dense)              (None, 1)                 81        \n",
            "=================================================================\n",
            "Total params: 67,711\n",
            "Trainable params: 67,711\n",
            "Non-trainable params: 0\n",
            "_________________________________________________________________\n"
          ],
          "name": "stdout"
        }
      ]
    },
    {
      "cell_type": "code",
      "metadata": {
        "id": "vVYiFtQskxxQ",
        "colab_type": "code",
        "outputId": "e8679765-edb4-4049-8535-d077bd753129",
        "colab": {
          "base_uri": "https://localhost:8080/",
          "height": 1000
        }
      },
      "source": [
        "history = model.fit(train_features, train_target, batch_size = 600, epochs = 50, validation_split = 0.30)"
      ],
      "execution_count": 7,
      "outputs": [
        {
          "output_type": "stream",
          "text": [
            "Train on 12092303 samples, validate on 5182416 samples\n",
            "Epoch 1/50\n",
            "12092303/12092303 [==============================] - 121s 10us/sample - loss: 471383937400.7460 - mae: 79498.1562 - val_loss: 583295530216.2938 - val_mae: 78980.5469\n",
            "Epoch 2/50\n",
            "12092303/12092303 [==============================] - 119s 10us/sample - loss: 470395746864.4576 - mae: 77949.9609 - val_loss: 585669021579.6479 - val_mae: 80867.3516\n",
            "Epoch 3/50\n",
            "12092303/12092303 [==============================] - 118s 10us/sample - loss: 470077939400.4249 - mae: 77699.4219 - val_loss: 583980175785.0070 - val_mae: 81395.7734\n",
            "Epoch 4/50\n",
            "12092303/12092303 [==============================] - 120s 10us/sample - loss: 469939054675.3677 - mae: 77331.8828 - val_loss: 584669665292.8395 - val_mae: 74166.6875\n",
            "Epoch 5/50\n",
            "12092303/12092303 [==============================] - 118s 10us/sample - loss: 469493742784.6296 - mae: 76992.0703 - val_loss: 584109911867.6401 - val_mae: 75401.7422\n",
            "Epoch 6/50\n",
            "12092303/12092303 [==============================] - 119s 10us/sample - loss: 469558184400.6437 - mae: 76760.9375 - val_loss: 586245803378.6804 - val_mae: 72574.0781\n",
            "Epoch 7/50\n",
            "12092303/12092303 [==============================] - 119s 10us/sample - loss: 469765629509.0870 - mae: 76679.5156 - val_loss: 581823800274.7406 - val_mae: 76440.0000\n",
            "Epoch 8/50\n",
            "12092303/12092303 [==============================] - 118s 10us/sample - loss: 470451096669.6199 - mae: 76436.0312 - val_loss: 585700841956.0496 - val_mae: 76303.3984\n",
            "Epoch 9/50\n",
            "12092303/12092303 [==============================] - 119s 10us/sample - loss: 470213118494.0721 - mae: 76083.0625 - val_loss: 582886658553.4818 - val_mae: 76664.3359\n",
            "Epoch 10/50\n",
            "12092303/12092303 [==============================] - 119s 10us/sample - loss: 470965466184.9094 - mae: 77080.3281 - val_loss: 587891518925.1187 - val_mae: 73060.3281\n",
            "Epoch 11/50\n",
            "12092303/12092303 [==============================] - 118s 10us/sample - loss: 470042566496.8741 - mae: 76881.1328 - val_loss: 585049476911.8984 - val_mae: 73529.3203\n",
            "Epoch 12/50\n",
            "12092303/12092303 [==============================] - 119s 10us/sample - loss: 470511941763.3169 - mae: 77151.8047 - val_loss: 581969965539.6133 - val_mae: 79813.7812\n",
            "Epoch 13/50\n",
            "12092303/12092303 [==============================] - 118s 10us/sample - loss: 469863922831.0071 - mae: 77473.3906 - val_loss: 587361496920.0482 - val_mae: 77874.4922\n",
            "Epoch 14/50\n",
            "12092303/12092303 [==============================] - 119s 10us/sample - loss: 470402328076.3705 - mae: 77017.3125 - val_loss: 583191773043.5364 - val_mae: 76812.1719\n",
            "Epoch 15/50\n",
            "12092303/12092303 [==============================] - 119s 10us/sample - loss: 470377128233.1202 - mae: 76731.2812 - val_loss: 588936841289.6604 - val_mae: 79294.7891\n",
            "Epoch 16/50\n",
            "12092303/12092303 [==============================] - 117s 10us/sample - loss: 470296060511.3519 - mae: 77172.3125 - val_loss: 591341877890.3011 - val_mae: 74700.0000\n",
            "Epoch 17/50\n",
            "12092303/12092303 [==============================] - 116s 10us/sample - loss: 470333533831.4938 - mae: 76595.7109 - val_loss: 584944517003.3065 - val_mae: 77677.7031\n",
            "Epoch 18/50\n",
            "12092303/12092303 [==============================] - 117s 10us/sample - loss: 470909904007.0439 - mae: 76649.6250 - val_loss: 587286576656.0215 - val_mae: 74771.7031\n",
            "Epoch 19/50\n",
            "12092303/12092303 [==============================] - 117s 10us/sample - loss: 471384013224.2797 - mae: 76650.2969 - val_loss: 583905735689.3468 - val_mae: 79215.4219\n",
            "Epoch 20/50\n",
            "12092303/12092303 [==============================] - 116s 10us/sample - loss: 470952068909.9750 - mae: 76828.7031 - val_loss: 584777270168.0583 - val_mae: 80568.9375\n",
            "Epoch 21/50\n",
            "12092303/12092303 [==============================] - 118s 10us/sample - loss: 471362165097.5798 - mae: 76897.2500 - val_loss: 580748538257.3505 - val_mae: 76344.6094\n",
            "Epoch 22/50\n",
            "12092303/12092303 [==============================] - 119s 10us/sample - loss: 470990845184.9885 - mae: 76824.5312 - val_loss: 587882598916.5336 - val_mae: 77197.5469\n",
            "Epoch 23/50\n",
            "12092303/12092303 [==============================] - 119s 10us/sample - loss: 471673961393.1207 - mae: 77547.4141 - val_loss: 585503904760.8488 - val_mae: 77888.7500\n",
            "Epoch 24/50\n",
            "12092303/12092303 [==============================] - 119s 10us/sample - loss: 471647308088.4953 - mae: 76838.2031 - val_loss: 586393535987.4712 - val_mae: 84597.9297\n",
            "Epoch 25/50\n",
            "12092303/12092303 [==============================] - 120s 10us/sample - loss: 472025007863.0003 - mae: 77317.3672 - val_loss: 585459151469.5848 - val_mae: 75125.3828\n",
            "Epoch 26/50\n",
            "12092303/12092303 [==============================] - 119s 10us/sample - loss: 472217822958.6815 - mae: 77337.2422 - val_loss: 583015444517.4016 - val_mae: 78855.2969\n",
            "Epoch 27/50\n",
            "12092303/12092303 [==============================] - 119s 10us/sample - loss: 471809406275.6329 - mae: 76834.8828 - val_loss: 584475063257.9818 - val_mae: 75021.0781\n",
            "Epoch 28/50\n",
            "12092303/12092303 [==============================] - 120s 10us/sample - loss: 470811150289.2899 - mae: 76513.8281 - val_loss: 583230904683.7449 - val_mae: 76821.4219\n",
            "Epoch 29/50\n",
            "12092303/12092303 [==============================] - 119s 10us/sample - loss: 469770869304.1527 - mae: 76414.6875 - val_loss: 587884653594.9332 - val_mae: 76855.9453\n",
            "Epoch 30/50\n",
            " 4076400/12092303 [=========>....................] - ETA: 1:05 - loss: 439726651050.0889 - mae: 76794.3594Buffered data was truncated after reaching the output size limit."
          ],
          "name": "stdout"
        }
      ]
    },
    {
      "cell_type": "code",
      "metadata": {
        "id": "tW4cbqGkZKZx",
        "colab_type": "code",
        "colab": {
          "base_uri": "https://localhost:8080/",
          "height": 204
        },
        "outputId": "14737ba2-f1ff-4bb9-872e-8541eca1871a"
      },
      "source": [
        "hist = pd.DataFrame(history.history)\n",
        "hist['epoch'] = history.epoch\n",
        "hist.head()"
      ],
      "execution_count": 11,
      "outputs": [
        {
          "output_type": "execute_result",
          "data": {
            "text/html": [
              "<div>\n",
              "<style scoped>\n",
              "    .dataframe tbody tr th:only-of-type {\n",
              "        vertical-align: middle;\n",
              "    }\n",
              "\n",
              "    .dataframe tbody tr th {\n",
              "        vertical-align: top;\n",
              "    }\n",
              "\n",
              "    .dataframe thead th {\n",
              "        text-align: right;\n",
              "    }\n",
              "</style>\n",
              "<table border=\"1\" class=\"dataframe\">\n",
              "  <thead>\n",
              "    <tr style=\"text-align: right;\">\n",
              "      <th></th>\n",
              "      <th>loss</th>\n",
              "      <th>mae</th>\n",
              "      <th>val_loss</th>\n",
              "      <th>val_mae</th>\n",
              "      <th>epoch</th>\n",
              "    </tr>\n",
              "  </thead>\n",
              "  <tbody>\n",
              "    <tr>\n",
              "      <th>0</th>\n",
              "      <td>4.713839e+11</td>\n",
              "      <td>79498.156250</td>\n",
              "      <td>5.832955e+11</td>\n",
              "      <td>78980.546875</td>\n",
              "      <td>0</td>\n",
              "    </tr>\n",
              "    <tr>\n",
              "      <th>1</th>\n",
              "      <td>4.703957e+11</td>\n",
              "      <td>77949.960938</td>\n",
              "      <td>5.856690e+11</td>\n",
              "      <td>80867.351562</td>\n",
              "      <td>1</td>\n",
              "    </tr>\n",
              "    <tr>\n",
              "      <th>2</th>\n",
              "      <td>4.700779e+11</td>\n",
              "      <td>77699.421875</td>\n",
              "      <td>5.839802e+11</td>\n",
              "      <td>81395.773438</td>\n",
              "      <td>2</td>\n",
              "    </tr>\n",
              "    <tr>\n",
              "      <th>3</th>\n",
              "      <td>4.699391e+11</td>\n",
              "      <td>77331.882812</td>\n",
              "      <td>5.846697e+11</td>\n",
              "      <td>74166.687500</td>\n",
              "      <td>3</td>\n",
              "    </tr>\n",
              "    <tr>\n",
              "      <th>4</th>\n",
              "      <td>4.694937e+11</td>\n",
              "      <td>76992.070312</td>\n",
              "      <td>5.841099e+11</td>\n",
              "      <td>75401.742188</td>\n",
              "      <td>4</td>\n",
              "    </tr>\n",
              "  </tbody>\n",
              "</table>\n",
              "</div>"
            ],
            "text/plain": [
              "           loss           mae      val_loss       val_mae  epoch\n",
              "0  4.713839e+11  79498.156250  5.832955e+11  78980.546875      0\n",
              "1  4.703957e+11  77949.960938  5.856690e+11  80867.351562      1\n",
              "2  4.700779e+11  77699.421875  5.839802e+11  81395.773438      2\n",
              "3  4.699391e+11  77331.882812  5.846697e+11  74166.687500      3\n",
              "4  4.694937e+11  76992.070312  5.841099e+11  75401.742188      4"
            ]
          },
          "metadata": {
            "tags": []
          },
          "execution_count": 11
        }
      ]
    },
    {
      "cell_type": "code",
      "metadata": {
        "id": "6L-Gqrcaetr8",
        "colab_type": "code",
        "colab": {}
      },
      "source": [
        "#hist.plot(\"loss\", \"epoch\", label = \"loss\")"
      ],
      "execution_count": 0,
      "outputs": []
    },
    {
      "cell_type": "markdown",
      "metadata": {
        "id": "dgQZF_g566u_",
        "colab_type": "text"
      },
      "source": [
        "### Functional API"
      ]
    },
    {
      "cell_type": "code",
      "metadata": {
        "id": "LuCwhNoB6viS",
        "colab_type": "code",
        "colab": {}
      },
      "source": [
        "keras.backend.clear_session()\n",
        "np.random.seed(42)\n",
        "tf.random.set_seed(42)"
      ],
      "execution_count": 0,
      "outputs": []
    },
    {
      "cell_type": "code",
      "metadata": {
        "id": "7Ojoj4rp7LbH",
        "colab_type": "code",
        "colab": {}
      },
      "source": [
        "input_ = keras.layers.Input(shape=input_shape)\n",
        "hidden1 = keras.layers.Dense(200, activation=\"relu\")(input_)\n",
        "hidden2 = keras.layers.Dense(150, activation=\"relu\")(hidden1)\n",
        "hidden3 = keras.layers.Dense(100,activation=\"relu\")(hidden2)\n",
        "hidden4 = keras.layers.Dense(100,activation=\"relu\")(hidden3)\n",
        "concat = keras.layers.concatenate([input_, hidden4])\n",
        "output = keras.layers.Dense(1)(concat)\n",
        "model = keras.models.Model(inputs=[input_], outputs=[output])"
      ],
      "execution_count": 0,
      "outputs": []
    },
    {
      "cell_type": "code",
      "metadata": {
        "id": "Gu8OdkPOrk98",
        "colab_type": "code",
        "colab": {
          "base_uri": "https://localhost:8080/",
          "height": 1000
        },
        "outputId": "5e14a1ed-d503-4877-85e8-c6cc6b227c49"
      },
      "source": [
        "model.compile(loss = 'mse', optimizer= keras.optimizers.RMSprop(lr=0.001), metrics =['mae'])\n",
        "history = model.fit(train_features, train_target, batch_size = 1000, epochs = 50, validation_split = 0.30)"
      ],
      "execution_count": 25,
      "outputs": [
        {
          "output_type": "stream",
          "text": [
            "Train on 12092303 samples, validate on 5182416 samples\n",
            "Epoch 1/50\n",
            "12092303/12092303 [==============================] - 73s 6us/sample - loss: 471844229735.3839 - mae: 81249.8047 - val_loss: 582917092916.4438 - val_mae: 79030.6875\n",
            "Epoch 2/50\n",
            "12092303/12092303 [==============================] - 72s 6us/sample - loss: 468889795991.3632 - mae: 78031.0000 - val_loss: 583763347798.9409 - val_mae: 80290.6562\n",
            "Epoch 3/50\n",
            "12092303/12092303 [==============================] - 72s 6us/sample - loss: 468511849580.7356 - mae: 77507.6016 - val_loss: 581996323524.7345 - val_mae: 79232.0547\n",
            "Epoch 4/50\n",
            "12092303/12092303 [==============================] - 72s 6us/sample - loss: 468437197862.0334 - mae: 77005.4531 - val_loss: 581966319280.2372 - val_mae: 75266.9766\n",
            "Epoch 5/50\n",
            "12092303/12092303 [==============================] - 72s 6us/sample - loss: 468259954140.2681 - mae: 76577.0234 - val_loss: 582980963290.1763 - val_mae: 75476.0312\n",
            "Epoch 6/50\n",
            "12092303/12092303 [==============================] - 72s 6us/sample - loss: 468543913692.2404 - mae: 76369.6094 - val_loss: 583885659317.0790 - val_mae: 74007.5000\n",
            "Epoch 7/50\n",
            "12092303/12092303 [==============================] - 72s 6us/sample - loss: 468973598648.7742 - mae: 76318.7188 - val_loss: 580776153237.4612 - val_mae: 77508.8359\n",
            "Epoch 8/50\n",
            "12092303/12092303 [==============================] - 72s 6us/sample - loss: 469531013743.7892 - mae: 76111.2500 - val_loss: 585564624681.3131 - val_mae: 75773.5938\n",
            "Epoch 9/50\n",
            "12092303/12092303 [==============================] - 72s 6us/sample - loss: 470095495354.6564 - mae: 76323.2500 - val_loss: 584780458352.9440 - val_mae: 76565.3281\n",
            "Epoch 10/50\n",
            "12092303/12092303 [==============================] - 72s 6us/sample - loss: 469753118143.2094 - mae: 76577.7969 - val_loss: 586488306181.0488 - val_mae: 73731.2344\n",
            "Epoch 11/50\n",
            "12092303/12092303 [==============================] - 72s 6us/sample - loss: 469643527175.0544 - mae: 76569.0391 - val_loss: 583349981650.8860 - val_mae: 76111.8828\n",
            "Epoch 12/50\n",
            "12092303/12092303 [==============================] - 72s 6us/sample - loss: 469060807778.1511 - mae: 76424.1328 - val_loss: 581438704903.3132 - val_mae: 79051.3984\n",
            "Epoch 13/50\n",
            "12092303/12092303 [==============================] - 73s 6us/sample - loss: 468981931576.7385 - mae: 76373.8828 - val_loss: 583007817910.8889 - val_mae: 76653.5391\n",
            "Epoch 14/50\n",
            "12092303/12092303 [==============================] - 72s 6us/sample - loss: 468754868121.2844 - mae: 76313.5312 - val_loss: 583382661302.6849 - val_mae: 77590.5703\n",
            "Epoch 15/50\n",
            "12092303/12092303 [==============================] - 72s 6us/sample - loss: 468451073651.6335 - mae: 76322.3672 - val_loss: 584190148339.7201 - val_mae: 74875.7109\n",
            "Epoch 16/50\n",
            "12092303/12092303 [==============================] - 72s 6us/sample - loss: 468190414470.2258 - mae: 76248.2188 - val_loss: 583892926915.1229 - val_mae: 75515.1719\n",
            "Epoch 17/50\n",
            "12092303/12092303 [==============================] - 72s 6us/sample - loss: 468257653043.6066 - mae: 76287.5234 - val_loss: 580366624618.2401 - val_mae: 76465.9453\n",
            "Epoch 18/50\n",
            "12092303/12092303 [==============================] - 72s 6us/sample - loss: 468262865215.1138 - mae: 76349.5469 - val_loss: 585161446862.7903 - val_mae: 74189.0156\n",
            "Epoch 19/50\n",
            "12092303/12092303 [==============================] - 72s 6us/sample - loss: 468232688484.8562 - mae: 76547.3984 - val_loss: 581184707177.0157 - val_mae: 77655.8828\n",
            "Epoch 20/50\n",
            "12092303/12092303 [==============================] - 72s 6us/sample - loss: 468272503896.6097 - mae: 76540.8438 - val_loss: 583725991445.1438 - val_mae: 80591.4922\n",
            "Epoch 21/50\n",
            "12092303/12092303 [==============================] - 72s 6us/sample - loss: 468517873639.8350 - mae: 76496.4297 - val_loss: 578935467142.7556 - val_mae: 77385.6406\n",
            "Epoch 22/50\n",
            "12092303/12092303 [==============================] - 73s 6us/sample - loss: 468564683389.1039 - mae: 76538.1953 - val_loss: 582960360292.2712 - val_mae: 77249.1562\n",
            "Epoch 23/50\n",
            "12092303/12092303 [==============================] - 72s 6us/sample - loss: 468457763126.2178 - mae: 76472.6641 - val_loss: 581769630646.2052 - val_mae: 76330.6328\n",
            "Epoch 24/50\n",
            "12092303/12092303 [==============================] - 72s 6us/sample - loss: 468481483808.2067 - mae: 76384.3047 - val_loss: 581460466822.4933 - val_mae: 79793.1406\n",
            "Epoch 25/50\n",
            "12092303/12092303 [==============================] - 72s 6us/sample - loss: 467934559051.7026 - mae: 76400.2266 - val_loss: 580608687762.7550 - val_mae: 76630.2812\n",
            "Epoch 26/50\n",
            "12092303/12092303 [==============================] - 73s 6us/sample - loss: 467768822344.2177 - mae: 76386.6719 - val_loss: 579965637821.9215 - val_mae: 78269.3594\n",
            "Epoch 27/50\n",
            "12092303/12092303 [==============================] - 73s 6us/sample - loss: 468234264872.6875 - mae: 76322.1719 - val_loss: 580171093789.4576 - val_mae: 75546.4844\n",
            "Epoch 28/50\n",
            "12092303/12092303 [==============================] - 72s 6us/sample - loss: 468355026875.2989 - mae: 76321.9375 - val_loss: 580575940017.3887 - val_mae: 78181.8672\n",
            "Epoch 29/50\n",
            "12092303/12092303 [==============================] - 72s 6us/sample - loss: 467675022214.9131 - mae: 76263.0703 - val_loss: 585572426245.3982 - val_mae: 74513.6719\n",
            "Epoch 30/50\n",
            "12092303/12092303 [==============================] - 73s 6us/sample - loss: 468234775544.4686 - mae: 76368.0000 - val_loss: 580179520735.8724 - val_mae: 77664.1094\n",
            "Epoch 31/50\n",
            "12092303/12092303 [==============================] - 73s 6us/sample - loss: 468441868744.7114 - mae: 76483.4844 - val_loss: 585133223589.6005 - val_mae: 76731.7188\n",
            "Epoch 32/50\n",
            "12092303/12092303 [==============================] - 72s 6us/sample - loss: 468546564401.3223 - mae: 76583.3359 - val_loss: 586947597630.3005 - val_mae: 78330.5000\n",
            "Epoch 33/50\n",
            "12092303/12092303 [==============================] - 72s 6us/sample - loss: 468566848163.5795 - mae: 76819.7422 - val_loss: 586002727228.5238 - val_mae: 76094.4375\n",
            "Epoch 34/50\n",
            "12092303/12092303 [==============================] - 72s 6us/sample - loss: 468972608636.6496 - mae: 76805.2344 - val_loss: 583073061626.9330 - val_mae: 74963.7969\n",
            "Epoch 35/50\n",
            "12092303/12092303 [==============================] - 72s 6us/sample - loss: 469037714152.3041 - mae: 76855.1875 - val_loss: 585289515970.2977 - val_mae: 75137.6016\n",
            "Epoch 36/50\n",
            "12092303/12092303 [==============================] - 72s 6us/sample - loss: 468595664550.7869 - mae: 76957.3438 - val_loss: 587683032935.8184 - val_mae: 75054.3047\n",
            "Epoch 37/50\n",
            "12092303/12092303 [==============================] - 72s 6us/sample - loss: 468236308070.7816 - mae: 76896.3438 - val_loss: 579531785365.3647 - val_mae: 75487.1484\n",
            "Epoch 38/50\n",
            "12092303/12092303 [==============================] - 72s 6us/sample - loss: 468035960814.7266 - mae: 76921.7109 - val_loss: 585764295789.6473 - val_mae: 74486.7500\n",
            "Epoch 39/50\n",
            "12092303/12092303 [==============================] - 72s 6us/sample - loss: 468639397182.2813 - mae: 76918.4688 - val_loss: 580487453244.8914 - val_mae: 79324.8984\n",
            "Epoch 40/50\n",
            "12092303/12092303 [==============================] - 72s 6us/sample - loss: 468730428533.6679 - mae: 76922.6250 - val_loss: 581967343176.4053 - val_mae: 79556.7656\n",
            "Epoch 41/50\n",
            "12092303/12092303 [==============================] - 72s 6us/sample - loss: 468609863201.8711 - mae: 77154.2891 - val_loss: 584714878257.7543 - val_mae: 75375.9609\n",
            "Epoch 42/50\n",
            "12092303/12092303 [==============================] - 72s 6us/sample - loss: 468586601349.8702 - mae: 77318.4297 - val_loss: 581687481788.9834 - val_mae: 75760.5391\n",
            "Epoch 43/50\n",
            "12092303/12092303 [==============================] - 73s 6us/sample - loss: 468951073964.5670 - mae: 77595.0781 - val_loss: 580887269353.9125 - val_mae: 80345.8047\n",
            "Epoch 44/50\n",
            "12092303/12092303 [==============================] - 72s 6us/sample - loss: 469089319084.3541 - mae: 77704.4219 - val_loss: 580396148095.3270 - val_mae: 75802.8281\n",
            "Epoch 45/50\n",
            "12092303/12092303 [==============================] - 72s 6us/sample - loss: 468757057910.6945 - mae: 77771.5469 - val_loss: 584828067390.8593 - val_mae: 76938.1250\n",
            "Epoch 46/50\n",
            "12092303/12092303 [==============================] - 72s 6us/sample - loss: 469229058020.5995 - mae: 77834.1484 - val_loss: 582718228371.0419 - val_mae: 86903.0312\n",
            "Epoch 47/50\n",
            "12092303/12092303 [==============================] - 72s 6us/sample - loss: 468963755672.8589 - mae: 77938.7656 - val_loss: 580401163482.9153 - val_mae: 79699.3203\n",
            "Epoch 48/50\n",
            "12092303/12092303 [==============================] - 74s 6us/sample - loss: 469312193303.6575 - mae: 77630.3359 - val_loss: 581286191393.2815 - val_mae: 75863.4609\n",
            "Epoch 49/50\n",
            "12092303/12092303 [==============================] - 72s 6us/sample - loss: 468835772468.3899 - mae: 77626.4141 - val_loss: 581924649854.5240 - val_mae: 78998.5391\n",
            "Epoch 50/50\n",
            "12092303/12092303 [==============================] - 72s 6us/sample - loss: 468563956723.7809 - mae: 77574.7500 - val_loss: 580096445517.6501 - val_mae: 80685.5625\n"
          ],
          "name": "stdout"
        }
      ]
    },
    {
      "cell_type": "code",
      "metadata": {
        "id": "ej13XYajtX5e",
        "colab_type": "code",
        "colab": {}
      },
      "source": [
        "#plt.plot(pd.DataFrame(history.history))\n",
        "#plt.grid(True)\n",
        "#plt.gca().set_ylim(0,1)\n",
        "#plt.show()"
      ],
      "execution_count": 0,
      "outputs": []
    },
    {
      "cell_type": "markdown",
      "metadata": {
        "id": "BWB9iBjutcbw",
        "colab_type": "text"
      },
      "source": [
        "### Hyperparameter Tuning"
      ]
    },
    {
      "cell_type": "code",
      "metadata": {
        "id": "t77cWgeWtf1r",
        "colab_type": "code",
        "colab": {}
      },
      "source": [
        "keras.backend.clear_session()\n",
        "np.random.seed(42)\n",
        "tf.random.set_seed(42)"
      ],
      "execution_count": 0,
      "outputs": []
    },
    {
      "cell_type": "code",
      "metadata": {
        "id": "kdrAgnBatkAx",
        "colab_type": "code",
        "colab": {}
      },
      "source": [
        ""
      ],
      "execution_count": 0,
      "outputs": []
    }
  ]
}